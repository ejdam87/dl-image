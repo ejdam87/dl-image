{
  "cells": [
    {
      "cell_type": "markdown",
      "metadata": {
        "id": "XG9VoBsR9auy"
      },
      "source": [
        "# Exercise 1"
      ]
    },
    {
      "cell_type": "markdown",
      "source": [
        "Name: Adam Dzadon\n",
        "\n",
        "Student number: 2407741"
      ],
      "metadata": {
        "id": "VpuACBqTX2wN"
      }
    },
    {
      "cell_type": "markdown",
      "metadata": {
        "id": "ZmGK0zDMdM5l"
      },
      "source": [
        "## Libraries"
      ]
    },
    {
      "cell_type": "markdown",
      "metadata": {
        "id": "wTYgQVMG9grQ"
      },
      "source": [
        "First, let us import and install all the libraries we are going to use for the exercise."
      ]
    },
    {
      "cell_type": "markdown",
      "source": [
        "We are going to use:\n",
        "\n",
        "*   [PyTorch](https://pytorch.org/) for neural network building blocks and training resources\n",
        "*   [Pandas](https://pandas.pydata.org/docs/) for pretty table printing\n",
        "*   [NumPy](https://numpy.org/doc/) for fast numerical computations\n",
        "*   [Matplotlib](https://matplotlib.org/stable/index.html) for data visualization\n",
        "*   [tqdm](https://tqdm.github.io/) for progress bar during the training\n"
      ],
      "metadata": {
        "id": "fVc1k5XyvF68"
      }
    },
    {
      "cell_type": "code",
      "execution_count": null,
      "metadata": {
        "colab": {
          "base_uri": "https://localhost:8080/"
        },
        "id": "uYXsmCzCWSvP",
        "outputId": "4d1a74ed-c4ed-400c-f055-47c63c355f24"
      },
      "outputs": [
        {
          "output_type": "stream",
          "name": "stdout",
          "text": [
            "Collecting torchmetrics\n",
            "  Downloading torchmetrics-1.5.2-py3-none-any.whl.metadata (20 kB)\n",
            "Requirement already satisfied: numpy>1.20.0 in /usr/local/lib/python3.10/dist-packages (from torchmetrics) (1.26.4)\n",
            "Requirement already satisfied: packaging>17.1 in /usr/local/lib/python3.10/dist-packages (from torchmetrics) (24.1)\n",
            "Requirement already satisfied: torch>=1.10.0 in /usr/local/lib/python3.10/dist-packages (from torchmetrics) (2.5.0+cpu)\n",
            "Collecting lightning-utilities>=0.8.0 (from torchmetrics)\n",
            "  Downloading lightning_utilities-0.11.8-py3-none-any.whl.metadata (5.2 kB)\n",
            "Requirement already satisfied: setuptools in /usr/local/lib/python3.10/dist-packages (from lightning-utilities>=0.8.0->torchmetrics) (75.1.0)\n",
            "Requirement already satisfied: typing-extensions in /usr/local/lib/python3.10/dist-packages (from lightning-utilities>=0.8.0->torchmetrics) (4.12.2)\n",
            "Requirement already satisfied: filelock in /usr/local/lib/python3.10/dist-packages (from torch>=1.10.0->torchmetrics) (3.16.1)\n",
            "Requirement already satisfied: networkx in /usr/local/lib/python3.10/dist-packages (from torch>=1.10.0->torchmetrics) (3.4.2)\n",
            "Requirement already satisfied: jinja2 in /usr/local/lib/python3.10/dist-packages (from torch>=1.10.0->torchmetrics) (3.1.4)\n",
            "Requirement already satisfied: fsspec in /usr/local/lib/python3.10/dist-packages (from torch>=1.10.0->torchmetrics) (2024.10.0)\n",
            "Requirement already satisfied: sympy==1.13.1 in /usr/local/lib/python3.10/dist-packages (from torch>=1.10.0->torchmetrics) (1.13.1)\n",
            "Requirement already satisfied: mpmath<1.4,>=1.1.0 in /usr/local/lib/python3.10/dist-packages (from sympy==1.13.1->torch>=1.10.0->torchmetrics) (1.3.0)\n",
            "Requirement already satisfied: MarkupSafe>=2.0 in /usr/local/lib/python3.10/dist-packages (from jinja2->torch>=1.10.0->torchmetrics) (3.0.2)\n",
            "Downloading torchmetrics-1.5.2-py3-none-any.whl (891 kB)\n",
            "\u001b[2K   \u001b[90m━━━━━━━━━━━━━━━━━━━━━━━━━━━━━━━━━━━━━━━━\u001b[0m \u001b[32m891.4/891.4 kB\u001b[0m \u001b[31m12.7 MB/s\u001b[0m eta \u001b[36m0:00:00\u001b[0m\n",
            "\u001b[?25hDownloading lightning_utilities-0.11.8-py3-none-any.whl (26 kB)\n",
            "Installing collected packages: lightning-utilities, torchmetrics\n",
            "Successfully installed lightning-utilities-0.11.8 torchmetrics-1.5.2\n"
          ]
        }
      ],
      "source": [
        "!pip install torchmetrics"
      ]
    },
    {
      "cell_type": "code",
      "execution_count": null,
      "metadata": {
        "id": "O4MkT9Uq9D-e"
      },
      "outputs": [],
      "source": [
        "import torch\n",
        "import torchvision\n",
        "import torchmetrics\n",
        "from torch.utils.data import DataLoader\n",
        "from torch import nn\n",
        "import numpy as np\n",
        "import pandas as pd\n",
        "import matplotlib.pyplot as plt\n",
        "from tqdm import tqdm"
      ]
    },
    {
      "cell_type": "markdown",
      "metadata": {
        "id": "yIgKg7yd-PXv"
      },
      "source": [
        "## NN architecture"
      ]
    },
    {
      "cell_type": "markdown",
      "metadata": {
        "id": "PyfAE82L-Ito"
      },
      "source": [
        "Next, we are going to implement our CNN:"
      ]
    },
    {
      "cell_type": "code",
      "execution_count": null,
      "metadata": {
        "id": "M8Pn4sxs-VhO"
      },
      "outputs": [],
      "source": [
        "class CNN(nn.Module):\n",
        "    def __init__(self,\n",
        "                 in_size: tuple[int, int],\n",
        "                 in_dim: int,\n",
        "                 out_classes: int,\n",
        "                 activation: nn.Module,\n",
        "                 output_activation) -> None:\n",
        "        \"\"\"\n",
        "        Parameters:\n",
        "            - in_size          : spatial dimensions of input images\n",
        "            - in_dim           : number of channels of input images\n",
        "            - out_classes      : target number of classes\n",
        "            - activation       : node function used in hidden layers\n",
        "            - output_actiation : final activation\n",
        "        \"\"\"\n",
        "        super().__init__()\n",
        "\n",
        "        conv_w = in_size[0] // 8\n",
        "        conv_h = in_size[1] // 8\n",
        "\n",
        "        self.network = nn.Sequential(\n",
        "            nn.Conv2d(in_dim, 32, 3, padding=\"same\"),\n",
        "            activation(),\n",
        "            nn.MaxPool2d(2),\n",
        "\n",
        "            nn.Conv2d(32, 64, 3, padding=\"same\"),\n",
        "            activation(),\n",
        "            nn.MaxPool2d(2),\n",
        "\n",
        "            nn.Conv2d(64, 128, 3, padding=\"same\"),\n",
        "            activation(),\n",
        "            nn.MaxPool2d(2),\n",
        "\n",
        "            nn.Flatten(),\n",
        "\n",
        "            nn.Linear(128 * conv_w * conv_h, 64),\n",
        "            activation(),\n",
        "            nn.Linear(64, out_classes)\n",
        "        )\n",
        "\n",
        "        self.output_activation = output_activation\n",
        "\n",
        "    def forward(self, x: torch.tensor) -> torch.tensor:\n",
        "        return self.output_activation(self.network(x))"
      ]
    },
    {
      "cell_type": "markdown",
      "metadata": {
        "id": "4alltx8iFE63"
      },
      "source": [
        "At the abstract level, our CNN consists of two main parts:\n",
        "\n",
        "*   Feature extractor\n",
        "*   Classifier\n",
        "\n",
        "The purpose of feature extractor is to extract features from the input image. In classical ML setup, this would be done by humans beforehand. For feature extraction, convolutional layers are used in our models. They offer high level of positional invariance of the features. Each convolution kernel is \"looking\" for a specific feature in the whole input. In deeper layers, the convolutions work with already processed version of the image, thus, looking for more abstract concepts. Finally, the pooling layers reduce the spatial dimension and increase the positional invariance.\n",
        "\n",
        "Regarding the classifier, it is a classic MLP network taking a vector of \"features\" as an input, and returns a probability vector giving a probability that the sample belongs to each class."
      ]
    },
    {
      "cell_type": "markdown",
      "metadata": {
        "id": "43KA_yJlJIeE"
      },
      "source": [
        "## Data preparation"
      ]
    },
    {
      "cell_type": "markdown",
      "metadata": {
        "id": "LkFrN08-JL-c"
      },
      "source": [
        "In this exercise, we work with two datasets:\n",
        "\n",
        "\n",
        "*   MNIST\n",
        "*   CIFAR10\n",
        "\n"
      ]
    },
    {
      "cell_type": "markdown",
      "metadata": {
        "id": "9TfBRVUVJR05"
      },
      "source": [
        "Both of these are already present and preprocessed in PyTorch library, thus, we are going to use them."
      ]
    },
    {
      "cell_type": "markdown",
      "metadata": {
        "id": "pV03bjZ0LBbC"
      },
      "source": [
        "Let us visualize a couple of images together with their corresponding labels (expected outputs):"
      ]
    },
    {
      "cell_type": "code",
      "execution_count": null,
      "metadata": {
        "id": "ABy5yeovLJda"
      },
      "outputs": [],
      "source": [
        "def show_images(ims: list[torch.tensor], labels: list[int | str], preds: list[int | str]=None, mnist: bool=True) -> None:\n",
        "    assert len(ims) == len(labels)\n",
        "\n",
        "    rows, cols = len(ims) // 3, 3\n",
        "    fig, axes = plt.subplots(rows, cols, figsize=(10, 10))\n",
        "\n",
        "    for i in range(len(ims)):\n",
        "        row, col = divmod(i, cols)\n",
        "\n",
        "        if mnist:\n",
        "            image_np = (ims[i].permute(1, 2, 0) * 255).to(torch.uint8).numpy()\n",
        "            axes[row, col].imshow(image_np, cmap='gray')\n",
        "        else:\n",
        "            image_np = (((ims[i].permute(1, 2, 0) + 1) / 2) * 255).to(torch.uint8).numpy()\n",
        "            axes[row, col].imshow(image_np)\n",
        "\n",
        "        axes[row, col].axis('off')\n",
        "\n",
        "        desc = \"Target: \" + str(labels[i]) + \"\\n\" + \"Prediction: \" + str(preds[i]) if preds is not None else labels[i]\n",
        "        axes[row, col].set_title(desc, fontsize=12)"
      ]
    },
    {
      "cell_type": "markdown",
      "metadata": {
        "id": "khmCdzS3KXgg"
      },
      "source": [
        "### MNIST"
      ]
    },
    {
      "cell_type": "code",
      "execution_count": null,
      "metadata": {
        "id": "I8tU9iHSJdZ2",
        "colab": {
          "base_uri": "https://localhost:8080/"
        },
        "outputId": "66afc885-ea0c-4671-b3ed-a899e5711a67"
      },
      "outputs": [
        {
          "output_type": "stream",
          "name": "stdout",
          "text": [
            "Downloading http://yann.lecun.com/exdb/mnist/train-images-idx3-ubyte.gz\n",
            "Failed to download (trying next):\n",
            "HTTP Error 403: Forbidden\n",
            "\n",
            "Downloading https://ossci-datasets.s3.amazonaws.com/mnist/train-images-idx3-ubyte.gz\n",
            "Downloading https://ossci-datasets.s3.amazonaws.com/mnist/train-images-idx3-ubyte.gz to data/MNIST/raw/train-images-idx3-ubyte.gz\n"
          ]
        },
        {
          "output_type": "stream",
          "name": "stderr",
          "text": [
            "100%|██████████| 9.91M/9.91M [00:00<00:00, 38.8MB/s]\n"
          ]
        },
        {
          "output_type": "stream",
          "name": "stdout",
          "text": [
            "Extracting data/MNIST/raw/train-images-idx3-ubyte.gz to data/MNIST/raw\n",
            "\n",
            "Downloading http://yann.lecun.com/exdb/mnist/train-labels-idx1-ubyte.gz\n",
            "Failed to download (trying next):\n",
            "HTTP Error 403: Forbidden\n",
            "\n",
            "Downloading https://ossci-datasets.s3.amazonaws.com/mnist/train-labels-idx1-ubyte.gz\n",
            "Downloading https://ossci-datasets.s3.amazonaws.com/mnist/train-labels-idx1-ubyte.gz to data/MNIST/raw/train-labels-idx1-ubyte.gz\n"
          ]
        },
        {
          "output_type": "stream",
          "name": "stderr",
          "text": [
            "100%|██████████| 28.9k/28.9k [00:00<00:00, 1.06MB/s]\n"
          ]
        },
        {
          "output_type": "stream",
          "name": "stdout",
          "text": [
            "Extracting data/MNIST/raw/train-labels-idx1-ubyte.gz to data/MNIST/raw\n",
            "\n",
            "Downloading http://yann.lecun.com/exdb/mnist/t10k-images-idx3-ubyte.gz\n",
            "Failed to download (trying next):\n",
            "HTTP Error 403: Forbidden\n",
            "\n",
            "Downloading https://ossci-datasets.s3.amazonaws.com/mnist/t10k-images-idx3-ubyte.gz\n",
            "Downloading https://ossci-datasets.s3.amazonaws.com/mnist/t10k-images-idx3-ubyte.gz to data/MNIST/raw/t10k-images-idx3-ubyte.gz\n"
          ]
        },
        {
          "output_type": "stream",
          "name": "stderr",
          "text": [
            "100%|██████████| 1.65M/1.65M [00:00<00:00, 8.40MB/s]\n"
          ]
        },
        {
          "output_type": "stream",
          "name": "stdout",
          "text": [
            "Extracting data/MNIST/raw/t10k-images-idx3-ubyte.gz to data/MNIST/raw\n",
            "\n",
            "Downloading http://yann.lecun.com/exdb/mnist/t10k-labels-idx1-ubyte.gz\n",
            "Failed to download (trying next):\n",
            "HTTP Error 403: Forbidden\n",
            "\n",
            "Downloading https://ossci-datasets.s3.amazonaws.com/mnist/t10k-labels-idx1-ubyte.gz\n",
            "Downloading https://ossci-datasets.s3.amazonaws.com/mnist/t10k-labels-idx1-ubyte.gz to data/MNIST/raw/t10k-labels-idx1-ubyte.gz\n"
          ]
        },
        {
          "output_type": "stream",
          "name": "stderr",
          "text": [
            "100%|██████████| 4.54k/4.54k [00:00<00:00, 3.23MB/s]"
          ]
        },
        {
          "output_type": "stream",
          "name": "stdout",
          "text": [
            "Extracting data/MNIST/raw/t10k-labels-idx1-ubyte.gz to data/MNIST/raw\n",
            "\n"
          ]
        },
        {
          "output_type": "stream",
          "name": "stderr",
          "text": [
            "\n"
          ]
        }
      ],
      "source": [
        "MNIST_train = torchvision.datasets.MNIST(\n",
        "    root=\"data\",\n",
        "    train=True,\n",
        "    download=True,\n",
        "    transform=torchvision.transforms.ToTensor(),\n",
        ")\n",
        "\n",
        "MNIST_test = torchvision.datasets.MNIST(\n",
        "    root=\"data\",\n",
        "    train=False,\n",
        "    download=True,\n",
        "    transform=torchvision.transforms.ToTensor(),\n",
        ")"
      ]
    },
    {
      "cell_type": "markdown",
      "metadata": {
        "id": "3rTUcKKoKcGO"
      },
      "source": [
        "Let us observe how many images are there in the train and test set respectively:"
      ]
    },
    {
      "cell_type": "code",
      "execution_count": null,
      "metadata": {
        "colab": {
          "base_uri": "https://localhost:8080/"
        },
        "id": "qjIhr3IPKMgv",
        "outputId": "a3fefa7d-4c94-40a6-81b0-6ce709c88b2f"
      },
      "outputs": [
        {
          "output_type": "stream",
          "name": "stdout",
          "text": [
            "Train size: 60000\n",
            "Test size: 10000\n"
          ]
        }
      ],
      "source": [
        "print(\"Train size:\", len(MNIST_train))\n",
        "print(\"Test size:\", len(MNIST_test))"
      ]
    },
    {
      "cell_type": "markdown",
      "metadata": {
        "id": "aqiEyNxGLYA-"
      },
      "source": [
        "Next, let us see the dimensions of our images:"
      ]
    },
    {
      "cell_type": "code",
      "execution_count": null,
      "metadata": {
        "colab": {
          "base_uri": "https://localhost:8080/"
        },
        "id": "CYSTdsj8LQ70",
        "outputId": "bfb66f3f-1905-4e87-8c23-7ea86ac0f220"
      },
      "outputs": [
        {
          "output_type": "stream",
          "name": "stdout",
          "text": [
            "Dimensions: torch.Size([1, 28, 28])\n",
            "Pixel boundaries: tensor(0.) tensor(1.)\n"
          ]
        }
      ],
      "source": [
        "im = MNIST_train[0][0]\n",
        "print(\"Dimensions:\", im.shape)\n",
        "MNIST_dims = im.shape[1], im.shape[2]\n",
        "print(\"Pixel boundaries:\", torch.min(im), torch.max(im))"
      ]
    },
    {
      "cell_type": "markdown",
      "metadata": {
        "id": "nwK_4XjsLeUJ"
      },
      "source": [
        "We observe that they are grayscale (1 color channel) 28x28 images. Also, we see that they are scaled in [0,1] interaval."
      ]
    },
    {
      "cell_type": "markdown",
      "metadata": {
        "id": "xChpmCUQK49S"
      },
      "source": [
        "Since the data are already preprocessed and normalized, we do not need to preprocess it any further."
      ]
    },
    {
      "cell_type": "code",
      "execution_count": null,
      "metadata": {
        "colab": {
          "base_uri": "https://localhost:8080/"
        },
        "id": "tnTkU7vKNDum",
        "outputId": "7a66855e-2a29-43e3-d14e-ed48e26171c0"
      },
      "outputs": [
        {
          "output_type": "display_data",
          "data": {
            "text/plain": [
              "<Figure size 1000x1000 with 9 Axes>"
            ],
            "image/png": "[encoded data removed]"
          },
          "metadata": {}
        }
      ],
      "source": [
        "indices = [2, 8, 153, 205, 308, 587, 1124, 1584, 1963]\n",
        "show_images( [MNIST_train[i][0] for i in indices], [MNIST_train[i][1] for i in indices] )"
      ]
    },
    {
      "cell_type": "markdown",
      "metadata": {
        "id": "hwyF6e5HPBPR"
      },
      "source": [
        "### CIFAR10"
      ]
    },
    {
      "cell_type": "markdown",
      "metadata": {
        "id": "7FAv4HmzPCsK"
      },
      "source": [
        "Next, we will continue with CIFAR10 dataset:"
      ]
    },
    {
      "cell_type": "code",
      "execution_count": null,
      "metadata": {
        "id": "dDo9x5w29pPK"
      },
      "outputs": [],
      "source": [
        "transforms = torchvision.transforms.Compose([\n",
        "    torchvision.transforms.ToTensor(),\n",
        "    torchvision.transforms.Normalize((0.5, 0.5, 0.5), (0.5, 0.5, 0.5))\n",
        "  ]\n",
        ")"
      ]
    },
    {
      "cell_type": "code",
      "execution_count": null,
      "metadata": {
        "colab": {
          "base_uri": "https://localhost:8080/"
        },
        "id": "WalSMv5YPCXE",
        "outputId": "94c4bac4-e318-4944-cc20-0f3a709fabfb"
      },
      "outputs": [
        {
          "output_type": "stream",
          "name": "stdout",
          "text": [
            "Downloading https://www.cs.toronto.edu/~kriz/cifar-10-python.tar.gz to data/cifar-10-python.tar.gz\n"
          ]
        },
        {
          "output_type": "stream",
          "name": "stderr",
          "text": [
            "100%|██████████| 170M/170M [00:02<00:00, 81.7MB/s]\n"
          ]
        },
        {
          "output_type": "stream",
          "name": "stdout",
          "text": [
            "Extracting data/cifar-10-python.tar.gz to data\n",
            "Files already downloaded and verified\n"
          ]
        }
      ],
      "source": [
        "CIFAR10_train = torchvision.datasets.CIFAR10(\n",
        "    root=\"data\",\n",
        "    train=True,\n",
        "    download=True,\n",
        "    transform=transforms,\n",
        ")\n",
        "\n",
        "CIFAR10_test = torchvision.datasets.CIFAR10(\n",
        "    root=\"data\",\n",
        "    train=False,\n",
        "    download=True,\n",
        "    transform=transforms,\n",
        ")"
      ]
    },
    {
      "cell_type": "markdown",
      "metadata": {
        "id": "U9CG2OgKQvxL"
      },
      "source": [
        "We also add a translation for the target classes (from numbers encoding them to names of the classes):"
      ]
    },
    {
      "cell_type": "code",
      "execution_count": null,
      "metadata": {
        "id": "B7NbQZaEQ5ev"
      },
      "outputs": [],
      "source": [
        "CIFAR10_translate = [\"airplane\", \"automobile\", \"bird\", \"cat\", \"deer\", \"dog\", \"frog\", \"horse\", \"ship\", \"truck\"]"
      ]
    },
    {
      "cell_type": "markdown",
      "metadata": {
        "id": "vyXaYafxPQU2"
      },
      "source": [
        "Again, let us observe some characteristics of our data:"
      ]
    },
    {
      "cell_type": "code",
      "execution_count": null,
      "metadata": {
        "colab": {
          "base_uri": "https://localhost:8080/"
        },
        "id": "HCLMwjo0PSvV",
        "outputId": "461244a0-b8b4-4d54-e848-29602ccfe5ff"
      },
      "outputs": [
        {
          "output_type": "stream",
          "name": "stdout",
          "text": [
            "Train size: 50000\n",
            "Test size: 10000\n"
          ]
        }
      ],
      "source": [
        "print(\"Train size:\", len(CIFAR10_train))\n",
        "print(\"Test size:\", len(CIFAR10_test))"
      ]
    },
    {
      "cell_type": "markdown",
      "metadata": {
        "id": "aAGSFdx4PYc_"
      },
      "source": [
        "We observe that this time, we have a bit less training data."
      ]
    },
    {
      "cell_type": "code",
      "execution_count": null,
      "metadata": {
        "colab": {
          "base_uri": "https://localhost:8080/"
        },
        "id": "H_6Zqeg-PdMU",
        "outputId": "ea96069e-ea02-48d4-c56f-8d9a33dfd383"
      },
      "outputs": [
        {
          "output_type": "stream",
          "name": "stdout",
          "text": [
            "Dimensions: torch.Size([3, 32, 32])\n",
            "Pixel boundaries: tensor(-1.) tensor(1.)\n"
          ]
        }
      ],
      "source": [
        "im = CIFAR10_train[0][0]\n",
        "print(\"Dimensions:\", im.shape)\n",
        "CIFAR10_dims = im.shape[1], im.shape[2]\n",
        "print(\"Pixel boundaries:\", torch.min(im), torch.max(im))"
      ]
    },
    {
      "cell_type": "markdown",
      "metadata": {
        "id": "cMWqI4eTPf3X"
      },
      "source": [
        "This time, we see that the images are RGB (3 color channels) and are a bit larger - 32x32. Again, they are rescaled into [-1, 1] interval."
      ]
    },
    {
      "cell_type": "markdown",
      "metadata": {
        "id": "pgAntzXZQBm_"
      },
      "source": [
        "Finally, let us show some images from the dataset:"
      ]
    },
    {
      "cell_type": "code",
      "execution_count": null,
      "metadata": {
        "colab": {
          "base_uri": "https://localhost:8080/",
          "height": 829
        },
        "id": "Qssc7o5mQEvK",
        "outputId": "a2c95c83-1ce2-43d7-b020-fd2b34abbeda"
      },
      "outputs": [
        {
          "output_type": "display_data",
          "data": {
            "text/plain": [
              "<Figure size 1000x1000 with 9 Axes>"
            ],
            "image/png": "[encoded data removed]"
          },
          "metadata": {}
        }
      ],
      "source": [
        "indices = [5, 11, 54, 174, 269, 354, 4123, 5698, 9951]\n",
        "show_images([CIFAR10_train[i][0] for i in indices], [CIFAR10_translate[CIFAR10_train[i][1]] for i in indices], mnist=False)"
      ]
    },
    {
      "cell_type": "markdown",
      "metadata": {
        "id": "cKI91gRjRmRq"
      },
      "source": [
        "## Training"
      ]
    },
    {
      "cell_type": "markdown",
      "metadata": {
        "id": "8rQYNiO-RpCB"
      },
      "source": [
        "Now, we are going to train a collection of models. Namely, for each of the following activation functions...\n",
        "\n",
        "*   Sigmoid\n",
        "*   Hyperbolic Tangent\n",
        "*   ReLU\n",
        "*   ELU\n",
        "*   SELU\n",
        "\n",
        "... and for each dataset, we are going to create one model. This makes 5 * 2 = 10 models in total. We are going to use TPUs for the training acceleration.\n",
        "\n"
      ]
    },
    {
      "cell_type": "markdown",
      "metadata": {
        "id": "qvwUM5VHogYr"
      },
      "source": [
        "Let us collect the objects computing the mentioned activation functions:"
      ]
    },
    {
      "cell_type": "code",
      "execution_count": null,
      "metadata": {
        "id": "EnvtcHAjXv96"
      },
      "outputs": [],
      "source": [
        "activations = [nn.Sigmoid, nn.Tanh, nn.ReLU, nn.ELU, nn.SELU]"
      ]
    },
    {
      "cell_type": "markdown",
      "metadata": {
        "id": "rlYGKpTmoncy"
      },
      "source": [
        "We also define the training procedure together with validation after each epoch:"
      ]
    },
    {
      "cell_type": "code",
      "execution_count": null,
      "metadata": {
        "id": "prpNOBUrTLfj"
      },
      "outputs": [],
      "source": [
        "def train(train_data: DataLoader,\n",
        "          val_data: DataLoader,\n",
        "          model: nn.Module,\n",
        "          loss_fn: nn.Module,\n",
        "          optimizer: torch.optim.Optimizer,\n",
        "          epochs: int) -> tuple[\n",
        "              list[float], list[float], list[float], list[float]\n",
        "              ]:\n",
        "    \"\"\"\n",
        "    Parameters:\n",
        "        - train_data: DataLoader containing training data\n",
        "        - val_data  : DataLoader containing validation (test) data\n",
        "        - model     : CNN to be trained\n",
        "        - loss_fn   : Loss function used\n",
        "        - optimizer : Object performing weight optimization\n",
        "        - epochs    : Number of epochs\n",
        "    \"\"\"\n",
        "\n",
        "    # --- Initialize accuracy computing unit\n",
        "    acc = torchmetrics.classification.Accuracy(task=\"multiclass\", num_classes=10)\n",
        "    # ---\n",
        "\n",
        "    # --- We are going to measure loss and accuracy on train and validation set for each epoch\n",
        "    train_n_batches = len(train_data)\n",
        "    val_n_batches = len(val_data)\n",
        "    train_loss = []\n",
        "    val_loss = []\n",
        "    train_acc = []\n",
        "    val_acc = []\n",
        "    # ---\n",
        "\n",
        "    for epoch in range(epochs):\n",
        "\n",
        "        # --- Training\n",
        "        print(f\"Starting epoch n.{epoch + 1} of training...\")\n",
        "        epoch_loss = 0\n",
        "        epoch_acc = 0\n",
        "        progress_bar = tqdm(train_data, desc=f\"Epoch {epoch + 1}/{epochs}\")\n",
        "\n",
        "        for X_batch, Y_batch in progress_bar:\n",
        "            optimizer.zero_grad() # zero gradients\n",
        "            output = model(X_batch) # calculate model prediction\n",
        "            l = loss_fn(output, Y_batch) # calculate loss\n",
        "            l.backward() # calculate gradient\n",
        "            optimizer.step() # update weights\n",
        "\n",
        "            epoch_loss += l.item()\n",
        "            epoch_acc += acc(output, Y_batch).item()\n",
        "\n",
        "        train_loss.append(epoch_loss / train_n_batches) # epoch loss as an average for all batches\n",
        "        train_acc.append(epoch_acc / train_n_batches) # epoch accuracy as an average for all batches\n",
        "        # ---\n",
        "\n",
        "        # --- Testing\n",
        "        print(\"Starting validation...\")\n",
        "        epoch_loss = 0\n",
        "        epoch_acc = 0\n",
        "\n",
        "        with torch.no_grad():   # no need of gradient for validation\n",
        "            val_progress_bar = tqdm(val_data, desc=\"Validation progress\")\n",
        "            for X_batch, Y_batch in val_progress_bar:\n",
        "\n",
        "                pred = model(X_batch)\n",
        "\n",
        "                epoch_loss += loss_fn(pred, Y_batch).item()\n",
        "                epoch_acc += acc(pred, Y_batch).item()\n",
        "\n",
        "            val_loss.append(epoch_loss / val_n_batches)\n",
        "            val_acc.append(epoch_acc / val_n_batches)\n",
        "            print(\"Epoch accuracy: \", epoch_acc / val_n_batches)\n",
        "\n",
        "        print()\n",
        "        # ---\n",
        "\n",
        "    return train_loss, val_loss, train_acc, val_acc"
      ]
    },
    {
      "cell_type": "markdown",
      "metadata": {
        "id": "k09ZOcxQ9UdF"
      },
      "source": [
        "### Model training on MNIST"
      ]
    },
    {
      "cell_type": "markdown",
      "metadata": {
        "id": "RO9KasFkp1uw"
      },
      "source": [
        "First, we define training hyper-parameters:"
      ]
    },
    {
      "cell_type": "code",
      "execution_count": null,
      "metadata": {
        "id": "9ASvhl8Jn6Mq"
      },
      "outputs": [],
      "source": [
        "batch_size = 64\n",
        "loss = nn.CrossEntropyLoss()\n",
        "optim = torch.optim.Adam\n",
        "lr = 0.001\n",
        "epochs = 10"
      ]
    },
    {
      "cell_type": "markdown",
      "metadata": {
        "id": "g7LGyCnapi0V"
      },
      "source": [
        "Next, we create a DataLoader for MNIST dataset. We are going to use multiple processing for data loading to accelerate the training process."
      ]
    },
    {
      "cell_type": "code",
      "execution_count": null,
      "metadata": {
        "id": "kYFq159ioPqo"
      },
      "outputs": [],
      "source": [
        "MNIST_train_dataloader = DataLoader(MNIST_train, batch_size=batch_size, num_workers=16)\n",
        "MNIST_test_dataloader = DataLoader(MNIST_test, batch_size=batch_size, num_workers=8)"
      ]
    },
    {
      "cell_type": "markdown",
      "metadata": {
        "id": "KGM1satCps57"
      },
      "source": [
        "Then, we create a model for each activation function:"
      ]
    },
    {
      "cell_type": "code",
      "execution_count": null,
      "metadata": {
        "id": "q-srIfotn8HX"
      },
      "outputs": [],
      "source": [
        "MNIST_models = [CNN(MNIST_dims, 1, 10, activation, nn.Softmax(dim=1)) for activation in activations]"
      ]
    },
    {
      "cell_type": "markdown",
      "metadata": {
        "id": "AXjfHZ7vql7Y"
      },
      "source": [
        "Finally, we perform the training and capture the loss and accuracy per epoch:"
      ]
    },
    {
      "cell_type": "code",
      "execution_count": null,
      "metadata": {
        "colab": {
          "base_uri": "https://localhost:8080/"
        },
        "collapsed": true,
        "id": "ty5d7A8vZaJn",
        "outputId": "107d10d3-65c0-4a7f-9fe1-e7be14218bcd"
      },
      "outputs": [
        {
          "output_type": "stream",
          "name": "stdout",
          "text": [
            "CNN(\n",
            "  (network): Sequential(\n",
            "    (0): Conv2d(1, 32, kernel_size=(3, 3), stride=(1, 1), padding=same)\n",
            "    (1): Sigmoid()\n",
            "    (2): MaxPool2d(kernel_size=2, stride=2, padding=0, dilation=1, ceil_mode=False)\n",
            "    (3): Conv2d(32, 64, kernel_size=(3, 3), stride=(1, 1), padding=same)\n",
            "    (4): Sigmoid()\n",
            "    (5): MaxPool2d(kernel_size=2, stride=2, padding=0, dilation=1, ceil_mode=False)\n",
            "    (6): Conv2d(64, 128, kernel_size=(3, 3), stride=(1, 1), padding=same)\n",
            "    (7): Sigmoid()\n",
            "    (8): MaxPool2d(kernel_size=2, stride=2, padding=0, dilation=1, ceil_mode=False)\n",
            "    (9): Flatten(start_dim=1, end_dim=-1)\n",
            "    (10): Linear(in_features=1152, out_features=64, bias=True)\n",
            "    (11): Sigmoid()\n",
            "    (12): Linear(in_features=64, out_features=10, bias=True)\n",
            "  )\n",
            "  (output_activation): Softmax(dim=1)\n",
            ")\n",
            "Starting epoch n.1 of training...\n"
          ]
        },
        {
          "output_type": "stream",
          "name": "stderr",
          "text": [
            "Epoch 1/10: 100%|██████████| 938/938 [00:12<00:00, 73.04it/s]\n"
          ]
        },
        {
          "output_type": "stream",
          "name": "stdout",
          "text": [
            "Starting validation...\n"
          ]
        },
        {
          "output_type": "stream",
          "name": "stderr",
          "text": [
            "Validation progress: 100%|██████████| 157/157 [00:01<00:00, 100.04it/s]\n"
          ]
        },
        {
          "output_type": "stream",
          "name": "stdout",
          "text": [
            "Epoch accuracy:  0.8635549363057324\n",
            "\n",
            "Starting epoch n.2 of training...\n"
          ]
        },
        {
          "output_type": "stream",
          "name": "stderr",
          "text": [
            "Epoch 2/10: 100%|██████████| 938/938 [00:12<00:00, 72.96it/s]\n"
          ]
        },
        {
          "output_type": "stream",
          "name": "stdout",
          "text": [
            "Starting validation...\n"
          ]
        },
        {
          "output_type": "stream",
          "name": "stderr",
          "text": [
            "Validation progress: 100%|██████████| 157/157 [00:01<00:00, 100.83it/s]\n"
          ]
        },
        {
          "output_type": "stream",
          "name": "stdout",
          "text": [
            "Epoch accuracy:  0.9690485668789809\n",
            "\n",
            "Starting epoch n.3 of training...\n"
          ]
        },
        {
          "output_type": "stream",
          "name": "stderr",
          "text": [
            "Epoch 3/10: 100%|██████████| 938/938 [00:12<00:00, 72.49it/s]\n"
          ]
        },
        {
          "output_type": "stream",
          "name": "stdout",
          "text": [
            "Starting validation...\n"
          ]
        },
        {
          "output_type": "stream",
          "name": "stderr",
          "text": [
            "Validation progress: 100%|██████████| 157/157 [00:01<00:00, 100.17it/s]\n"
          ]
        },
        {
          "output_type": "stream",
          "name": "stdout",
          "text": [
            "Epoch accuracy:  0.9784036624203821\n",
            "\n",
            "Starting epoch n.4 of training...\n"
          ]
        },
        {
          "output_type": "stream",
          "name": "stderr",
          "text": [
            "Epoch 4/10: 100%|██████████| 938/938 [00:12<00:00, 72.24it/s]\n"
          ]
        },
        {
          "output_type": "stream",
          "name": "stdout",
          "text": [
            "Starting validation...\n"
          ]
        },
        {
          "output_type": "stream",
          "name": "stderr",
          "text": [
            "Validation progress: 100%|██████████| 157/157 [00:01<00:00, 102.52it/s]\n"
          ]
        },
        {
          "output_type": "stream",
          "name": "stdout",
          "text": [
            "Epoch accuracy:  0.9837778662420382\n",
            "\n",
            "Starting epoch n.5 of training...\n"
          ]
        },
        {
          "output_type": "stream",
          "name": "stderr",
          "text": [
            "Epoch 5/10: 100%|██████████| 938/938 [00:12<00:00, 74.27it/s]\n"
          ]
        },
        {
          "output_type": "stream",
          "name": "stdout",
          "text": [
            "Starting validation...\n"
          ]
        },
        {
          "output_type": "stream",
          "name": "stderr",
          "text": [
            "Validation progress: 100%|██████████| 157/157 [00:01<00:00, 101.05it/s]\n"
          ]
        },
        {
          "output_type": "stream",
          "name": "stdout",
          "text": [
            "Epoch accuracy:  0.9810907643312102\n",
            "\n",
            "Starting epoch n.6 of training...\n"
          ]
        },
        {
          "output_type": "stream",
          "name": "stderr",
          "text": [
            "Epoch 6/10: 100%|██████████| 938/938 [00:12<00:00, 72.58it/s]\n"
          ]
        },
        {
          "output_type": "stream",
          "name": "stdout",
          "text": [
            "Starting validation...\n"
          ]
        },
        {
          "output_type": "stream",
          "name": "stderr",
          "text": [
            "Validation progress: 100%|██████████| 157/157 [00:01<00:00, 99.79it/s] \n"
          ]
        },
        {
          "output_type": "stream",
          "name": "stdout",
          "text": [
            "Epoch accuracy:  0.9864649681528662\n",
            "\n",
            "Starting epoch n.7 of training...\n"
          ]
        },
        {
          "output_type": "stream",
          "name": "stderr",
          "text": [
            "Epoch 7/10: 100%|██████████| 938/938 [00:12<00:00, 75.37it/s]\n"
          ]
        },
        {
          "output_type": "stream",
          "name": "stdout",
          "text": [
            "Starting validation...\n"
          ]
        },
        {
          "output_type": "stream",
          "name": "stderr",
          "text": [
            "Validation progress: 100%|██████████| 157/157 [00:01<00:00, 104.99it/s]\n"
          ]
        },
        {
          "output_type": "stream",
          "name": "stdout",
          "text": [
            "Epoch accuracy:  0.9825835987261147\n",
            "\n",
            "Starting epoch n.8 of training...\n"
          ]
        },
        {
          "output_type": "stream",
          "name": "stderr",
          "text": [
            "Epoch 8/10: 100%|██████████| 938/938 [00:13<00:00, 71.16it/s]\n"
          ]
        },
        {
          "output_type": "stream",
          "name": "stdout",
          "text": [
            "Starting validation...\n"
          ]
        },
        {
          "output_type": "stream",
          "name": "stderr",
          "text": [
            "Validation progress: 100%|██████████| 157/157 [00:01<00:00, 99.82it/s] \n"
          ]
        },
        {
          "output_type": "stream",
          "name": "stdout",
          "text": [
            "Epoch accuracy:  0.9865644904458599\n",
            "\n",
            "Starting epoch n.9 of training...\n"
          ]
        },
        {
          "output_type": "stream",
          "name": "stderr",
          "text": [
            "Epoch 9/10: 100%|██████████| 938/938 [00:12<00:00, 72.38it/s]\n"
          ]
        },
        {
          "output_type": "stream",
          "name": "stdout",
          "text": [
            "Starting validation...\n"
          ]
        },
        {
          "output_type": "stream",
          "name": "stderr",
          "text": [
            "Validation progress: 100%|██████████| 157/157 [00:01<00:00, 99.69it/s] \n"
          ]
        },
        {
          "output_type": "stream",
          "name": "stdout",
          "text": [
            "Epoch accuracy:  0.9855692675159236\n",
            "\n",
            "Starting epoch n.10 of training...\n"
          ]
        },
        {
          "output_type": "stream",
          "name": "stderr",
          "text": [
            "Epoch 10/10: 100%|██████████| 938/938 [00:13<00:00, 70.71it/s]\n"
          ]
        },
        {
          "output_type": "stream",
          "name": "stdout",
          "text": [
            "Starting validation...\n"
          ]
        },
        {
          "output_type": "stream",
          "name": "stderr",
          "text": [
            "Validation progress: 100%|██████████| 157/157 [00:01<00:00, 101.42it/s]\n"
          ]
        },
        {
          "output_type": "stream",
          "name": "stdout",
          "text": [
            "Epoch accuracy:  0.9863654458598726\n",
            "\n",
            "CNN(\n",
            "  (network): Sequential(\n",
            "    (0): Conv2d(1, 32, kernel_size=(3, 3), stride=(1, 1), padding=same)\n",
            "    (1): Tanh()\n",
            "    (2): MaxPool2d(kernel_size=2, stride=2, padding=0, dilation=1, ceil_mode=False)\n",
            "    (3): Conv2d(32, 64, kernel_size=(3, 3), stride=(1, 1), padding=same)\n",
            "    (4): Tanh()\n",
            "    (5): MaxPool2d(kernel_size=2, stride=2, padding=0, dilation=1, ceil_mode=False)\n",
            "    (6): Conv2d(64, 128, kernel_size=(3, 3), stride=(1, 1), padding=same)\n",
            "    (7): Tanh()\n",
            "    (8): MaxPool2d(kernel_size=2, stride=2, padding=0, dilation=1, ceil_mode=False)\n",
            "    (9): Flatten(start_dim=1, end_dim=-1)\n",
            "    (10): Linear(in_features=1152, out_features=64, bias=True)\n",
            "    (11): Tanh()\n",
            "    (12): Linear(in_features=64, out_features=10, bias=True)\n",
            "  )\n",
            "  (output_activation): Softmax(dim=1)\n",
            ")\n",
            "Starting epoch n.1 of training...\n"
          ]
        },
        {
          "output_type": "stream",
          "name": "stderr",
          "text": [
            "Epoch 1/10: 100%|██████████| 938/938 [00:13<00:00, 71.64it/s]\n"
          ]
        },
        {
          "output_type": "stream",
          "name": "stdout",
          "text": [
            "Starting validation...\n"
          ]
        },
        {
          "output_type": "stream",
          "name": "stderr",
          "text": [
            "Validation progress: 100%|██████████| 157/157 [00:01<00:00, 104.83it/s]\n"
          ]
        },
        {
          "output_type": "stream",
          "name": "stdout",
          "text": [
            "Epoch accuracy:  0.9813893312101911\n",
            "\n",
            "Starting epoch n.2 of training...\n"
          ]
        },
        {
          "output_type": "stream",
          "name": "stderr",
          "text": [
            "Epoch 2/10: 100%|██████████| 938/938 [00:12<00:00, 72.56it/s]\n"
          ]
        },
        {
          "output_type": "stream",
          "name": "stdout",
          "text": [
            "Starting validation...\n"
          ]
        },
        {
          "output_type": "stream",
          "name": "stderr",
          "text": [
            "Validation progress: 100%|██████████| 157/157 [00:01<00:00, 106.35it/s]\n"
          ]
        },
        {
          "output_type": "stream",
          "name": "stdout",
          "text": [
            "Epoch accuracy:  0.9893511146496815\n",
            "\n",
            "Starting epoch n.3 of training...\n"
          ]
        },
        {
          "output_type": "stream",
          "name": "stderr",
          "text": [
            "Epoch 3/10: 100%|██████████| 938/938 [00:12<00:00, 75.13it/s]\n"
          ]
        },
        {
          "output_type": "stream",
          "name": "stdout",
          "text": [
            "Starting validation...\n"
          ]
        },
        {
          "output_type": "stream",
          "name": "stderr",
          "text": [
            "Validation progress: 100%|██████████| 157/157 [00:01<00:00, 101.24it/s]\n"
          ]
        },
        {
          "output_type": "stream",
          "name": "stdout",
          "text": [
            "Epoch accuracy:  0.9893511146496815\n",
            "\n",
            "Starting epoch n.4 of training...\n"
          ]
        },
        {
          "output_type": "stream",
          "name": "stderr",
          "text": [
            "Epoch 4/10: 100%|██████████| 938/938 [00:12<00:00, 73.20it/s]\n"
          ]
        },
        {
          "output_type": "stream",
          "name": "stdout",
          "text": [
            "Starting validation...\n"
          ]
        },
        {
          "output_type": "stream",
          "name": "stderr",
          "text": [
            "Validation progress: 100%|██████████| 157/157 [00:01<00:00, 105.82it/s]\n"
          ]
        },
        {
          "output_type": "stream",
          "name": "stdout",
          "text": [
            "Epoch accuracy:  0.990047770700637\n",
            "\n",
            "Starting epoch n.5 of training...\n"
          ]
        },
        {
          "output_type": "stream",
          "name": "stderr",
          "text": [
            "Epoch 5/10: 100%|██████████| 938/938 [00:12<00:00, 72.56it/s]\n"
          ]
        },
        {
          "output_type": "stream",
          "name": "stdout",
          "text": [
            "Starting validation...\n"
          ]
        },
        {
          "output_type": "stream",
          "name": "stderr",
          "text": [
            "Validation progress: 100%|██████████| 157/157 [00:01<00:00, 105.00it/s]\n"
          ]
        },
        {
          "output_type": "stream",
          "name": "stdout",
          "text": [
            "Epoch accuracy:  0.9904458598726115\n",
            "\n",
            "Starting epoch n.6 of training...\n"
          ]
        },
        {
          "output_type": "stream",
          "name": "stderr",
          "text": [
            "Epoch 6/10: 100%|██████████| 938/938 [00:13<00:00, 69.23it/s]\n"
          ]
        },
        {
          "output_type": "stream",
          "name": "stdout",
          "text": [
            "Starting validation...\n"
          ]
        },
        {
          "output_type": "stream",
          "name": "stderr",
          "text": [
            "Validation progress: 100%|██████████| 157/157 [00:01<00:00, 107.75it/s]\n"
          ]
        },
        {
          "output_type": "stream",
          "name": "stdout",
          "text": [
            "Epoch accuracy:  0.9901472929936306\n",
            "\n",
            "Starting epoch n.7 of training...\n"
          ]
        },
        {
          "output_type": "stream",
          "name": "stderr",
          "text": [
            "Epoch 7/10: 100%|██████████| 938/938 [00:12<00:00, 72.33it/s]\n"
          ]
        },
        {
          "output_type": "stream",
          "name": "stdout",
          "text": [
            "Starting validation...\n"
          ]
        },
        {
          "output_type": "stream",
          "name": "stderr",
          "text": [
            "Validation progress: 100%|██████████| 157/157 [00:01<00:00, 103.70it/s]\n"
          ]
        },
        {
          "output_type": "stream",
          "name": "stdout",
          "text": [
            "Epoch accuracy:  0.9884554140127388\n",
            "\n",
            "Starting epoch n.8 of training...\n"
          ]
        },
        {
          "output_type": "stream",
          "name": "stderr",
          "text": [
            "Epoch 8/10: 100%|██████████| 938/938 [00:12<00:00, 73.69it/s]\n"
          ]
        },
        {
          "output_type": "stream",
          "name": "stdout",
          "text": [
            "Starting validation...\n"
          ]
        },
        {
          "output_type": "stream",
          "name": "stderr",
          "text": [
            "Validation progress: 100%|██████████| 157/157 [00:01<00:00, 105.69it/s]\n"
          ]
        },
        {
          "output_type": "stream",
          "name": "stdout",
          "text": [
            "Epoch accuracy:  0.9906449044585988\n",
            "\n",
            "Starting epoch n.9 of training...\n"
          ]
        },
        {
          "output_type": "stream",
          "name": "stderr",
          "text": [
            "Epoch 9/10: 100%|██████████| 938/938 [00:12<00:00, 72.21it/s]\n"
          ]
        },
        {
          "output_type": "stream",
          "name": "stdout",
          "text": [
            "Starting validation...\n"
          ]
        },
        {
          "output_type": "stream",
          "name": "stderr",
          "text": [
            "Validation progress: 100%|██████████| 157/157 [00:01<00:00, 107.25it/s]\n"
          ]
        },
        {
          "output_type": "stream",
          "name": "stdout",
          "text": [
            "Epoch accuracy:  0.9907444267515924\n",
            "\n",
            "Starting epoch n.10 of training...\n"
          ]
        },
        {
          "output_type": "stream",
          "name": "stderr",
          "text": [
            "Epoch 10/10: 100%|██████████| 938/938 [00:12<00:00, 72.94it/s]\n"
          ]
        },
        {
          "output_type": "stream",
          "name": "stdout",
          "text": [
            "Starting validation...\n"
          ]
        },
        {
          "output_type": "stream",
          "name": "stderr",
          "text": [
            "Validation progress: 100%|██████████| 157/157 [00:01<00:00, 105.49it/s]\n"
          ]
        },
        {
          "output_type": "stream",
          "name": "stdout",
          "text": [
            "Epoch accuracy:  0.9905453821656051\n",
            "\n",
            "CNN(\n",
            "  (network): Sequential(\n",
            "    (0): Conv2d(1, 32, kernel_size=(3, 3), stride=(1, 1), padding=same)\n",
            "    (1): ReLU()\n",
            "    (2): MaxPool2d(kernel_size=2, stride=2, padding=0, dilation=1, ceil_mode=False)\n",
            "    (3): Conv2d(32, 64, kernel_size=(3, 3), stride=(1, 1), padding=same)\n",
            "    (4): ReLU()\n",
            "    (5): MaxPool2d(kernel_size=2, stride=2, padding=0, dilation=1, ceil_mode=False)\n",
            "    (6): Conv2d(64, 128, kernel_size=(3, 3), stride=(1, 1), padding=same)\n",
            "    (7): ReLU()\n",
            "    (8): MaxPool2d(kernel_size=2, stride=2, padding=0, dilation=1, ceil_mode=False)\n",
            "    (9): Flatten(start_dim=1, end_dim=-1)\n",
            "    (10): Linear(in_features=1152, out_features=64, bias=True)\n",
            "    (11): ReLU()\n",
            "    (12): Linear(in_features=64, out_features=10, bias=True)\n",
            "  )\n",
            "  (output_activation): Softmax(dim=1)\n",
            ")\n",
            "Starting epoch n.1 of training...\n"
          ]
        },
        {
          "output_type": "stream",
          "name": "stderr",
          "text": [
            "Epoch 1/10: 100%|██████████| 938/938 [00:13<00:00, 72.04it/s]\n"
          ]
        },
        {
          "output_type": "stream",
          "name": "stdout",
          "text": [
            "Starting validation...\n"
          ]
        },
        {
          "output_type": "stream",
          "name": "stderr",
          "text": [
            "Validation progress: 100%|██████████| 157/157 [00:01<00:00, 100.03it/s]\n"
          ]
        },
        {
          "output_type": "stream",
          "name": "stdout",
          "text": [
            "Epoch accuracy:  0.8664410828025477\n",
            "\n",
            "Starting epoch n.2 of training...\n"
          ]
        },
        {
          "output_type": "stream",
          "name": "stderr",
          "text": [
            "Epoch 2/10: 100%|██████████| 938/938 [00:13<00:00, 69.88it/s]\n"
          ]
        },
        {
          "output_type": "stream",
          "name": "stdout",
          "text": [
            "Starting validation...\n"
          ]
        },
        {
          "output_type": "stream",
          "name": "stderr",
          "text": [
            "Validation progress: 100%|██████████| 157/157 [00:01<00:00, 105.23it/s]\n"
          ]
        },
        {
          "output_type": "stream",
          "name": "stdout",
          "text": [
            "Epoch accuracy:  0.8941082802547771\n",
            "\n",
            "Starting epoch n.3 of training...\n"
          ]
        },
        {
          "output_type": "stream",
          "name": "stderr",
          "text": [
            "Epoch 3/10: 100%|██████████| 938/938 [00:12<00:00, 73.47it/s]\n"
          ]
        },
        {
          "output_type": "stream",
          "name": "stdout",
          "text": [
            "Starting validation...\n"
          ]
        },
        {
          "output_type": "stream",
          "name": "stderr",
          "text": [
            "Validation progress: 100%|██████████| 157/157 [00:01<00:00, 101.22it/s]\n"
          ]
        },
        {
          "output_type": "stream",
          "name": "stdout",
          "text": [
            "Epoch accuracy:  0.9764132165605095\n",
            "\n",
            "Starting epoch n.4 of training...\n"
          ]
        },
        {
          "output_type": "stream",
          "name": "stderr",
          "text": [
            "Epoch 4/10: 100%|██████████| 938/938 [00:13<00:00, 71.53it/s]\n"
          ]
        },
        {
          "output_type": "stream",
          "name": "stdout",
          "text": [
            "Starting validation...\n"
          ]
        },
        {
          "output_type": "stream",
          "name": "stderr",
          "text": [
            "Validation progress: 100%|██████████| 157/157 [00:01<00:00, 102.96it/s]\n"
          ]
        },
        {
          "output_type": "stream",
          "name": "stdout",
          "text": [
            "Epoch accuracy:  0.9867635350318471\n",
            "\n",
            "Starting epoch n.5 of training...\n"
          ]
        },
        {
          "output_type": "stream",
          "name": "stderr",
          "text": [
            "Epoch 5/10: 100%|██████████| 938/938 [00:13<00:00, 70.58it/s]\n"
          ]
        },
        {
          "output_type": "stream",
          "name": "stdout",
          "text": [
            "Starting validation...\n"
          ]
        },
        {
          "output_type": "stream",
          "name": "stderr",
          "text": [
            "Validation progress: 100%|██████████| 157/157 [00:01<00:00, 100.67it/s]\n"
          ]
        },
        {
          "output_type": "stream",
          "name": "stdout",
          "text": [
            "Epoch accuracy:  0.9855692675159236\n",
            "\n",
            "Starting epoch n.6 of training...\n"
          ]
        },
        {
          "output_type": "stream",
          "name": "stderr",
          "text": [
            "Epoch 6/10: 100%|██████████| 938/938 [00:13<00:00, 67.65it/s]\n"
          ]
        },
        {
          "output_type": "stream",
          "name": "stdout",
          "text": [
            "Starting validation...\n"
          ]
        },
        {
          "output_type": "stream",
          "name": "stderr",
          "text": [
            "Validation progress: 100%|██████████| 157/157 [00:01<00:00, 106.11it/s]\n"
          ]
        },
        {
          "output_type": "stream",
          "name": "stdout",
          "text": [
            "Epoch accuracy:  0.9810907643312102\n",
            "\n",
            "Starting epoch n.7 of training...\n"
          ]
        },
        {
          "output_type": "stream",
          "name": "stderr",
          "text": [
            "Epoch 7/10: 100%|██████████| 938/938 [00:15<00:00, 62.45it/s]\n"
          ]
        },
        {
          "output_type": "stream",
          "name": "stdout",
          "text": [
            "Starting validation...\n"
          ]
        },
        {
          "output_type": "stream",
          "name": "stderr",
          "text": [
            "Validation progress: 100%|██████████| 157/157 [00:01<00:00, 105.99it/s]\n"
          ]
        },
        {
          "output_type": "stream",
          "name": "stdout",
          "text": [
            "Epoch accuracy:  0.9898487261146497\n",
            "\n",
            "Starting epoch n.8 of training...\n"
          ]
        },
        {
          "output_type": "stream",
          "name": "stderr",
          "text": [
            "Epoch 8/10: 100%|██████████| 938/938 [00:15<00:00, 61.88it/s]\n"
          ]
        },
        {
          "output_type": "stream",
          "name": "stdout",
          "text": [
            "Starting validation...\n"
          ]
        },
        {
          "output_type": "stream",
          "name": "stderr",
          "text": [
            "Validation progress: 100%|██████████| 157/157 [00:01<00:00, 100.94it/s]\n"
          ]
        },
        {
          "output_type": "stream",
          "name": "stdout",
          "text": [
            "Epoch accuracy:  0.9883558917197452\n",
            "\n",
            "Starting epoch n.9 of training...\n"
          ]
        },
        {
          "output_type": "stream",
          "name": "stderr",
          "text": [
            "Epoch 9/10: 100%|██████████| 938/938 [00:17<00:00, 54.15it/s]\n"
          ]
        },
        {
          "output_type": "stream",
          "name": "stdout",
          "text": [
            "Starting validation...\n"
          ]
        },
        {
          "output_type": "stream",
          "name": "stderr",
          "text": [
            "Validation progress: 100%|██████████| 157/157 [00:01<00:00, 104.45it/s]\n"
          ]
        },
        {
          "output_type": "stream",
          "name": "stdout",
          "text": [
            "Epoch accuracy:  0.9871616242038217\n",
            "\n",
            "Starting epoch n.10 of training...\n"
          ]
        },
        {
          "output_type": "stream",
          "name": "stderr",
          "text": [
            "Epoch 10/10: 100%|██████████| 938/938 [00:17<00:00, 52.95it/s]\n"
          ]
        },
        {
          "output_type": "stream",
          "name": "stdout",
          "text": [
            "Starting validation...\n"
          ]
        },
        {
          "output_type": "stream",
          "name": "stderr",
          "text": [
            "Validation progress: 100%|██████████| 157/157 [00:01<00:00, 104.20it/s]\n"
          ]
        },
        {
          "output_type": "stream",
          "name": "stdout",
          "text": [
            "Epoch accuracy:  0.9877587579617835\n",
            "\n",
            "CNN(\n",
            "  (network): Sequential(\n",
            "    (0): Conv2d(1, 32, kernel_size=(3, 3), stride=(1, 1), padding=same)\n",
            "    (1): ELU(alpha=1.0)\n",
            "    (2): MaxPool2d(kernel_size=2, stride=2, padding=0, dilation=1, ceil_mode=False)\n",
            "    (3): Conv2d(32, 64, kernel_size=(3, 3), stride=(1, 1), padding=same)\n",
            "    (4): ELU(alpha=1.0)\n",
            "    (5): MaxPool2d(kernel_size=2, stride=2, padding=0, dilation=1, ceil_mode=False)\n",
            "    (6): Conv2d(64, 128, kernel_size=(3, 3), stride=(1, 1), padding=same)\n",
            "    (7): ELU(alpha=1.0)\n",
            "    (8): MaxPool2d(kernel_size=2, stride=2, padding=0, dilation=1, ceil_mode=False)\n",
            "    (9): Flatten(start_dim=1, end_dim=-1)\n",
            "    (10): Linear(in_features=1152, out_features=64, bias=True)\n",
            "    (11): ELU(alpha=1.0)\n",
            "    (12): Linear(in_features=64, out_features=10, bias=True)\n",
            "  )\n",
            "  (output_activation): Softmax(dim=1)\n",
            ")\n",
            "Starting epoch n.1 of training...\n"
          ]
        },
        {
          "output_type": "stream",
          "name": "stderr",
          "text": [
            "Epoch 1/10: 100%|██████████| 938/938 [00:12<00:00, 72.65it/s]\n"
          ]
        },
        {
          "output_type": "stream",
          "name": "stdout",
          "text": [
            "Starting validation...\n"
          ]
        },
        {
          "output_type": "stream",
          "name": "stderr",
          "text": [
            "Validation progress: 100%|██████████| 157/157 [00:01<00:00, 101.78it/s]\n"
          ]
        },
        {
          "output_type": "stream",
          "name": "stdout",
          "text": [
            "Epoch accuracy:  0.9756170382165605\n",
            "\n",
            "Starting epoch n.2 of training...\n"
          ]
        },
        {
          "output_type": "stream",
          "name": "stderr",
          "text": [
            "Epoch 2/10: 100%|██████████| 938/938 [00:13<00:00, 72.08it/s]\n"
          ]
        },
        {
          "output_type": "stream",
          "name": "stdout",
          "text": [
            "Starting validation...\n"
          ]
        },
        {
          "output_type": "stream",
          "name": "stderr",
          "text": [
            "Validation progress: 100%|██████████| 157/157 [00:01<00:00, 103.55it/s]\n"
          ]
        },
        {
          "output_type": "stream",
          "name": "stdout",
          "text": [
            "Epoch accuracy:  0.9815883757961783\n",
            "\n",
            "Starting epoch n.3 of training...\n"
          ]
        },
        {
          "output_type": "stream",
          "name": "stderr",
          "text": [
            "Epoch 3/10: 100%|██████████| 938/938 [00:14<00:00, 66.82it/s]\n"
          ]
        },
        {
          "output_type": "stream",
          "name": "stdout",
          "text": [
            "Starting validation...\n"
          ]
        },
        {
          "output_type": "stream",
          "name": "stderr",
          "text": [
            "Validation progress: 100%|██████████| 157/157 [00:01<00:00, 99.91it/s] \n"
          ]
        },
        {
          "output_type": "stream",
          "name": "stdout",
          "text": [
            "Epoch accuracy:  0.982484076433121\n",
            "\n",
            "Starting epoch n.4 of training...\n"
          ]
        },
        {
          "output_type": "stream",
          "name": "stderr",
          "text": [
            "Epoch 4/10: 100%|██████████| 938/938 [00:16<00:00, 58.40it/s]\n"
          ]
        },
        {
          "output_type": "stream",
          "name": "stdout",
          "text": [
            "Starting validation...\n"
          ]
        },
        {
          "output_type": "stream",
          "name": "stderr",
          "text": [
            "Validation progress: 100%|██████████| 157/157 [00:01<00:00, 96.59it/s] \n"
          ]
        },
        {
          "output_type": "stream",
          "name": "stdout",
          "text": [
            "Epoch accuracy:  0.9851711783439491\n",
            "\n",
            "Starting epoch n.5 of training...\n"
          ]
        },
        {
          "output_type": "stream",
          "name": "stderr",
          "text": [
            "Epoch 5/10: 100%|██████████| 938/938 [00:21<00:00, 43.98it/s]\n"
          ]
        },
        {
          "output_type": "stream",
          "name": "stdout",
          "text": [
            "Starting validation...\n"
          ]
        },
        {
          "output_type": "stream",
          "name": "stderr",
          "text": [
            "Validation progress: 100%|██████████| 157/157 [00:01<00:00, 105.74it/s]\n"
          ]
        },
        {
          "output_type": "stream",
          "name": "stdout",
          "text": [
            "Epoch accuracy:  0.9801950636942676\n",
            "\n",
            "Starting epoch n.6 of training...\n"
          ]
        },
        {
          "output_type": "stream",
          "name": "stderr",
          "text": [
            "Epoch 6/10: 100%|██████████| 938/938 [00:29<00:00, 31.57it/s]\n"
          ]
        },
        {
          "output_type": "stream",
          "name": "stdout",
          "text": [
            "Starting validation...\n"
          ]
        },
        {
          "output_type": "stream",
          "name": "stderr",
          "text": [
            "Validation progress: 100%|██████████| 157/157 [00:01<00:00, 101.09it/s]\n"
          ]
        },
        {
          "output_type": "stream",
          "name": "stdout",
          "text": [
            "Epoch accuracy:  0.9837778662420382\n",
            "\n",
            "Starting epoch n.7 of training...\n"
          ]
        },
        {
          "output_type": "stream",
          "name": "stderr",
          "text": [
            "Epoch 7/10: 100%|██████████| 938/938 [00:33<00:00, 28.26it/s]\n"
          ]
        },
        {
          "output_type": "stream",
          "name": "stdout",
          "text": [
            "Starting validation...\n"
          ]
        },
        {
          "output_type": "stream",
          "name": "stderr",
          "text": [
            "Validation progress: 100%|██████████| 157/157 [00:01<00:00, 99.87it/s] \n"
          ]
        },
        {
          "output_type": "stream",
          "name": "stdout",
          "text": [
            "Epoch accuracy:  0.984375\n",
            "\n",
            "Starting epoch n.8 of training...\n"
          ]
        },
        {
          "output_type": "stream",
          "name": "stderr",
          "text": [
            "Epoch 8/10: 100%|██████████| 938/938 [00:32<00:00, 28.47it/s]\n"
          ]
        },
        {
          "output_type": "stream",
          "name": "stdout",
          "text": [
            "Starting validation...\n"
          ]
        },
        {
          "output_type": "stream",
          "name": "stderr",
          "text": [
            "Validation progress: 100%|██████████| 157/157 [00:01<00:00, 101.73it/s]\n"
          ]
        },
        {
          "output_type": "stream",
          "name": "stdout",
          "text": [
            "Epoch accuracy:  0.988953025477707\n",
            "\n",
            "Starting epoch n.9 of training...\n"
          ]
        },
        {
          "output_type": "stream",
          "name": "stderr",
          "text": [
            "Epoch 9/10: 100%|██████████| 938/938 [00:29<00:00, 31.52it/s]\n"
          ]
        },
        {
          "output_type": "stream",
          "name": "stdout",
          "text": [
            "Starting validation...\n"
          ]
        },
        {
          "output_type": "stream",
          "name": "stderr",
          "text": [
            "Validation progress: 100%|██████████| 157/157 [00:01<00:00, 101.65it/s]\n"
          ]
        },
        {
          "output_type": "stream",
          "name": "stdout",
          "text": [
            "Epoch accuracy:  0.9887539808917197\n",
            "\n",
            "Starting epoch n.10 of training...\n"
          ]
        },
        {
          "output_type": "stream",
          "name": "stderr",
          "text": [
            "Epoch 10/10: 100%|██████████| 938/938 [00:27<00:00, 33.97it/s]\n"
          ]
        },
        {
          "output_type": "stream",
          "name": "stdout",
          "text": [
            "Starting validation...\n"
          ]
        },
        {
          "output_type": "stream",
          "name": "stderr",
          "text": [
            "Validation progress: 100%|██████████| 157/157 [00:01<00:00, 103.25it/s]\n"
          ]
        },
        {
          "output_type": "stream",
          "name": "stdout",
          "text": [
            "Epoch accuracy:  0.987062101910828\n",
            "\n",
            "CNN(\n",
            "  (network): Sequential(\n",
            "    (0): Conv2d(1, 32, kernel_size=(3, 3), stride=(1, 1), padding=same)\n",
            "    (1): SELU()\n",
            "    (2): MaxPool2d(kernel_size=2, stride=2, padding=0, dilation=1, ceil_mode=False)\n",
            "    (3): Conv2d(32, 64, kernel_size=(3, 3), stride=(1, 1), padding=same)\n",
            "    (4): SELU()\n",
            "    (5): MaxPool2d(kernel_size=2, stride=2, padding=0, dilation=1, ceil_mode=False)\n",
            "    (6): Conv2d(64, 128, kernel_size=(3, 3), stride=(1, 1), padding=same)\n",
            "    (7): SELU()\n",
            "    (8): MaxPool2d(kernel_size=2, stride=2, padding=0, dilation=1, ceil_mode=False)\n",
            "    (9): Flatten(start_dim=1, end_dim=-1)\n",
            "    (10): Linear(in_features=1152, out_features=64, bias=True)\n",
            "    (11): SELU()\n",
            "    (12): Linear(in_features=64, out_features=10, bias=True)\n",
            "  )\n",
            "  (output_activation): Softmax(dim=1)\n",
            ")\n",
            "Starting epoch n.1 of training...\n"
          ]
        },
        {
          "output_type": "stream",
          "name": "stderr",
          "text": [
            "Epoch 1/10: 100%|██████████| 938/938 [00:13<00:00, 70.37it/s]\n"
          ]
        },
        {
          "output_type": "stream",
          "name": "stdout",
          "text": [
            "Starting validation...\n"
          ]
        },
        {
          "output_type": "stream",
          "name": "stderr",
          "text": [
            "Validation progress: 100%|██████████| 157/157 [00:01<00:00, 102.05it/s]\n"
          ]
        },
        {
          "output_type": "stream",
          "name": "stdout",
          "text": [
            "Epoch accuracy:  0.979796974522293\n",
            "\n",
            "Starting epoch n.2 of training...\n"
          ]
        },
        {
          "output_type": "stream",
          "name": "stderr",
          "text": [
            "Epoch 2/10: 100%|██████████| 938/938 [00:13<00:00, 71.95it/s]\n"
          ]
        },
        {
          "output_type": "stream",
          "name": "stdout",
          "text": [
            "Starting validation...\n"
          ]
        },
        {
          "output_type": "stream",
          "name": "stderr",
          "text": [
            "Validation progress: 100%|██████████| 157/157 [00:01<00:00, 99.92it/s] \n"
          ]
        },
        {
          "output_type": "stream",
          "name": "stdout",
          "text": [
            "Epoch accuracy:  0.9780055732484076\n",
            "\n",
            "Starting epoch n.3 of training...\n"
          ]
        },
        {
          "output_type": "stream",
          "name": "stderr",
          "text": [
            "Epoch 3/10: 100%|██████████| 938/938 [00:16<00:00, 55.75it/s]\n"
          ]
        },
        {
          "output_type": "stream",
          "name": "stdout",
          "text": [
            "Starting validation...\n"
          ]
        },
        {
          "output_type": "stream",
          "name": "stderr",
          "text": [
            "Validation progress: 100%|██████████| 157/157 [00:01<00:00, 103.94it/s]\n"
          ]
        },
        {
          "output_type": "stream",
          "name": "stdout",
          "text": [
            "Epoch accuracy:  0.9814888535031847\n",
            "\n",
            "Starting epoch n.4 of training...\n"
          ]
        },
        {
          "output_type": "stream",
          "name": "stderr",
          "text": [
            "Epoch 4/10: 100%|██████████| 938/938 [00:26<00:00, 34.81it/s]\n"
          ]
        },
        {
          "output_type": "stream",
          "name": "stdout",
          "text": [
            "Starting validation...\n"
          ]
        },
        {
          "output_type": "stream",
          "name": "stderr",
          "text": [
            "Validation progress: 100%|██████████| 157/157 [00:01<00:00, 104.46it/s]\n"
          ]
        },
        {
          "output_type": "stream",
          "name": "stdout",
          "text": [
            "Epoch accuracy:  0.9836783439490446\n",
            "\n",
            "Starting epoch n.5 of training...\n"
          ]
        },
        {
          "output_type": "stream",
          "name": "stderr",
          "text": [
            "Epoch 5/10: 100%|██████████| 938/938 [00:33<00:00, 27.97it/s]\n"
          ]
        },
        {
          "output_type": "stream",
          "name": "stdout",
          "text": [
            "Starting validation...\n"
          ]
        },
        {
          "output_type": "stream",
          "name": "stderr",
          "text": [
            "Validation progress: 100%|██████████| 157/157 [00:01<00:00, 101.29it/s]\n"
          ]
        },
        {
          "output_type": "stream",
          "name": "stdout",
          "text": [
            "Epoch accuracy:  0.984375\n",
            "\n",
            "Starting epoch n.6 of training...\n"
          ]
        },
        {
          "output_type": "stream",
          "name": "stderr",
          "text": [
            "Epoch 6/10: 100%|██████████| 938/938 [00:32<00:00, 28.46it/s]\n"
          ]
        },
        {
          "output_type": "stream",
          "name": "stdout",
          "text": [
            "Starting validation...\n"
          ]
        },
        {
          "output_type": "stream",
          "name": "stderr",
          "text": [
            "Validation progress: 100%|██████████| 157/157 [00:01<00:00, 102.45it/s]\n"
          ]
        },
        {
          "output_type": "stream",
          "name": "stdout",
          "text": [
            "Epoch accuracy:  0.9835788216560509\n",
            "\n",
            "Starting epoch n.7 of training...\n"
          ]
        },
        {
          "output_type": "stream",
          "name": "stderr",
          "text": [
            "Epoch 7/10: 100%|██████████| 938/938 [00:30<00:00, 31.05it/s]\n"
          ]
        },
        {
          "output_type": "stream",
          "name": "stdout",
          "text": [
            "Starting validation...\n"
          ]
        },
        {
          "output_type": "stream",
          "name": "stderr",
          "text": [
            "Validation progress: 100%|██████████| 157/157 [00:01<00:00, 99.71it/s] \n"
          ]
        },
        {
          "output_type": "stream",
          "name": "stdout",
          "text": [
            "Epoch accuracy:  0.9841759554140127\n",
            "\n",
            "Starting epoch n.8 of training...\n"
          ]
        },
        {
          "output_type": "stream",
          "name": "stderr",
          "text": [
            "Epoch 8/10: 100%|██████████| 938/938 [00:28<00:00, 32.62it/s]\n"
          ]
        },
        {
          "output_type": "stream",
          "name": "stdout",
          "text": [
            "Starting validation...\n"
          ]
        },
        {
          "output_type": "stream",
          "name": "stderr",
          "text": [
            "Validation progress: 100%|██████████| 157/157 [00:01<00:00, 102.69it/s]\n"
          ]
        },
        {
          "output_type": "stream",
          "name": "stdout",
          "text": [
            "Epoch accuracy:  0.9851711783439491\n",
            "\n",
            "Starting epoch n.9 of training...\n"
          ]
        },
        {
          "output_type": "stream",
          "name": "stderr",
          "text": [
            "Epoch 9/10: 100%|██████████| 938/938 [00:23<00:00, 39.20it/s]\n"
          ]
        },
        {
          "output_type": "stream",
          "name": "stdout",
          "text": [
            "Starting validation...\n"
          ]
        },
        {
          "output_type": "stream",
          "name": "stderr",
          "text": [
            "Validation progress: 100%|██████████| 157/157 [00:01<00:00, 98.96it/s] \n"
          ]
        },
        {
          "output_type": "stream",
          "name": "stdout",
          "text": [
            "Epoch accuracy:  0.9851711783439491\n",
            "\n",
            "Starting epoch n.10 of training...\n"
          ]
        },
        {
          "output_type": "stream",
          "name": "stderr",
          "text": [
            "Epoch 10/10: 100%|██████████| 938/938 [00:22<00:00, 42.05it/s]\n"
          ]
        },
        {
          "output_type": "stream",
          "name": "stdout",
          "text": [
            "Starting validation...\n"
          ]
        },
        {
          "output_type": "stream",
          "name": "stderr",
          "text": [
            "Validation progress: 100%|██████████| 157/157 [00:01<00:00, 103.94it/s]"
          ]
        },
        {
          "output_type": "stream",
          "name": "stdout",
          "text": [
            "Epoch accuracy:  0.9802945859872612\n",
            "\n"
          ]
        },
        {
          "output_type": "stream",
          "name": "stderr",
          "text": [
            "\n"
          ]
        }
      ],
      "source": [
        "MNIST_train_losses = []\n",
        "MNIST_val_losses = []\n",
        "MNIST_train_accs = []\n",
        "MNIST_val_accs = []\n",
        "\n",
        "for model in MNIST_models:\n",
        "    print(model)\n",
        "    opt = optim(model.parameters(), lr=lr)\n",
        "    tl, vl, ta, va = train(MNIST_train_dataloader, MNIST_test_dataloader, model, loss, opt, epochs)\n",
        "    MNIST_train_losses.append(tl)\n",
        "    MNIST_val_losses.append(vl)\n",
        "    MNIST_train_accs.append(ta)\n",
        "    MNIST_val_accs.append(va)"
      ]
    },
    {
      "cell_type": "markdown",
      "metadata": {
        "id": "4V92CFhP9WrX"
      },
      "source": [
        "### Model training on CIFAR10"
      ]
    },
    {
      "cell_type": "markdown",
      "metadata": {
        "id": "8wvbg9y0q_6c"
      },
      "source": [
        "Similar to the MNIST dataset, we set the training hyper-parameters:"
      ]
    },
    {
      "cell_type": "code",
      "execution_count": null,
      "metadata": {
        "id": "TtCg-mQnoCvW"
      },
      "outputs": [],
      "source": [
        "batch_size = 64\n",
        "loss = nn.CrossEntropyLoss()\n",
        "optim = torch.optim.Adam\n",
        "lr = 0.001\n",
        "epochs = 15"
      ]
    },
    {
      "cell_type": "markdown",
      "metadata": {
        "id": "pwU0Lj3kq19u"
      },
      "source": [
        "Then, we create DataLoaders for CIFAR10 dataset:"
      ]
    },
    {
      "cell_type": "code",
      "execution_count": null,
      "metadata": {
        "id": "wRqAyhhvoLGQ"
      },
      "outputs": [],
      "source": [
        "CIFAR10_train_dataloader = DataLoader(CIFAR10_train, batch_size=batch_size, num_workers=16)\n",
        "CIFAR10_test_dataloader = DataLoader(CIFAR10_test, batch_size=batch_size, num_workers=8)"
      ]
    },
    {
      "cell_type": "markdown",
      "metadata": {
        "id": "P_0TSh5xq6da"
      },
      "source": [
        "Next, we define models for each activation function:"
      ]
    },
    {
      "cell_type": "code",
      "execution_count": null,
      "metadata": {
        "id": "ODPI_JnKoBuP"
      },
      "outputs": [],
      "source": [
        "CIFAR10_models = [CNN(CIFAR10_dims, 3, 10, activation, nn.Softmax(dim=1)) for activation in activations]"
      ]
    },
    {
      "cell_type": "markdown",
      "metadata": {
        "id": "BRDs9SB8rMQf"
      },
      "source": [
        "And finally, train the models:"
      ]
    },
    {
      "cell_type": "code",
      "execution_count": null,
      "metadata": {
        "id": "66WKlUUX9FfZ",
        "colab": {
          "base_uri": "https://localhost:8080/"
        },
        "outputId": "fb1e1b3f-5fcd-4d96-d2f4-4da7642f316e"
      },
      "outputs": [
        {
          "output_type": "stream",
          "name": "stdout",
          "text": [
            "CNN(\n",
            "  (network): Sequential(\n",
            "    (0): Conv2d(3, 32, kernel_size=(3, 3), stride=(1, 1), padding=same)\n",
            "    (1): Sigmoid()\n",
            "    (2): MaxPool2d(kernel_size=2, stride=2, padding=0, dilation=1, ceil_mode=False)\n",
            "    (3): Conv2d(32, 64, kernel_size=(3, 3), stride=(1, 1), padding=same)\n",
            "    (4): Sigmoid()\n",
            "    (5): MaxPool2d(kernel_size=2, stride=2, padding=0, dilation=1, ceil_mode=False)\n",
            "    (6): Conv2d(64, 128, kernel_size=(3, 3), stride=(1, 1), padding=same)\n",
            "    (7): Sigmoid()\n",
            "    (8): MaxPool2d(kernel_size=2, stride=2, padding=0, dilation=1, ceil_mode=False)\n",
            "    (9): Flatten(start_dim=1, end_dim=-1)\n",
            "    (10): Linear(in_features=2048, out_features=64, bias=True)\n",
            "    (11): Sigmoid()\n",
            "    (12): Linear(in_features=64, out_features=10, bias=True)\n",
            "  )\n",
            "  (output_activation): Softmax(dim=1)\n",
            ")\n",
            "Starting epoch n.1 of training...\n"
          ]
        },
        {
          "output_type": "stream",
          "name": "stderr",
          "text": [
            "Epoch 1/15: 100%|██████████| 782/782 [00:12<00:00, 61.46it/s]\n"
          ]
        },
        {
          "output_type": "stream",
          "name": "stdout",
          "text": [
            "Starting validation...\n"
          ]
        },
        {
          "output_type": "stream",
          "name": "stderr",
          "text": [
            "Validation progress: 100%|██████████| 157/157 [00:01<00:00, 96.56it/s] \n"
          ]
        },
        {
          "output_type": "stream",
          "name": "stdout",
          "text": [
            "Epoch accuracy:  0.4339171974522293\n",
            "\n",
            "Starting epoch n.2 of training...\n"
          ]
        },
        {
          "output_type": "stream",
          "name": "stderr",
          "text": [
            "Epoch 2/15: 100%|██████████| 782/782 [00:12<00:00, 63.54it/s]\n"
          ]
        },
        {
          "output_type": "stream",
          "name": "stdout",
          "text": [
            "Starting validation...\n"
          ]
        },
        {
          "output_type": "stream",
          "name": "stderr",
          "text": [
            "Validation progress: 100%|██████████| 157/157 [00:01<00:00, 98.09it/s] \n"
          ]
        },
        {
          "output_type": "stream",
          "name": "stdout",
          "text": [
            "Epoch accuracy:  0.4658638535031847\n",
            "\n",
            "Starting epoch n.3 of training...\n"
          ]
        },
        {
          "output_type": "stream",
          "name": "stderr",
          "text": [
            "Epoch 3/15: 100%|██████████| 782/782 [00:12<00:00, 64.58it/s]\n"
          ]
        },
        {
          "output_type": "stream",
          "name": "stdout",
          "text": [
            "Starting validation...\n"
          ]
        },
        {
          "output_type": "stream",
          "name": "stderr",
          "text": [
            "Validation progress: 100%|██████████| 157/157 [00:01<00:00, 97.81it/s] \n"
          ]
        },
        {
          "output_type": "stream",
          "name": "stdout",
          "text": [
            "Epoch accuracy:  0.4801950636942675\n",
            "\n",
            "Starting epoch n.4 of training...\n"
          ]
        },
        {
          "output_type": "stream",
          "name": "stderr",
          "text": [
            "Epoch 4/15: 100%|██████████| 782/782 [00:12<00:00, 63.56it/s]\n"
          ]
        },
        {
          "output_type": "stream",
          "name": "stdout",
          "text": [
            "Starting validation...\n"
          ]
        },
        {
          "output_type": "stream",
          "name": "stderr",
          "text": [
            "Validation progress: 100%|██████████| 157/157 [00:01<00:00, 96.03it/s] \n"
          ]
        },
        {
          "output_type": "stream",
          "name": "stdout",
          "text": [
            "Epoch accuracy:  0.5005971337579618\n",
            "\n",
            "Starting epoch n.5 of training...\n"
          ]
        },
        {
          "output_type": "stream",
          "name": "stderr",
          "text": [
            "Epoch 5/15: 100%|██████████| 782/782 [00:12<00:00, 62.15it/s]\n"
          ]
        },
        {
          "output_type": "stream",
          "name": "stdout",
          "text": [
            "Starting validation...\n"
          ]
        },
        {
          "output_type": "stream",
          "name": "stderr",
          "text": [
            "Validation progress: 100%|██████████| 157/157 [00:01<00:00, 94.54it/s] \n"
          ]
        },
        {
          "output_type": "stream",
          "name": "stdout",
          "text": [
            "Epoch accuracy:  0.5173168789808917\n",
            "\n",
            "Starting epoch n.6 of training...\n"
          ]
        },
        {
          "output_type": "stream",
          "name": "stderr",
          "text": [
            "Epoch 6/15: 100%|██████████| 782/782 [00:12<00:00, 62.25it/s]\n"
          ]
        },
        {
          "output_type": "stream",
          "name": "stdout",
          "text": [
            "Starting validation...\n"
          ]
        },
        {
          "output_type": "stream",
          "name": "stderr",
          "text": [
            "Validation progress: 100%|██████████| 157/157 [00:01<00:00, 92.89it/s] \n"
          ]
        },
        {
          "output_type": "stream",
          "name": "stdout",
          "text": [
            "Epoch accuracy:  0.5288614649681529\n",
            "\n",
            "Starting epoch n.7 of training...\n"
          ]
        },
        {
          "output_type": "stream",
          "name": "stderr",
          "text": [
            "Epoch 7/15: 100%|██████████| 782/782 [00:12<00:00, 62.46it/s]\n"
          ]
        },
        {
          "output_type": "stream",
          "name": "stdout",
          "text": [
            "Starting validation...\n"
          ]
        },
        {
          "output_type": "stream",
          "name": "stderr",
          "text": [
            "Validation progress: 100%|██████████| 157/157 [00:01<00:00, 94.69it/s] \n"
          ]
        },
        {
          "output_type": "stream",
          "name": "stdout",
          "text": [
            "Epoch accuracy:  0.539609872611465\n",
            "\n",
            "Starting epoch n.8 of training...\n"
          ]
        },
        {
          "output_type": "stream",
          "name": "stderr",
          "text": [
            "Epoch 8/15: 100%|██████████| 782/782 [00:12<00:00, 61.46it/s]\n"
          ]
        },
        {
          "output_type": "stream",
          "name": "stdout",
          "text": [
            "Starting validation...\n"
          ]
        },
        {
          "output_type": "stream",
          "name": "stderr",
          "text": [
            "Validation progress: 100%|██████████| 157/157 [00:01<00:00, 99.47it/s] \n"
          ]
        },
        {
          "output_type": "stream",
          "name": "stdout",
          "text": [
            "Epoch accuracy:  0.5426950636942676\n",
            "\n",
            "Starting epoch n.9 of training...\n"
          ]
        },
        {
          "output_type": "stream",
          "name": "stderr",
          "text": [
            "Epoch 9/15: 100%|██████████| 782/782 [00:12<00:00, 62.02it/s]\n"
          ]
        },
        {
          "output_type": "stream",
          "name": "stdout",
          "text": [
            "Starting validation...\n"
          ]
        },
        {
          "output_type": "stream",
          "name": "stderr",
          "text": [
            "Validation progress: 100%|██████████| 157/157 [00:01<00:00, 93.15it/s] \n"
          ]
        },
        {
          "output_type": "stream",
          "name": "stdout",
          "text": [
            "Epoch accuracy:  0.5516520700636943\n",
            "\n",
            "Starting epoch n.10 of training...\n"
          ]
        },
        {
          "output_type": "stream",
          "name": "stderr",
          "text": [
            "Epoch 10/15: 100%|██████████| 782/782 [00:12<00:00, 63.60it/s]\n"
          ]
        },
        {
          "output_type": "stream",
          "name": "stdout",
          "text": [
            "Starting validation...\n"
          ]
        },
        {
          "output_type": "stream",
          "name": "stderr",
          "text": [
            "Validation progress: 100%|██████████| 157/157 [00:01<00:00, 99.04it/s] \n"
          ]
        },
        {
          "output_type": "stream",
          "name": "stdout",
          "text": [
            "Epoch accuracy:  0.5572253184713376\n",
            "\n",
            "Starting epoch n.11 of training...\n"
          ]
        },
        {
          "output_type": "stream",
          "name": "stderr",
          "text": [
            "Epoch 11/15: 100%|██████████| 782/782 [00:12<00:00, 62.66it/s]\n"
          ]
        },
        {
          "output_type": "stream",
          "name": "stdout",
          "text": [
            "Starting validation...\n"
          ]
        },
        {
          "output_type": "stream",
          "name": "stderr",
          "text": [
            "Validation progress: 100%|██████████| 157/157 [00:01<00:00, 93.55it/s] \n"
          ]
        },
        {
          "output_type": "stream",
          "name": "stdout",
          "text": [
            "Epoch accuracy:  0.5595143312101911\n",
            "\n",
            "Starting epoch n.12 of training...\n"
          ]
        },
        {
          "output_type": "stream",
          "name": "stderr",
          "text": [
            "Epoch 12/15: 100%|██████████| 782/782 [00:12<00:00, 61.45it/s]\n"
          ]
        },
        {
          "output_type": "stream",
          "name": "stdout",
          "text": [
            "Starting validation...\n"
          ]
        },
        {
          "output_type": "stream",
          "name": "stderr",
          "text": [
            "Validation progress: 100%|██████████| 157/157 [00:01<00:00, 98.08it/s] \n"
          ]
        },
        {
          "output_type": "stream",
          "name": "stdout",
          "text": [
            "Epoch accuracy:  0.56140525477707\n",
            "\n",
            "Starting epoch n.13 of training...\n"
          ]
        },
        {
          "output_type": "stream",
          "name": "stderr",
          "text": [
            "Epoch 13/15: 100%|██████████| 782/782 [00:12<00:00, 61.67it/s]\n"
          ]
        },
        {
          "output_type": "stream",
          "name": "stdout",
          "text": [
            "Starting validation...\n"
          ]
        },
        {
          "output_type": "stream",
          "name": "stderr",
          "text": [
            "Validation progress: 100%|██████████| 157/157 [00:01<00:00, 93.95it/s] \n"
          ]
        },
        {
          "output_type": "stream",
          "name": "stdout",
          "text": [
            "Epoch accuracy:  0.5625\n",
            "\n",
            "Starting epoch n.14 of training...\n"
          ]
        },
        {
          "output_type": "stream",
          "name": "stderr",
          "text": [
            "Epoch 14/15: 100%|██████████| 782/782 [00:12<00:00, 61.27it/s]\n"
          ]
        },
        {
          "output_type": "stream",
          "name": "stdout",
          "text": [
            "Starting validation...\n"
          ]
        },
        {
          "output_type": "stream",
          "name": "stderr",
          "text": [
            "Validation progress: 100%|██████████| 157/157 [00:01<00:00, 97.62it/s] \n"
          ]
        },
        {
          "output_type": "stream",
          "name": "stdout",
          "text": [
            "Epoch accuracy:  0.5647890127388535\n",
            "\n",
            "Starting epoch n.15 of training...\n"
          ]
        },
        {
          "output_type": "stream",
          "name": "stderr",
          "text": [
            "Epoch 15/15: 100%|██████████| 782/782 [00:12<00:00, 63.59it/s]\n"
          ]
        },
        {
          "output_type": "stream",
          "name": "stdout",
          "text": [
            "Starting validation...\n"
          ]
        },
        {
          "output_type": "stream",
          "name": "stderr",
          "text": [
            "Validation progress: 100%|██████████| 157/157 [00:01<00:00, 93.79it/s] \n"
          ]
        },
        {
          "output_type": "stream",
          "name": "stdout",
          "text": [
            "Epoch accuracy:  0.5675756369426752\n",
            "\n",
            "CNN(\n",
            "  (network): Sequential(\n",
            "    (0): Conv2d(3, 32, kernel_size=(3, 3), stride=(1, 1), padding=same)\n",
            "    (1): Tanh()\n",
            "    (2): MaxPool2d(kernel_size=2, stride=2, padding=0, dilation=1, ceil_mode=False)\n",
            "    (3): Conv2d(32, 64, kernel_size=(3, 3), stride=(1, 1), padding=same)\n",
            "    (4): Tanh()\n",
            "    (5): MaxPool2d(kernel_size=2, stride=2, padding=0, dilation=1, ceil_mode=False)\n",
            "    (6): Conv2d(64, 128, kernel_size=(3, 3), stride=(1, 1), padding=same)\n",
            "    (7): Tanh()\n",
            "    (8): MaxPool2d(kernel_size=2, stride=2, padding=0, dilation=1, ceil_mode=False)\n",
            "    (9): Flatten(start_dim=1, end_dim=-1)\n",
            "    (10): Linear(in_features=2048, out_features=64, bias=True)\n",
            "    (11): Tanh()\n",
            "    (12): Linear(in_features=64, out_features=10, bias=True)\n",
            "  )\n",
            "  (output_activation): Softmax(dim=1)\n",
            ")\n",
            "Starting epoch n.1 of training...\n"
          ]
        },
        {
          "output_type": "stream",
          "name": "stderr",
          "text": [
            "Epoch 1/15: 100%|██████████| 782/782 [00:12<00:00, 63.75it/s]\n"
          ]
        },
        {
          "output_type": "stream",
          "name": "stdout",
          "text": [
            "Starting validation...\n"
          ]
        },
        {
          "output_type": "stream",
          "name": "stderr",
          "text": [
            "Validation progress: 100%|██████████| 157/157 [00:01<00:00, 96.97it/s] \n"
          ]
        },
        {
          "output_type": "stream",
          "name": "stdout",
          "text": [
            "Epoch accuracy:  0.5496616242038217\n",
            "\n",
            "Starting epoch n.2 of training...\n"
          ]
        },
        {
          "output_type": "stream",
          "name": "stderr",
          "text": [
            "Epoch 2/15: 100%|██████████| 782/782 [00:12<00:00, 64.05it/s]\n"
          ]
        },
        {
          "output_type": "stream",
          "name": "stdout",
          "text": [
            "Starting validation...\n"
          ]
        },
        {
          "output_type": "stream",
          "name": "stderr",
          "text": [
            "Validation progress: 100%|██████████| 157/157 [00:01<00:00, 96.74it/s] \n"
          ]
        },
        {
          "output_type": "stream",
          "name": "stdout",
          "text": [
            "Epoch accuracy:  0.5952428343949044\n",
            "\n",
            "Starting epoch n.3 of training...\n"
          ]
        },
        {
          "output_type": "stream",
          "name": "stderr",
          "text": [
            "Epoch 3/15: 100%|██████████| 782/782 [00:13<00:00, 59.92it/s]\n"
          ]
        },
        {
          "output_type": "stream",
          "name": "stdout",
          "text": [
            "Starting validation...\n"
          ]
        },
        {
          "output_type": "stream",
          "name": "stderr",
          "text": [
            "Validation progress: 100%|██████████| 157/157 [00:01<00:00, 98.08it/s] \n"
          ]
        },
        {
          "output_type": "stream",
          "name": "stdout",
          "text": [
            "Epoch accuracy:  0.6390326433121019\n",
            "\n",
            "Starting epoch n.4 of training...\n"
          ]
        },
        {
          "output_type": "stream",
          "name": "stderr",
          "text": [
            "Epoch 4/15: 100%|██████████| 782/782 [00:12<00:00, 64.80it/s]\n"
          ]
        },
        {
          "output_type": "stream",
          "name": "stdout",
          "text": [
            "Starting validation...\n"
          ]
        },
        {
          "output_type": "stream",
          "name": "stderr",
          "text": [
            "Validation progress: 100%|██████████| 157/157 [00:01<00:00, 92.27it/s] \n"
          ]
        },
        {
          "output_type": "stream",
          "name": "stdout",
          "text": [
            "Epoch accuracy:  0.6542595541401274\n",
            "\n",
            "Starting epoch n.5 of training...\n"
          ]
        },
        {
          "output_type": "stream",
          "name": "stderr",
          "text": [
            "Epoch 5/15: 100%|██████████| 782/782 [00:12<00:00, 62.71it/s]\n"
          ]
        },
        {
          "output_type": "stream",
          "name": "stdout",
          "text": [
            "Starting validation...\n"
          ]
        },
        {
          "output_type": "stream",
          "name": "stderr",
          "text": [
            "Validation progress: 100%|██████████| 157/157 [00:01<00:00, 95.21it/s] \n"
          ]
        },
        {
          "output_type": "stream",
          "name": "stdout",
          "text": [
            "Epoch accuracy:  0.6502786624203821\n",
            "\n",
            "Starting epoch n.6 of training...\n"
          ]
        },
        {
          "output_type": "stream",
          "name": "stderr",
          "text": [
            "Epoch 6/15: 100%|██████████| 782/782 [00:12<00:00, 64.04it/s]\n"
          ]
        },
        {
          "output_type": "stream",
          "name": "stdout",
          "text": [
            "Starting validation...\n"
          ]
        },
        {
          "output_type": "stream",
          "name": "stderr",
          "text": [
            "Validation progress: 100%|██████████| 157/157 [00:01<00:00, 94.80it/s] \n"
          ]
        },
        {
          "output_type": "stream",
          "name": "stdout",
          "text": [
            "Epoch accuracy:  0.673765923566879\n",
            "\n",
            "Starting epoch n.7 of training...\n"
          ]
        },
        {
          "output_type": "stream",
          "name": "stderr",
          "text": [
            "Epoch 7/15: 100%|██████████| 782/782 [00:12<00:00, 62.99it/s]\n"
          ]
        },
        {
          "output_type": "stream",
          "name": "stdout",
          "text": [
            "Starting validation...\n"
          ]
        },
        {
          "output_type": "stream",
          "name": "stderr",
          "text": [
            "Validation progress: 100%|██████████| 157/157 [00:01<00:00, 93.93it/s] \n"
          ]
        },
        {
          "output_type": "stream",
          "name": "stdout",
          "text": [
            "Epoch accuracy:  0.6854100318471338\n",
            "\n",
            "Starting epoch n.8 of training...\n"
          ]
        },
        {
          "output_type": "stream",
          "name": "stderr",
          "text": [
            "Epoch 8/15: 100%|██████████| 782/782 [00:11<00:00, 65.31it/s]\n"
          ]
        },
        {
          "output_type": "stream",
          "name": "stdout",
          "text": [
            "Starting validation...\n"
          ]
        },
        {
          "output_type": "stream",
          "name": "stderr",
          "text": [
            "Validation progress: 100%|██████████| 157/157 [00:01<00:00, 99.88it/s] \n"
          ]
        },
        {
          "output_type": "stream",
          "name": "stdout",
          "text": [
            "Epoch accuracy:  0.6806329617834395\n",
            "\n",
            "Starting epoch n.9 of training...\n"
          ]
        },
        {
          "output_type": "stream",
          "name": "stderr",
          "text": [
            "Epoch 9/15: 100%|██████████| 782/782 [00:12<00:00, 62.86it/s]\n"
          ]
        },
        {
          "output_type": "stream",
          "name": "stdout",
          "text": [
            "Starting validation...\n"
          ]
        },
        {
          "output_type": "stream",
          "name": "stderr",
          "text": [
            "Validation progress: 100%|██████████| 157/157 [00:01<00:00, 96.41it/s] \n"
          ]
        },
        {
          "output_type": "stream",
          "name": "stdout",
          "text": [
            "Epoch accuracy:  0.681031050955414\n",
            "\n",
            "Starting epoch n.10 of training...\n"
          ]
        },
        {
          "output_type": "stream",
          "name": "stderr",
          "text": [
            "Epoch 10/15: 100%|██████████| 782/782 [00:12<00:00, 61.52it/s]\n"
          ]
        },
        {
          "output_type": "stream",
          "name": "stdout",
          "text": [
            "Starting validation...\n"
          ]
        },
        {
          "output_type": "stream",
          "name": "stderr",
          "text": [
            "Validation progress: 100%|██████████| 157/157 [00:01<00:00, 96.14it/s] \n"
          ]
        },
        {
          "output_type": "stream",
          "name": "stdout",
          "text": [
            "Epoch accuracy:  0.6980493630573248\n",
            "\n",
            "Starting epoch n.11 of training...\n"
          ]
        },
        {
          "output_type": "stream",
          "name": "stderr",
          "text": [
            "Epoch 11/15: 100%|██████████| 782/782 [00:12<00:00, 62.42it/s]\n"
          ]
        },
        {
          "output_type": "stream",
          "name": "stdout",
          "text": [
            "Starting validation...\n"
          ]
        },
        {
          "output_type": "stream",
          "name": "stderr",
          "text": [
            "Validation progress: 100%|██████████| 157/157 [00:01<00:00, 97.44it/s] \n"
          ]
        },
        {
          "output_type": "stream",
          "name": "stdout",
          "text": [
            "Epoch accuracy:  0.6853105095541401\n",
            "\n",
            "Starting epoch n.12 of training...\n"
          ]
        },
        {
          "output_type": "stream",
          "name": "stderr",
          "text": [
            "Epoch 12/15: 100%|██████████| 782/782 [00:12<00:00, 65.08it/s]\n"
          ]
        },
        {
          "output_type": "stream",
          "name": "stdout",
          "text": [
            "Starting validation...\n"
          ]
        },
        {
          "output_type": "stream",
          "name": "stderr",
          "text": [
            "Validation progress: 100%|██████████| 157/157 [00:01<00:00, 92.26it/s] \n"
          ]
        },
        {
          "output_type": "stream",
          "name": "stdout",
          "text": [
            "Epoch accuracy:  0.698546974522293\n",
            "\n",
            "Starting epoch n.13 of training...\n"
          ]
        },
        {
          "output_type": "stream",
          "name": "stderr",
          "text": [
            "Epoch 13/15: 100%|██████████| 782/782 [00:12<00:00, 62.74it/s]\n"
          ]
        },
        {
          "output_type": "stream",
          "name": "stdout",
          "text": [
            "Starting validation...\n"
          ]
        },
        {
          "output_type": "stream",
          "name": "stderr",
          "text": [
            "Validation progress: 100%|██████████| 157/157 [00:01<00:00, 98.54it/s] \n"
          ]
        },
        {
          "output_type": "stream",
          "name": "stdout",
          "text": [
            "Epoch accuracy:  0.6962579617834395\n",
            "\n",
            "Starting epoch n.14 of training...\n"
          ]
        },
        {
          "output_type": "stream",
          "name": "stderr",
          "text": [
            "Epoch 14/15: 100%|██████████| 782/782 [00:12<00:00, 63.86it/s]\n"
          ]
        },
        {
          "output_type": "stream",
          "name": "stdout",
          "text": [
            "Starting validation...\n"
          ]
        },
        {
          "output_type": "stream",
          "name": "stderr",
          "text": [
            "Validation progress: 100%|██████████| 157/157 [00:01<00:00, 94.09it/s] \n"
          ]
        },
        {
          "output_type": "stream",
          "name": "stdout",
          "text": [
            "Epoch accuracy:  0.6959593949044586\n",
            "\n",
            "Starting epoch n.15 of training...\n"
          ]
        },
        {
          "output_type": "stream",
          "name": "stderr",
          "text": [
            "Epoch 15/15: 100%|██████████| 782/782 [00:12<00:00, 61.05it/s]\n"
          ]
        },
        {
          "output_type": "stream",
          "name": "stdout",
          "text": [
            "Starting validation...\n"
          ]
        },
        {
          "output_type": "stream",
          "name": "stderr",
          "text": [
            "Validation progress: 100%|██████████| 157/157 [00:01<00:00, 96.29it/s] \n"
          ]
        },
        {
          "output_type": "stream",
          "name": "stdout",
          "text": [
            "Epoch accuracy:  0.6933718152866242\n",
            "\n",
            "CNN(\n",
            "  (network): Sequential(\n",
            "    (0): Conv2d(3, 32, kernel_size=(3, 3), stride=(1, 1), padding=same)\n",
            "    (1): ReLU()\n",
            "    (2): MaxPool2d(kernel_size=2, stride=2, padding=0, dilation=1, ceil_mode=False)\n",
            "    (3): Conv2d(32, 64, kernel_size=(3, 3), stride=(1, 1), padding=same)\n",
            "    (4): ReLU()\n",
            "    (5): MaxPool2d(kernel_size=2, stride=2, padding=0, dilation=1, ceil_mode=False)\n",
            "    (6): Conv2d(64, 128, kernel_size=(3, 3), stride=(1, 1), padding=same)\n",
            "    (7): ReLU()\n",
            "    (8): MaxPool2d(kernel_size=2, stride=2, padding=0, dilation=1, ceil_mode=False)\n",
            "    (9): Flatten(start_dim=1, end_dim=-1)\n",
            "    (10): Linear(in_features=2048, out_features=64, bias=True)\n",
            "    (11): ReLU()\n",
            "    (12): Linear(in_features=64, out_features=10, bias=True)\n",
            "  )\n",
            "  (output_activation): Softmax(dim=1)\n",
            ")\n",
            "Starting epoch n.1 of training...\n"
          ]
        },
        {
          "output_type": "stream",
          "name": "stderr",
          "text": [
            "Epoch 1/15: 100%|██████████| 782/782 [00:12<00:00, 64.07it/s]\n"
          ]
        },
        {
          "output_type": "stream",
          "name": "stdout",
          "text": [
            "Starting validation...\n"
          ]
        },
        {
          "output_type": "stream",
          "name": "stderr",
          "text": [
            "Validation progress: 100%|██████████| 157/157 [00:01<00:00, 99.65it/s] \n"
          ]
        },
        {
          "output_type": "stream",
          "name": "stdout",
          "text": [
            "Epoch accuracy:  0.4583001592356688\n",
            "\n",
            "Starting epoch n.2 of training...\n"
          ]
        },
        {
          "output_type": "stream",
          "name": "stderr",
          "text": [
            "Epoch 2/15: 100%|██████████| 782/782 [00:12<00:00, 61.36it/s]\n"
          ]
        },
        {
          "output_type": "stream",
          "name": "stdout",
          "text": [
            "Starting validation...\n"
          ]
        },
        {
          "output_type": "stream",
          "name": "stderr",
          "text": [
            "Validation progress: 100%|██████████| 157/157 [00:01<00:00, 97.04it/s] \n"
          ]
        },
        {
          "output_type": "stream",
          "name": "stdout",
          "text": [
            "Epoch accuracy:  0.5389132165605095\n",
            "\n",
            "Starting epoch n.3 of training...\n"
          ]
        },
        {
          "output_type": "stream",
          "name": "stderr",
          "text": [
            "Epoch 3/15: 100%|██████████| 782/782 [00:12<00:00, 61.55it/s]\n"
          ]
        },
        {
          "output_type": "stream",
          "name": "stdout",
          "text": [
            "Starting validation...\n"
          ]
        },
        {
          "output_type": "stream",
          "name": "stderr",
          "text": [
            "Validation progress: 100%|██████████| 157/157 [00:01<00:00, 93.30it/s] \n"
          ]
        },
        {
          "output_type": "stream",
          "name": "stdout",
          "text": [
            "Epoch accuracy:  0.5870820063694268\n",
            "\n",
            "Starting epoch n.4 of training...\n"
          ]
        },
        {
          "output_type": "stream",
          "name": "stderr",
          "text": [
            "Epoch 4/15: 100%|██████████| 782/782 [00:12<00:00, 61.74it/s]\n"
          ]
        },
        {
          "output_type": "stream",
          "name": "stdout",
          "text": [
            "Starting validation...\n"
          ]
        },
        {
          "output_type": "stream",
          "name": "stderr",
          "text": [
            "Validation progress: 100%|██████████| 157/157 [00:01<00:00, 99.49it/s] \n"
          ]
        },
        {
          "output_type": "stream",
          "name": "stdout",
          "text": [
            "Epoch accuracy:  0.6176353503184714\n",
            "\n",
            "Starting epoch n.5 of training...\n"
          ]
        },
        {
          "output_type": "stream",
          "name": "stderr",
          "text": [
            "Epoch 5/15: 100%|██████████| 782/782 [00:12<00:00, 62.82it/s]\n"
          ]
        },
        {
          "output_type": "stream",
          "name": "stdout",
          "text": [
            "Starting validation...\n"
          ]
        },
        {
          "output_type": "stream",
          "name": "stderr",
          "text": [
            "Validation progress: 100%|██████████| 157/157 [00:01<00:00, 96.59it/s] \n"
          ]
        },
        {
          "output_type": "stream",
          "name": "stdout",
          "text": [
            "Epoch accuracy:  0.6561504777070064\n",
            "\n",
            "Starting epoch n.6 of training...\n"
          ]
        },
        {
          "output_type": "stream",
          "name": "stderr",
          "text": [
            "Epoch 6/15: 100%|██████████| 782/782 [00:12<00:00, 62.08it/s]\n"
          ]
        },
        {
          "output_type": "stream",
          "name": "stdout",
          "text": [
            "Starting validation...\n"
          ]
        },
        {
          "output_type": "stream",
          "name": "stderr",
          "text": [
            "Validation progress: 100%|██████████| 157/157 [00:01<00:00, 90.01it/s] \n"
          ]
        },
        {
          "output_type": "stream",
          "name": "stdout",
          "text": [
            "Epoch accuracy:  0.6738654458598726\n",
            "\n",
            "Starting epoch n.7 of training...\n"
          ]
        },
        {
          "output_type": "stream",
          "name": "stderr",
          "text": [
            "Epoch 7/15: 100%|██████████| 782/782 [00:12<00:00, 61.31it/s]\n"
          ]
        },
        {
          "output_type": "stream",
          "name": "stdout",
          "text": [
            "Starting validation...\n"
          ]
        },
        {
          "output_type": "stream",
          "name": "stderr",
          "text": [
            "Validation progress: 100%|██████████| 157/157 [00:01<00:00, 101.20it/s]\n"
          ]
        },
        {
          "output_type": "stream",
          "name": "stdout",
          "text": [
            "Epoch accuracy:  0.6824243630573248\n",
            "\n",
            "Starting epoch n.8 of training...\n"
          ]
        },
        {
          "output_type": "stream",
          "name": "stderr",
          "text": [
            "Epoch 8/15: 100%|██████████| 782/782 [00:13<00:00, 59.57it/s]\n"
          ]
        },
        {
          "output_type": "stream",
          "name": "stdout",
          "text": [
            "Starting validation...\n"
          ]
        },
        {
          "output_type": "stream",
          "name": "stderr",
          "text": [
            "Validation progress: 100%|██████████| 157/157 [00:01<00:00, 99.07it/s] \n"
          ]
        },
        {
          "output_type": "stream",
          "name": "stdout",
          "text": [
            "Epoch accuracy:  0.6771496815286624\n",
            "\n",
            "Starting epoch n.9 of training...\n"
          ]
        },
        {
          "output_type": "stream",
          "name": "stderr",
          "text": [
            "Epoch 9/15: 100%|██████████| 782/782 [00:12<00:00, 62.01it/s]\n"
          ]
        },
        {
          "output_type": "stream",
          "name": "stdout",
          "text": [
            "Starting validation...\n"
          ]
        },
        {
          "output_type": "stream",
          "name": "stderr",
          "text": [
            "Validation progress: 100%|██████████| 157/157 [00:01<00:00, 95.93it/s] \n"
          ]
        },
        {
          "output_type": "stream",
          "name": "stdout",
          "text": [
            "Epoch accuracy:  0.6981488853503185\n",
            "\n",
            "Starting epoch n.10 of training...\n"
          ]
        },
        {
          "output_type": "stream",
          "name": "stderr",
          "text": [
            "Epoch 10/15: 100%|██████████| 782/782 [00:12<00:00, 62.77it/s]\n"
          ]
        },
        {
          "output_type": "stream",
          "name": "stdout",
          "text": [
            "Starting validation...\n"
          ]
        },
        {
          "output_type": "stream",
          "name": "stderr",
          "text": [
            "Validation progress: 100%|██████████| 157/157 [00:01<00:00, 96.36it/s] \n"
          ]
        },
        {
          "output_type": "stream",
          "name": "stdout",
          "text": [
            "Epoch accuracy:  0.7094944267515924\n",
            "\n",
            "Starting epoch n.11 of training...\n"
          ]
        },
        {
          "output_type": "stream",
          "name": "stderr",
          "text": [
            "Epoch 11/15: 100%|██████████| 782/782 [00:12<00:00, 61.17it/s]\n"
          ]
        },
        {
          "output_type": "stream",
          "name": "stdout",
          "text": [
            "Starting validation...\n"
          ]
        },
        {
          "output_type": "stream",
          "name": "stderr",
          "text": [
            "Validation progress: 100%|██████████| 157/157 [00:01<00:00, 101.47it/s]\n"
          ]
        },
        {
          "output_type": "stream",
          "name": "stdout",
          "text": [
            "Epoch accuracy:  0.7009355095541401\n",
            "\n",
            "Starting epoch n.12 of training...\n"
          ]
        },
        {
          "output_type": "stream",
          "name": "stderr",
          "text": [
            "Epoch 12/15: 100%|██████████| 782/782 [00:13<00:00, 59.66it/s]\n"
          ]
        },
        {
          "output_type": "stream",
          "name": "stdout",
          "text": [
            "Starting validation...\n"
          ]
        },
        {
          "output_type": "stream",
          "name": "stderr",
          "text": [
            "Validation progress: 100%|██████████| 157/157 [00:01<00:00, 95.05it/s] \n"
          ]
        },
        {
          "output_type": "stream",
          "name": "stdout",
          "text": [
            "Epoch accuracy:  0.7047173566878981\n",
            "\n",
            "Starting epoch n.13 of training...\n"
          ]
        },
        {
          "output_type": "stream",
          "name": "stderr",
          "text": [
            "Epoch 13/15: 100%|██████████| 782/782 [00:12<00:00, 61.11it/s]\n"
          ]
        },
        {
          "output_type": "stream",
          "name": "stdout",
          "text": [
            "Starting validation...\n"
          ]
        },
        {
          "output_type": "stream",
          "name": "stderr",
          "text": [
            "Validation progress: 100%|██████████| 157/157 [00:01<00:00, 98.54it/s] \n"
          ]
        },
        {
          "output_type": "stream",
          "name": "stdout",
          "text": [
            "Epoch accuracy:  0.7151671974522293\n",
            "\n",
            "Starting epoch n.14 of training...\n"
          ]
        },
        {
          "output_type": "stream",
          "name": "stderr",
          "text": [
            "Epoch 14/15: 100%|██████████| 782/782 [00:12<00:00, 60.75it/s]\n"
          ]
        },
        {
          "output_type": "stream",
          "name": "stdout",
          "text": [
            "Starting validation...\n"
          ]
        },
        {
          "output_type": "stream",
          "name": "stderr",
          "text": [
            "Validation progress: 100%|██████████| 157/157 [00:01<00:00, 96.20it/s] \n"
          ]
        },
        {
          "output_type": "stream",
          "name": "stdout",
          "text": [
            "Epoch accuracy:  0.7126791401273885\n",
            "\n",
            "Starting epoch n.15 of training...\n"
          ]
        },
        {
          "output_type": "stream",
          "name": "stderr",
          "text": [
            "Epoch 15/15: 100%|██████████| 782/782 [00:13<00:00, 57.55it/s]\n"
          ]
        },
        {
          "output_type": "stream",
          "name": "stdout",
          "text": [
            "Starting validation...\n"
          ]
        },
        {
          "output_type": "stream",
          "name": "stderr",
          "text": [
            "Validation progress: 100%|██████████| 157/157 [00:01<00:00, 96.75it/s] \n"
          ]
        },
        {
          "output_type": "stream",
          "name": "stdout",
          "text": [
            "Epoch accuracy:  0.7118829617834395\n",
            "\n",
            "CNN(\n",
            "  (network): Sequential(\n",
            "    (0): Conv2d(3, 32, kernel_size=(3, 3), stride=(1, 1), padding=same)\n",
            "    (1): ELU(alpha=1.0)\n",
            "    (2): MaxPool2d(kernel_size=2, stride=2, padding=0, dilation=1, ceil_mode=False)\n",
            "    (3): Conv2d(32, 64, kernel_size=(3, 3), stride=(1, 1), padding=same)\n",
            "    (4): ELU(alpha=1.0)\n",
            "    (5): MaxPool2d(kernel_size=2, stride=2, padding=0, dilation=1, ceil_mode=False)\n",
            "    (6): Conv2d(64, 128, kernel_size=(3, 3), stride=(1, 1), padding=same)\n",
            "    (7): ELU(alpha=1.0)\n",
            "    (8): MaxPool2d(kernel_size=2, stride=2, padding=0, dilation=1, ceil_mode=False)\n",
            "    (9): Flatten(start_dim=1, end_dim=-1)\n",
            "    (10): Linear(in_features=2048, out_features=64, bias=True)\n",
            "    (11): ELU(alpha=1.0)\n",
            "    (12): Linear(in_features=64, out_features=10, bias=True)\n",
            "  )\n",
            "  (output_activation): Softmax(dim=1)\n",
            ")\n",
            "Starting epoch n.1 of training...\n"
          ]
        },
        {
          "output_type": "stream",
          "name": "stderr",
          "text": [
            "Epoch 1/15: 100%|██████████| 782/782 [00:12<00:00, 62.06it/s]\n"
          ]
        },
        {
          "output_type": "stream",
          "name": "stdout",
          "text": [
            "Starting validation...\n"
          ]
        },
        {
          "output_type": "stream",
          "name": "stderr",
          "text": [
            "Validation progress: 100%|██████████| 157/157 [00:01<00:00, 92.52it/s] \n"
          ]
        },
        {
          "output_type": "stream",
          "name": "stdout",
          "text": [
            "Epoch accuracy:  0.4979100318471338\n",
            "\n",
            "Starting epoch n.2 of training...\n"
          ]
        },
        {
          "output_type": "stream",
          "name": "stderr",
          "text": [
            "Epoch 2/15: 100%|██████████| 782/782 [00:12<00:00, 61.50it/s]\n"
          ]
        },
        {
          "output_type": "stream",
          "name": "stdout",
          "text": [
            "Starting validation...\n"
          ]
        },
        {
          "output_type": "stream",
          "name": "stderr",
          "text": [
            "Validation progress: 100%|██████████| 157/157 [00:01<00:00, 92.04it/s] \n"
          ]
        },
        {
          "output_type": "stream",
          "name": "stdout",
          "text": [
            "Epoch accuracy:  0.5782245222929936\n",
            "\n",
            "Starting epoch n.3 of training...\n"
          ]
        },
        {
          "output_type": "stream",
          "name": "stderr",
          "text": [
            "Epoch 3/15: 100%|██████████| 782/782 [00:12<00:00, 60.85it/s]\n"
          ]
        },
        {
          "output_type": "stream",
          "name": "stdout",
          "text": [
            "Starting validation...\n"
          ]
        },
        {
          "output_type": "stream",
          "name": "stderr",
          "text": [
            "Validation progress: 100%|██████████| 157/157 [00:01<00:00, 92.40it/s] \n"
          ]
        },
        {
          "output_type": "stream",
          "name": "stdout",
          "text": [
            "Epoch accuracy:  0.6262937898089171\n",
            "\n",
            "Starting epoch n.4 of training...\n"
          ]
        },
        {
          "output_type": "stream",
          "name": "stderr",
          "text": [
            "Epoch 4/15: 100%|██████████| 782/782 [00:12<00:00, 62.41it/s]\n"
          ]
        },
        {
          "output_type": "stream",
          "name": "stdout",
          "text": [
            "Starting validation...\n"
          ]
        },
        {
          "output_type": "stream",
          "name": "stderr",
          "text": [
            "Validation progress: 100%|██████████| 157/157 [00:01<00:00, 88.71it/s] \n"
          ]
        },
        {
          "output_type": "stream",
          "name": "stdout",
          "text": [
            "Epoch accuracy:  0.6463972929936306\n",
            "\n",
            "Starting epoch n.5 of training...\n"
          ]
        },
        {
          "output_type": "stream",
          "name": "stderr",
          "text": [
            "Epoch 5/15: 100%|██████████| 782/782 [00:12<00:00, 60.89it/s]\n"
          ]
        },
        {
          "output_type": "stream",
          "name": "stdout",
          "text": [
            "Starting validation...\n"
          ]
        },
        {
          "output_type": "stream",
          "name": "stderr",
          "text": [
            "Validation progress: 100%|██████████| 157/157 [00:01<00:00, 92.15it/s] \n"
          ]
        },
        {
          "output_type": "stream",
          "name": "stdout",
          "text": [
            "Epoch accuracy:  0.6506767515923567\n",
            "\n",
            "Starting epoch n.6 of training...\n"
          ]
        },
        {
          "output_type": "stream",
          "name": "stderr",
          "text": [
            "Epoch 6/15: 100%|██████████| 782/782 [00:13<00:00, 58.97it/s]\n"
          ]
        },
        {
          "output_type": "stream",
          "name": "stdout",
          "text": [
            "Starting validation...\n"
          ]
        },
        {
          "output_type": "stream",
          "name": "stderr",
          "text": [
            "Validation progress: 100%|██████████| 157/157 [00:01<00:00, 93.44it/s] \n"
          ]
        },
        {
          "output_type": "stream",
          "name": "stdout",
          "text": [
            "Epoch accuracy:  0.6749601910828026\n",
            "\n",
            "Starting epoch n.7 of training...\n"
          ]
        },
        {
          "output_type": "stream",
          "name": "stderr",
          "text": [
            "Epoch 7/15: 100%|██████████| 782/782 [00:14<00:00, 54.66it/s]\n"
          ]
        },
        {
          "output_type": "stream",
          "name": "stdout",
          "text": [
            "Starting validation...\n"
          ]
        },
        {
          "output_type": "stream",
          "name": "stderr",
          "text": [
            "Validation progress: 100%|██████████| 157/157 [00:01<00:00, 92.34it/s] \n"
          ]
        },
        {
          "output_type": "stream",
          "name": "stdout",
          "text": [
            "Epoch accuracy:  0.6689888535031847\n",
            "\n",
            "Starting epoch n.8 of training...\n"
          ]
        },
        {
          "output_type": "stream",
          "name": "stderr",
          "text": [
            "Epoch 8/15: 100%|██████████| 782/782 [00:16<00:00, 48.35it/s]\n"
          ]
        },
        {
          "output_type": "stream",
          "name": "stdout",
          "text": [
            "Starting validation...\n"
          ]
        },
        {
          "output_type": "stream",
          "name": "stderr",
          "text": [
            "Validation progress: 100%|██████████| 157/157 [00:01<00:00, 91.79it/s] \n"
          ]
        },
        {
          "output_type": "stream",
          "name": "stdout",
          "text": [
            "Epoch accuracy:  0.6815286624203821\n",
            "\n",
            "Starting epoch n.9 of training...\n"
          ]
        },
        {
          "output_type": "stream",
          "name": "stderr",
          "text": [
            "Epoch 9/15: 100%|██████████| 782/782 [00:18<00:00, 42.83it/s]\n"
          ]
        },
        {
          "output_type": "stream",
          "name": "stdout",
          "text": [
            "Starting validation...\n"
          ]
        },
        {
          "output_type": "stream",
          "name": "stderr",
          "text": [
            "Validation progress: 100%|██████████| 157/157 [00:01<00:00, 93.75it/s] \n"
          ]
        },
        {
          "output_type": "stream",
          "name": "stdout",
          "text": [
            "Epoch accuracy:  0.6935708598726115\n",
            "\n",
            "Starting epoch n.10 of training...\n"
          ]
        },
        {
          "output_type": "stream",
          "name": "stderr",
          "text": [
            "Epoch 10/15: 100%|██████████| 782/782 [00:20<00:00, 37.42it/s]\n"
          ]
        },
        {
          "output_type": "stream",
          "name": "stdout",
          "text": [
            "Starting validation...\n"
          ]
        },
        {
          "output_type": "stream",
          "name": "stderr",
          "text": [
            "Validation progress: 100%|██████████| 157/157 [00:01<00:00, 91.73it/s] \n"
          ]
        },
        {
          "output_type": "stream",
          "name": "stdout",
          "text": [
            "Epoch accuracy:  0.6976512738853503\n",
            "\n",
            "Starting epoch n.11 of training...\n"
          ]
        },
        {
          "output_type": "stream",
          "name": "stderr",
          "text": [
            "Epoch 11/15: 100%|██████████| 782/782 [00:23<00:00, 32.67it/s]\n"
          ]
        },
        {
          "output_type": "stream",
          "name": "stdout",
          "text": [
            "Starting validation...\n"
          ]
        },
        {
          "output_type": "stream",
          "name": "stderr",
          "text": [
            "Validation progress: 100%|██████████| 157/157 [00:01<00:00, 89.44it/s] \n"
          ]
        },
        {
          "output_type": "stream",
          "name": "stdout",
          "text": [
            "Epoch accuracy:  0.7070063694267515\n",
            "\n",
            "Starting epoch n.12 of training...\n"
          ]
        },
        {
          "output_type": "stream",
          "name": "stderr",
          "text": [
            "Epoch 12/15: 100%|██████████| 782/782 [00:24<00:00, 31.92it/s]\n"
          ]
        },
        {
          "output_type": "stream",
          "name": "stdout",
          "text": [
            "Starting validation...\n"
          ]
        },
        {
          "output_type": "stream",
          "name": "stderr",
          "text": [
            "Validation progress: 100%|██████████| 157/157 [00:01<00:00, 95.72it/s] \n"
          ]
        },
        {
          "output_type": "stream",
          "name": "stdout",
          "text": [
            "Epoch accuracy:  0.6875995222929936\n",
            "\n",
            "Starting epoch n.13 of training...\n"
          ]
        },
        {
          "output_type": "stream",
          "name": "stderr",
          "text": [
            "Epoch 13/15: 100%|██████████| 782/782 [00:26<00:00, 29.88it/s]\n"
          ]
        },
        {
          "output_type": "stream",
          "name": "stdout",
          "text": [
            "Starting validation...\n"
          ]
        },
        {
          "output_type": "stream",
          "name": "stderr",
          "text": [
            "Validation progress: 100%|██████████| 157/157 [00:01<00:00, 92.68it/s] \n"
          ]
        },
        {
          "output_type": "stream",
          "name": "stdout",
          "text": [
            "Epoch accuracy:  0.7053144904458599\n",
            "\n",
            "Starting epoch n.14 of training...\n"
          ]
        },
        {
          "output_type": "stream",
          "name": "stderr",
          "text": [
            "Epoch 14/15: 100%|██████████| 782/782 [00:26<00:00, 29.41it/s]\n"
          ]
        },
        {
          "output_type": "stream",
          "name": "stdout",
          "text": [
            "Starting validation...\n"
          ]
        },
        {
          "output_type": "stream",
          "name": "stderr",
          "text": [
            "Validation progress: 100%|██████████| 157/157 [00:01<00:00, 94.45it/s] \n"
          ]
        },
        {
          "output_type": "stream",
          "name": "stdout",
          "text": [
            "Epoch accuracy:  0.7070063694267515\n",
            "\n",
            "Starting epoch n.15 of training...\n"
          ]
        },
        {
          "output_type": "stream",
          "name": "stderr",
          "text": [
            "Epoch 15/15: 100%|██████████| 782/782 [00:28<00:00, 27.45it/s]\n"
          ]
        },
        {
          "output_type": "stream",
          "name": "stdout",
          "text": [
            "Starting validation...\n"
          ]
        },
        {
          "output_type": "stream",
          "name": "stderr",
          "text": [
            "Validation progress: 100%|██████████| 157/157 [00:01<00:00, 98.58it/s] \n"
          ]
        },
        {
          "output_type": "stream",
          "name": "stdout",
          "text": [
            "Epoch accuracy:  0.6872014331210191\n",
            "\n",
            "CNN(\n",
            "  (network): Sequential(\n",
            "    (0): Conv2d(3, 32, kernel_size=(3, 3), stride=(1, 1), padding=same)\n",
            "    (1): SELU()\n",
            "    (2): MaxPool2d(kernel_size=2, stride=2, padding=0, dilation=1, ceil_mode=False)\n",
            "    (3): Conv2d(32, 64, kernel_size=(3, 3), stride=(1, 1), padding=same)\n",
            "    (4): SELU()\n",
            "    (5): MaxPool2d(kernel_size=2, stride=2, padding=0, dilation=1, ceil_mode=False)\n",
            "    (6): Conv2d(64, 128, kernel_size=(3, 3), stride=(1, 1), padding=same)\n",
            "    (7): SELU()\n",
            "    (8): MaxPool2d(kernel_size=2, stride=2, padding=0, dilation=1, ceil_mode=False)\n",
            "    (9): Flatten(start_dim=1, end_dim=-1)\n",
            "    (10): Linear(in_features=2048, out_features=64, bias=True)\n",
            "    (11): SELU()\n",
            "    (12): Linear(in_features=64, out_features=10, bias=True)\n",
            "  )\n",
            "  (output_activation): Softmax(dim=1)\n",
            ")\n",
            "Starting epoch n.1 of training...\n"
          ]
        },
        {
          "output_type": "stream",
          "name": "stderr",
          "text": [
            "Epoch 1/15: 100%|██████████| 782/782 [00:12<00:00, 62.10it/s]\n"
          ]
        },
        {
          "output_type": "stream",
          "name": "stdout",
          "text": [
            "Starting validation...\n"
          ]
        },
        {
          "output_type": "stream",
          "name": "stderr",
          "text": [
            "Validation progress: 100%|██████████| 157/157 [00:01<00:00, 92.73it/s] \n"
          ]
        },
        {
          "output_type": "stream",
          "name": "stdout",
          "text": [
            "Epoch accuracy:  0.4912420382165605\n",
            "\n",
            "Starting epoch n.2 of training...\n"
          ]
        },
        {
          "output_type": "stream",
          "name": "stderr",
          "text": [
            "Epoch 2/15: 100%|██████████| 782/782 [00:12<00:00, 61.78it/s]\n"
          ]
        },
        {
          "output_type": "stream",
          "name": "stdout",
          "text": [
            "Starting validation...\n"
          ]
        },
        {
          "output_type": "stream",
          "name": "stderr",
          "text": [
            "Validation progress: 100%|██████████| 157/157 [00:01<00:00, 92.48it/s] \n"
          ]
        },
        {
          "output_type": "stream",
          "name": "stdout",
          "text": [
            "Epoch accuracy:  0.5539410828025477\n",
            "\n",
            "Starting epoch n.3 of training...\n"
          ]
        },
        {
          "output_type": "stream",
          "name": "stderr",
          "text": [
            "Epoch 3/15: 100%|██████████| 782/782 [00:13<00:00, 59.37it/s]\n"
          ]
        },
        {
          "output_type": "stream",
          "name": "stdout",
          "text": [
            "Starting validation...\n"
          ]
        },
        {
          "output_type": "stream",
          "name": "stderr",
          "text": [
            "Validation progress: 100%|██████████| 157/157 [00:01<00:00, 91.97it/s] \n"
          ]
        },
        {
          "output_type": "stream",
          "name": "stdout",
          "text": [
            "Epoch accuracy:  0.5400079617834395\n",
            "\n",
            "Starting epoch n.4 of training...\n"
          ]
        },
        {
          "output_type": "stream",
          "name": "stderr",
          "text": [
            "Epoch 4/15: 100%|██████████| 782/782 [00:15<00:00, 49.60it/s]\n"
          ]
        },
        {
          "output_type": "stream",
          "name": "stdout",
          "text": [
            "Starting validation...\n"
          ]
        },
        {
          "output_type": "stream",
          "name": "stderr",
          "text": [
            "Validation progress: 100%|██████████| 157/157 [00:01<00:00, 94.94it/s] \n"
          ]
        },
        {
          "output_type": "stream",
          "name": "stdout",
          "text": [
            "Epoch accuracy:  0.5934514331210191\n",
            "\n",
            "Starting epoch n.5 of training...\n"
          ]
        },
        {
          "output_type": "stream",
          "name": "stderr",
          "text": [
            "Epoch 5/15: 100%|██████████| 782/782 [00:18<00:00, 41.22it/s]\n"
          ]
        },
        {
          "output_type": "stream",
          "name": "stdout",
          "text": [
            "Starting validation...\n"
          ]
        },
        {
          "output_type": "stream",
          "name": "stderr",
          "text": [
            "Validation progress: 100%|██████████| 157/157 [00:01<00:00, 96.20it/s] \n"
          ]
        },
        {
          "output_type": "stream",
          "name": "stdout",
          "text": [
            "Epoch accuracy:  0.6187300955414012\n",
            "\n",
            "Starting epoch n.6 of training...\n"
          ]
        },
        {
          "output_type": "stream",
          "name": "stderr",
          "text": [
            "Epoch 6/15: 100%|██████████| 782/782 [00:23<00:00, 33.67it/s]\n"
          ]
        },
        {
          "output_type": "stream",
          "name": "stdout",
          "text": [
            "Starting validation...\n"
          ]
        },
        {
          "output_type": "stream",
          "name": "stderr",
          "text": [
            "Validation progress: 100%|██████████| 157/157 [00:01<00:00, 99.37it/s] \n"
          ]
        },
        {
          "output_type": "stream",
          "name": "stdout",
          "text": [
            "Epoch accuracy:  0.6356488853503185\n",
            "\n",
            "Starting epoch n.7 of training...\n"
          ]
        },
        {
          "output_type": "stream",
          "name": "stderr",
          "text": [
            "Epoch 7/15: 100%|██████████| 782/782 [00:24<00:00, 31.52it/s]\n"
          ]
        },
        {
          "output_type": "stream",
          "name": "stdout",
          "text": [
            "Starting validation...\n"
          ]
        },
        {
          "output_type": "stream",
          "name": "stderr",
          "text": [
            "Validation progress: 100%|██████████| 157/157 [00:01<00:00, 91.21it/s] \n"
          ]
        },
        {
          "output_type": "stream",
          "name": "stdout",
          "text": [
            "Epoch accuracy:  0.6211186305732485\n",
            "\n",
            "Starting epoch n.8 of training...\n"
          ]
        },
        {
          "output_type": "stream",
          "name": "stderr",
          "text": [
            "Epoch 8/15: 100%|██████████| 782/782 [00:27<00:00, 28.81it/s]\n"
          ]
        },
        {
          "output_type": "stream",
          "name": "stdout",
          "text": [
            "Starting validation...\n"
          ]
        },
        {
          "output_type": "stream",
          "name": "stderr",
          "text": [
            "Validation progress: 100%|██████████| 157/157 [00:01<00:00, 92.79it/s] \n"
          ]
        },
        {
          "output_type": "stream",
          "name": "stdout",
          "text": [
            "Epoch accuracy:  0.6190286624203821\n",
            "\n",
            "Starting epoch n.9 of training...\n"
          ]
        },
        {
          "output_type": "stream",
          "name": "stderr",
          "text": [
            "Epoch 9/15: 100%|██████████| 782/782 [00:28<00:00, 27.77it/s]\n"
          ]
        },
        {
          "output_type": "stream",
          "name": "stdout",
          "text": [
            "Starting validation...\n"
          ]
        },
        {
          "output_type": "stream",
          "name": "stderr",
          "text": [
            "Validation progress: 100%|██████████| 157/157 [00:01<00:00, 88.45it/s] \n"
          ]
        },
        {
          "output_type": "stream",
          "name": "stdout",
          "text": [
            "Epoch accuracy:  0.638734076433121\n",
            "\n",
            "Starting epoch n.10 of training...\n"
          ]
        },
        {
          "output_type": "stream",
          "name": "stderr",
          "text": [
            "Epoch 10/15: 100%|██████████| 782/782 [00:29<00:00, 26.56it/s]\n"
          ]
        },
        {
          "output_type": "stream",
          "name": "stdout",
          "text": [
            "Starting validation...\n"
          ]
        },
        {
          "output_type": "stream",
          "name": "stderr",
          "text": [
            "Validation progress: 100%|██████████| 157/157 [00:01<00:00, 97.60it/s] \n"
          ]
        },
        {
          "output_type": "stream",
          "name": "stdout",
          "text": [
            "Epoch accuracy:  0.6431130573248408\n",
            "\n",
            "Starting epoch n.11 of training...\n"
          ]
        },
        {
          "output_type": "stream",
          "name": "stderr",
          "text": [
            "Epoch 11/15: 100%|██████████| 782/782 [00:29<00:00, 26.14it/s]\n"
          ]
        },
        {
          "output_type": "stream",
          "name": "stdout",
          "text": [
            "Starting validation...\n"
          ]
        },
        {
          "output_type": "stream",
          "name": "stderr",
          "text": [
            "Validation progress: 100%|██████████| 157/157 [00:01<00:00, 94.21it/s] \n"
          ]
        },
        {
          "output_type": "stream",
          "name": "stdout",
          "text": [
            "Epoch accuracy:  0.6471934713375797\n",
            "\n",
            "Starting epoch n.12 of training...\n"
          ]
        },
        {
          "output_type": "stream",
          "name": "stderr",
          "text": [
            "Epoch 12/15: 100%|██████████| 782/782 [00:30<00:00, 25.46it/s]\n"
          ]
        },
        {
          "output_type": "stream",
          "name": "stdout",
          "text": [
            "Starting validation...\n"
          ]
        },
        {
          "output_type": "stream",
          "name": "stderr",
          "text": [
            "Validation progress: 100%|██████████| 157/157 [00:01<00:00, 93.78it/s] \n"
          ]
        },
        {
          "output_type": "stream",
          "name": "stdout",
          "text": [
            "Epoch accuracy:  0.6486863057324841\n",
            "\n",
            "Starting epoch n.13 of training...\n"
          ]
        },
        {
          "output_type": "stream",
          "name": "stderr",
          "text": [
            "Epoch 13/15: 100%|██████████| 782/782 [00:30<00:00, 25.47it/s]\n"
          ]
        },
        {
          "output_type": "stream",
          "name": "stdout",
          "text": [
            "Starting validation...\n"
          ]
        },
        {
          "output_type": "stream",
          "name": "stderr",
          "text": [
            "Validation progress: 100%|██████████| 157/157 [00:01<00:00, 99.04it/s] \n"
          ]
        },
        {
          "output_type": "stream",
          "name": "stdout",
          "text": [
            "Epoch accuracy:  0.6467953821656051\n",
            "\n",
            "Starting epoch n.14 of training...\n"
          ]
        },
        {
          "output_type": "stream",
          "name": "stderr",
          "text": [
            "Epoch 14/15: 100%|██████████| 782/782 [00:31<00:00, 25.08it/s]\n"
          ]
        },
        {
          "output_type": "stream",
          "name": "stdout",
          "text": [
            "Starting validation...\n"
          ]
        },
        {
          "output_type": "stream",
          "name": "stderr",
          "text": [
            "Validation progress: 100%|██████████| 157/157 [00:01<00:00, 94.87it/s] \n"
          ]
        },
        {
          "output_type": "stream",
          "name": "stdout",
          "text": [
            "Epoch accuracy:  0.6494824840764332\n",
            "\n",
            "Starting epoch n.15 of training...\n"
          ]
        },
        {
          "output_type": "stream",
          "name": "stderr",
          "text": [
            "Epoch 15/15: 100%|██████████| 782/782 [00:30<00:00, 25.36it/s]\n"
          ]
        },
        {
          "output_type": "stream",
          "name": "stdout",
          "text": [
            "Starting validation...\n"
          ]
        },
        {
          "output_type": "stream",
          "name": "stderr",
          "text": [
            "Validation progress: 100%|██████████| 157/157 [00:01<00:00, 95.10it/s] "
          ]
        },
        {
          "output_type": "stream",
          "name": "stdout",
          "text": [
            "Epoch accuracy:  0.6689888535031847\n",
            "\n"
          ]
        },
        {
          "output_type": "stream",
          "name": "stderr",
          "text": [
            "\n"
          ]
        }
      ],
      "source": [
        "CIFAR10_train_losses = []\n",
        "CIFAR10_val_losses = []\n",
        "CIFAR10_train_accs = []\n",
        "CIFAR10_val_accs = []\n",
        "\n",
        "for model in CIFAR10_models:\n",
        "    print(model)\n",
        "    opt = optim(model.parameters(), lr=lr)\n",
        "    tl, vl, ta, va = train(CIFAR10_train_dataloader, CIFAR10_test_dataloader, model, loss, opt, epochs)\n",
        "    CIFAR10_train_losses.append(tl)\n",
        "    CIFAR10_val_losses.append(vl)\n",
        "    CIFAR10_train_accs.append(ta)\n",
        "    CIFAR10_val_accs.append(va)"
      ]
    },
    {
      "cell_type": "markdown",
      "metadata": {
        "id": "5ePMqwaJ9dKQ"
      },
      "source": [
        "## Evaluation"
      ]
    },
    {
      "cell_type": "markdown",
      "metadata": {
        "id": "We08v4jt9kwY"
      },
      "source": [
        "Finally, we are going to evaluate the trained models. We consider training and validation loss and accuracy."
      ]
    },
    {
      "cell_type": "markdown",
      "metadata": {
        "id": "-PTiPosOAD5H"
      },
      "source": [
        "First, let us define some functions for the evaluation:"
      ]
    },
    {
      "cell_type": "code",
      "execution_count": null,
      "metadata": {
        "id": "8SQFi_1X-pDF"
      },
      "outputs": [],
      "source": [
        "activation_labels = [\"Sigmoid\", \"Hyperbolic tangent\", \"ReLU\", \"ELU\", \"SELU\"]\n",
        "\n",
        "def metrics_by_activation(train_loss: list[ list[float] ],\n",
        "                          val_loss: list[ list[float] ],\n",
        "                          train_acc: list[ list[float] ],\n",
        "                          val_acc: list[ list[float] ]) -> pd.DataFrame:\n",
        "    \"\"\"\n",
        "    Creates a table containing train and validation loss and accuracy for all activations\n",
        "    \"\"\"\n",
        "    metrics =pd.DataFrame(\n",
        "        {\n",
        "            \"Train loss\": [l[-1] for l in train_loss],\n",
        "            \"Validation loss\": [l[-1] for l in val_loss],\n",
        "            \"Train accuracy\": [l[-1] for l in train_acc],\n",
        "            \"Validation accuracy\": [l[-1] for l in val_acc]\n",
        "        }\n",
        "    )\n",
        "    metrics.index = activation_labels\n",
        "    return metrics"
      ]
    },
    {
      "cell_type": "code",
      "execution_count": null,
      "metadata": {
        "id": "TmFVmKTlACYe"
      },
      "outputs": [],
      "source": [
        "def plot_by_activation(train_vals: list[list[float]], val_vals: list[list[float]], label: str) -> None:\n",
        "    \"\"\"\n",
        "    Plots given train / validation values by epoch\n",
        "    \"\"\"\n",
        "    epochs = np.array( range( len(train_vals[0]) ) )\n",
        "\n",
        "    plt.figure(figsize=(12, 5))\n",
        "    plt.subplot(1, 2, 1)\n",
        "    plt.title(\"Train\")\n",
        "    for i in range( len(train_vals) ):\n",
        "        plt.plot(epochs, train_vals[i], label=activation_labels[i])\n",
        "    plt.xlabel(\"Epoch\")\n",
        "    plt.ylabel(label)\n",
        "\n",
        "    plt.subplot(1, 2, 2)\n",
        "    plt.title(\"Validation\")\n",
        "    for i in range( len(val_vals) ):\n",
        "        plt.plot(epochs, val_vals[i], label=activation_labels[i])\n",
        "    plt.xlabel(\"Epoch\")\n",
        "    plt.ylabel(label)\n",
        "\n",
        "    plt.tight_layout()\n",
        "    plt.legend()"
      ]
    },
    {
      "cell_type": "code",
      "source": [
        "def get_k_missclassified(k: int, model: nn.Module, data: DataLoader) -> tuple[ list[torch.tensor], list[int], list[int] ]:\n",
        "    \"\"\"\n",
        "    Get first k samples of data on which model makes a mistake\n",
        "    \"\"\"\n",
        "    incorrect_samples = []\n",
        "    incorrect_labels = []\n",
        "    incorrect_preds = []\n",
        "\n",
        "    with torch.no_grad():\n",
        "        for X_batch, Y_batch in data:\n",
        "\n",
        "            preds = model(X_batch)\n",
        "            _, preds = torch.max(preds, 1) # class with the highest probability\n",
        "\n",
        "            incorrect_indices = (preds != Y_batch).nonzero(as_tuple=True)[0]\n",
        "\n",
        "            i = 0\n",
        "            while i < len(incorrect_indices) and k > 0:\n",
        "                incorrect_samples.append( X_batch[ incorrect_indices[i] ] )\n",
        "                incorrect_labels.append( Y_batch[ incorrect_indices[i] ].item() )\n",
        "                incorrect_preds.append( preds[ incorrect_indices[i] ].item() )\n",
        "                i += 1\n",
        "                k -= 1\n",
        "\n",
        "            if k == 0:\n",
        "                break\n",
        "\n",
        "    return incorrect_samples, incorrect_labels, incorrect_preds"
      ],
      "metadata": {
        "id": "GuFbVN9av7uR"
      },
      "execution_count": null,
      "outputs": []
    },
    {
      "cell_type": "code",
      "source": [
        "def per_class_accuracy(model: nn.Module, data: DataLoader, n_classes: int) -> None:\n",
        "    \"\"\"\n",
        "    Computes per-class accuracy of model on data (same as multiclass recall)\n",
        "    \"\"\"\n",
        "    correct = [0 for _ in range(n_classes)]\n",
        "    total = [0 for _ in range(n_classes)]\n",
        "\n",
        "    with torch.no_grad():\n",
        "        for X_batch, Y_batch in data:\n",
        "\n",
        "            preds = model(X_batch)\n",
        "            _, preds = torch.max(preds, 1)\n",
        "\n",
        "            for target_class in range(n_classes):\n",
        "\n",
        "                target_indices = Y_batch == target_class\n",
        "                X = X_batch[target_indices]\n",
        "                Y = Y_batch[target_indices]\n",
        "                target_preds = preds[target_indices]\n",
        "\n",
        "                correct[target_class] += (target_preds == Y).sum().item()\n",
        "                total[target_class] += target_indices.sum().item()\n",
        "\n",
        "    return [ correct[i] / total[i] for i in range(n_classes)]"
      ],
      "metadata": {
        "id": "J8O33tvc2x_V"
      },
      "execution_count": null,
      "outputs": []
    },
    {
      "cell_type": "markdown",
      "metadata": {
        "id": "76UAhusV-jvr"
      },
      "source": [
        "### MNIST evaluation"
      ]
    },
    {
      "cell_type": "markdown",
      "metadata": {
        "id": "JpwwoKWeLQ_q"
      },
      "source": [
        "First, let us plot achieved accuracies and loss values with respect to the chosen activation function:"
      ]
    },
    {
      "cell_type": "code",
      "execution_count": null,
      "metadata": {
        "id": "JlCcUs__CUQT",
        "colab": {
          "base_uri": "https://localhost:8080/",
          "height": 206
        },
        "outputId": "d028352e-2e60-4865-979f-fe34a8ca2a20"
      },
      "outputs": [
        {
          "output_type": "execute_result",
          "data": {
            "text/plain": [
              "                    Train loss  Validation loss  Train accuracy  \\\n",
              "Sigmoid               1.470931         1.476322        0.992021   \n",
              "Hyperbolic tangent    1.467071         1.471390        0.995019   \n",
              "ReLU                  1.471318         1.473066        0.989839   \n",
              "ELU                   1.474036         1.474145        0.987107   \n",
              "SELU                  1.477671         1.480699        0.983426   \n",
              "\n",
              "                    Validation accuracy  \n",
              "Sigmoid                        0.986365  \n",
              "Hyperbolic tangent             0.990545  \n",
              "ReLU                           0.987759  \n",
              "ELU                            0.987062  \n",
              "SELU                           0.980295  "
            ],
            "text/html": [
              "\n",
              "  <div id=\"df-26f8165d-469c-4fd5-afff-94fe1f68dec9\" class=\"colab-df-container\">\n",
              "    <div>\n",
              "<style scoped>\n",
              "    .dataframe tbody tr th:only-of-type {\n",
              "        vertical-align: middle;\n",
              "    }\n",
              "\n",
              "    .dataframe tbody tr th {\n",
              "        vertical-align: top;\n",
              "    }\n",
              "\n",
              "    .dataframe thead th {\n",
              "        text-align: right;\n",
              "    }\n",
              "</style>\n",
              "<table border=\"1\" class=\"dataframe\">\n",
              "  <thead>\n",
              "    <tr style=\"text-align: right;\">\n",
              "      <th></th>\n",
              "      <th>Train loss</th>\n",
              "      <th>Validation loss</th>\n",
              "      <th>Train accuracy</th>\n",
              "      <th>Validation accuracy</th>\n",
              "    </tr>\n",
              "  </thead>\n",
              "  <tbody>\n",
              "    <tr>\n",
              "      <th>Sigmoid</th>\n",
              "      <td>1.470931</td>\n",
              "      <td>1.476322</td>\n",
              "      <td>0.992021</td>\n",
              "      <td>0.986365</td>\n",
              "    </tr>\n",
              "    <tr>\n",
              "      <th>Hyperbolic tangent</th>\n",
              "      <td>1.467071</td>\n",
              "      <td>1.471390</td>\n",
              "      <td>0.995019</td>\n",
              "      <td>0.990545</td>\n",
              "    </tr>\n",
              "    <tr>\n",
              "      <th>ReLU</th>\n",
              "      <td>1.471318</td>\n",
              "      <td>1.473066</td>\n",
              "      <td>0.989839</td>\n",
              "      <td>0.987759</td>\n",
              "    </tr>\n",
              "    <tr>\n",
              "      <th>ELU</th>\n",
              "      <td>1.474036</td>\n",
              "      <td>1.474145</td>\n",
              "      <td>0.987107</td>\n",
              "      <td>0.987062</td>\n",
              "    </tr>\n",
              "    <tr>\n",
              "      <th>SELU</th>\n",
              "      <td>1.477671</td>\n",
              "      <td>1.480699</td>\n",
              "      <td>0.983426</td>\n",
              "      <td>0.980295</td>\n",
              "    </tr>\n",
              "  </tbody>\n",
              "</table>\n",
              "</div>\n",
              "    <div class=\"colab-df-buttons\">\n",
              "\n",
              "  <div class=\"colab-df-container\">\n",
              "    <button class=\"colab-df-convert\" onclick=\"convertToInteractive('df-26f8165d-469c-4fd5-afff-94fe1f68dec9')\"\n",
              "            title=\"Convert this dataframe to an interactive table.\"\n",
              "            style=\"display:none;\">\n",
              "\n",
              "  <svg xmlns=\"http://www.w3.org/2000/svg\" height=\"24px\" viewBox=\"0 -960 960 960\">\n",
              "    <path d=\"M120-120v-720h720v720H120Zm60-500h600v-160H180v160Zm220 220h160v-160H400v160Zm0 220h160v-160H400v160ZM180-400h160v-160H180v160Zm440 0h160v-160H620v160ZM180-180h160v-160H180v160Zm440 0h160v-160H620v160Z\"/>\n",
              "  </svg>\n",
              "    </button>\n",
              "\n",
              "  <style>\n",
              "    .colab-df-container {\n",
              "      display:flex;\n",
              "      gap: 12px;\n",
              "    }\n",
              "\n",
              "    .colab-df-convert {\n",
              "      background-color: #E8F0FE;\n",
              "      border: none;\n",
              "      border-radius: 50%;\n",
              "      cursor: pointer;\n",
              "      display: none;\n",
              "      fill: #1967D2;\n",
              "      height: 32px;\n",
              "      padding: 0 0 0 0;\n",
              "      width: 32px;\n",
              "    }\n",
              "\n",
              "    .colab-df-convert:hover {\n",
              "      background-color: #E2EBFA;\n",
              "      box-shadow: 0px 1px 2px rgba(60, 64, 67, 0.3), 0px 1px 3px 1px rgba(60, 64, 67, 0.15);\n",
              "      fill: #174EA6;\n",
              "    }\n",
              "\n",
              "    .colab-df-buttons div {\n",
              "      margin-bottom: 4px;\n",
              "    }\n",
              "\n",
              "    [theme=dark] .colab-df-convert {\n",
              "      background-color: #3B4455;\n",
              "      fill: #D2E3FC;\n",
              "    }\n",
              "\n",
              "    [theme=dark] .colab-df-convert:hover {\n",
              "      background-color: #434B5C;\n",
              "      box-shadow: 0px 1px 3px 1px rgba(0, 0, 0, 0.15);\n",
              "      filter: drop-shadow(0px 1px 2px rgba(0, 0, 0, 0.3));\n",
              "      fill: #FFFFFF;\n",
              "    }\n",
              "  </style>\n",
              "\n",
              "    <script>\n",
              "      const buttonEl =\n",
              "        document.querySelector('#df-26f8165d-469c-4fd5-afff-94fe1f68dec9 button.colab-df-convert');\n",
              "      buttonEl.style.display =\n",
              "        google.colab.kernel.accessAllowed ? 'block' : 'none';\n",
              "\n",
              "      async function convertToInteractive(key) {\n",
              "        const element = document.querySelector('#df-26f8165d-469c-4fd5-afff-94fe1f68dec9');\n",
              "        const dataTable =\n",
              "          await google.colab.kernel.invokeFunction('convertToInteractive',\n",
              "                                                    [key], {});\n",
              "        if (!dataTable) return;\n",
              "\n",
              "        const docLinkHtml = 'Like what you see? Visit the ' +\n",
              "          '<a target=\"_blank\" href=https://colab.research.google.com/notebooks/data_table.ipynb>data table notebook</a>'\n",
              "          + ' to learn more about interactive tables.';\n",
              "        element.innerHTML = '';\n",
              "        dataTable['output_type'] = 'display_data';\n",
              "        await google.colab.output.renderOutput(dataTable, element);\n",
              "        const docLink = document.createElement('div');\n",
              "        docLink.innerHTML = docLinkHtml;\n",
              "        element.appendChild(docLink);\n",
              "      }\n",
              "    </script>\n",
              "  </div>\n",
              "\n",
              "\n",
              "<div id=\"df-719cc4d9-7e60-4102-b651-f5a12627bc62\">\n",
              "  <button class=\"colab-df-quickchart\" onclick=\"quickchart('df-719cc4d9-7e60-4102-b651-f5a12627bc62')\"\n",
              "            title=\"Suggest charts\"\n",
              "            style=\"display:none;\">\n",
              "\n",
              "<svg xmlns=\"http://www.w3.org/2000/svg\" height=\"24px\"viewBox=\"0 0 24 24\"\n",
              "     width=\"24px\">\n",
              "    <g>\n",
              "        <path d=\"M19 3H5c-1.1 0-2 .9-2 2v14c0 1.1.9 2 2 2h14c1.1 0 2-.9 2-2V5c0-1.1-.9-2-2-2zM9 17H7v-7h2v7zm4 0h-2V7h2v10zm4 0h-2v-4h2v4z\"/>\n",
              "    </g>\n",
              "</svg>\n",
              "  </button>\n",
              "\n",
              "<style>\n",
              "  .colab-df-quickchart {\n",
              "      --bg-color: #E8F0FE;\n",
              "      --fill-color: #1967D2;\n",
              "      --hover-bg-color: #E2EBFA;\n",
              "      --hover-fill-color: #174EA6;\n",
              "      --disabled-fill-color: #AAA;\n",
              "      --disabled-bg-color: #DDD;\n",
              "  }\n",
              "\n",
              "  [theme=dark] .colab-df-quickchart {\n",
              "      --bg-color: #3B4455;\n",
              "      --fill-color: #D2E3FC;\n",
              "      --hover-bg-color: #434B5C;\n",
              "      --hover-fill-color: #FFFFFF;\n",
              "      --disabled-bg-color: #3B4455;\n",
              "      --disabled-fill-color: #666;\n",
              "  }\n",
              "\n",
              "  .colab-df-quickchart {\n",
              "    background-color: var(--bg-color);\n",
              "    border: none;\n",
              "    border-radius: 50%;\n",
              "    cursor: pointer;\n",
              "    display: none;\n",
              "    fill: var(--fill-color);\n",
              "    height: 32px;\n",
              "    padding: 0;\n",
              "    width: 32px;\n",
              "  }\n",
              "\n",
              "  .colab-df-quickchart:hover {\n",
              "    background-color: var(--hover-bg-color);\n",
              "    box-shadow: 0 1px 2px rgba(60, 64, 67, 0.3), 0 1px 3px 1px rgba(60, 64, 67, 0.15);\n",
              "    fill: var(--button-hover-fill-color);\n",
              "  }\n",
              "\n",
              "  .colab-df-quickchart-complete:disabled,\n",
              "  .colab-df-quickchart-complete:disabled:hover {\n",
              "    background-color: var(--disabled-bg-color);\n",
              "    fill: var(--disabled-fill-color);\n",
              "    box-shadow: none;\n",
              "  }\n",
              "\n",
              "  .colab-df-spinner {\n",
              "    border: 2px solid var(--fill-color);\n",
              "    border-color: transparent;\n",
              "    border-bottom-color: var(--fill-color);\n",
              "    animation:\n",
              "      spin 1s steps(1) infinite;\n",
              "  }\n",
              "\n",
              "  @keyframes spin {\n",
              "    0% {\n",
              "      border-color: transparent;\n",
              "      border-bottom-color: var(--fill-color);\n",
              "      border-left-color: var(--fill-color);\n",
              "    }\n",
              "    20% {\n",
              "      border-color: transparent;\n",
              "      border-left-color: var(--fill-color);\n",
              "      border-top-color: var(--fill-color);\n",
              "    }\n",
              "    30% {\n",
              "      border-color: transparent;\n",
              "      border-left-color: var(--fill-color);\n",
              "      border-top-color: var(--fill-color);\n",
              "      border-right-color: var(--fill-color);\n",
              "    }\n",
              "    40% {\n",
              "      border-color: transparent;\n",
              "      border-right-color: var(--fill-color);\n",
              "      border-top-color: var(--fill-color);\n",
              "    }\n",
              "    60% {\n",
              "      border-color: transparent;\n",
              "      border-right-color: var(--fill-color);\n",
              "    }\n",
              "    80% {\n",
              "      border-color: transparent;\n",
              "      border-right-color: var(--fill-color);\n",
              "      border-bottom-color: var(--fill-color);\n",
              "    }\n",
              "    90% {\n",
              "      border-color: transparent;\n",
              "      border-bottom-color: var(--fill-color);\n",
              "    }\n",
              "  }\n",
              "</style>\n",
              "\n",
              "  <script>\n",
              "    async function quickchart(key) {\n",
              "      const quickchartButtonEl =\n",
              "        document.querySelector('#' + key + ' button');\n",
              "      quickchartButtonEl.disabled = true;  // To prevent multiple clicks.\n",
              "      quickchartButtonEl.classList.add('colab-df-spinner');\n",
              "      try {\n",
              "        const charts = await google.colab.kernel.invokeFunction(\n",
              "            'suggestCharts', [key], {});\n",
              "      } catch (error) {\n",
              "        console.error('Error during call to suggestCharts:', error);\n",
              "      }\n",
              "      quickchartButtonEl.classList.remove('colab-df-spinner');\n",
              "      quickchartButtonEl.classList.add('colab-df-quickchart-complete');\n",
              "    }\n",
              "    (() => {\n",
              "      let quickchartButtonEl =\n",
              "        document.querySelector('#df-719cc4d9-7e60-4102-b651-f5a12627bc62 button');\n",
              "      quickchartButtonEl.style.display =\n",
              "        google.colab.kernel.accessAllowed ? 'block' : 'none';\n",
              "    })();\n",
              "  </script>\n",
              "</div>\n",
              "\n",
              "    </div>\n",
              "  </div>\n"
            ],
            "application/vnd.google.colaboratory.intrinsic+json": {
              "type": "dataframe",
              "summary": "{\n  \"name\": \"metrics_by_activation(MNIST_train_losses, MNIST_val_losses, MNIST_train_accs, MNIST_val_accs)\",\n  \"rows\": 5,\n  \"fields\": [\n    {\n      \"column\": \"Train loss\",\n      \"properties\": {\n        \"dtype\": \"number\",\n        \"std\": 0.003936873032150067,\n        \"min\": 1.467071089663231,\n        \"max\": 1.4776710322670845,\n        \"num_unique_values\": 5,\n        \"samples\": [\n          1.467071089663231,\n          1.4776710322670845,\n          1.4713183679560353\n        ],\n        \"semantic_type\": \"\",\n        \"description\": \"\"\n      }\n    },\n    {\n      \"column\": \"Validation loss\",\n      \"properties\": {\n        \"dtype\": \"number\",\n        \"std\": 0.0035934770092135777,\n        \"min\": 1.4713903984446435,\n        \"max\": 1.4806992369852248,\n        \"num_unique_values\": 5,\n        \"samples\": [\n          1.4713903984446435,\n          1.4806992369852248,\n          1.47306590702883\n        ],\n        \"semantic_type\": \"\",\n        \"description\": \"\"\n      }\n    },\n    {\n      \"column\": \"Train accuracy\",\n      \"properties\": {\n        \"dtype\": \"number\",\n        \"std\": 0.004459755357910571,\n        \"min\": 0.9834255063965884,\n        \"max\": 0.9950193230277186,\n        \"num_unique_values\": 5,\n        \"samples\": [\n          0.9950193230277186,\n          0.9834255063965884,\n          0.9898387526652452\n        ],\n        \"semantic_type\": \"\",\n        \"description\": \"\"\n      }\n    },\n    {\n      \"column\": \"Validation accuracy\",\n      \"properties\": {\n        \"dtype\": \"number\",\n        \"std\": 0.0037664947773123894,\n        \"min\": 0.9802945859872612,\n        \"max\": 0.9905453821656051,\n        \"num_unique_values\": 5,\n        \"samples\": [\n          0.9905453821656051,\n          0.9802945859872612,\n          0.9877587579617835\n        ],\n        \"semantic_type\": \"\",\n        \"description\": \"\"\n      }\n    }\n  ]\n}"
            }
          },
          "metadata": {},
          "execution_count": 51
        }
      ],
      "source": [
        "metrics_by_activation(MNIST_train_losses, MNIST_val_losses, MNIST_train_accs, MNIST_val_accs)"
      ]
    },
    {
      "cell_type": "markdown",
      "metadata": {
        "id": "bBpwUz8TLjxc"
      },
      "source": [
        "We observe that in the case of MNIST dataset, the best performing activation function with respect to the train accuracy is **Hyperbolic tangent**. Regarding the validation accuracy, **Hyperbolic tangent** and **ReLU** are among the best. Nevertheless, we have to be mindfull of the fact that the differences between the results are very small, and might not be statistically significant. Also, the MNIST classification seem to be quite easy problem for CNNs, thus, we observe that all the networks perform very well."
      ]
    },
    {
      "cell_type": "markdown",
      "metadata": {
        "id": "1mvwdIsDMqW4"
      },
      "source": [
        "Next, let us plot all 4 tracked metrics by epoch for all 5 models:"
      ]
    },
    {
      "cell_type": "code",
      "execution_count": null,
      "metadata": {
        "id": "PSAqpkTJNJls",
        "colab": {
          "base_uri": "https://localhost:8080/",
          "height": 507
        },
        "outputId": "747deb72-277b-40b1-bb09-6219f6462f2a"
      },
      "outputs": [
        {
          "output_type": "display_data",
          "data": {
            "text/plain": [
              "<Figure size 1200x500 with 2 Axes>"
            ],
            "image/png": "[encoded data removed]"
          },
          "metadata": {}
        }
      ],
      "source": [
        "plot_by_activation(MNIST_train_losses, MNIST_val_losses, \"Loss\")"
      ]
    },
    {
      "cell_type": "markdown",
      "metadata": {
        "id": "uX_vWouHPs3W"
      },
      "source": [
        "From the plot depicting the evolution of loss, we see that the sigmoid achieved higher loss in the early epochs. Regarding the rest of the functions, we see that they achieved similar loss values."
      ]
    },
    {
      "cell_type": "code",
      "execution_count": null,
      "metadata": {
        "id": "RBn2ZgekNdif",
        "colab": {
          "base_uri": "https://localhost:8080/",
          "height": 507
        },
        "outputId": "aa304f04-1e20-4b4c-cc4b-c429d9d1dc46"
      },
      "outputs": [
        {
          "output_type": "display_data",
          "data": {
            "text/plain": [
              "<Figure size 1200x500 with 2 Axes>"
            ],
            "image/png": "[encoded data removed]"
          },
          "metadata": {}
        }
      ],
      "source": [
        "plot_by_activation(MNIST_train_accs, MNIST_val_accs, \"Accuracy\")"
      ]
    },
    {
      "cell_type": "markdown",
      "metadata": {
        "id": "M_Qji7DAQXrq"
      },
      "source": [
        "We observe that in the end, the rest of the models achieved very similar performance. Finally, we need to be mindful that the obtained results also depend on the CNN architecture used. Different architectures might be differently suitable for given dataset and hyper-parameter selection."
      ]
    },
    {
      "cell_type": "markdown",
      "metadata": {
        "id": "qPmJI0ruRG94"
      },
      "source": [
        "As the next part of the evaluation of models trained on MNIST, let us observe some of the misclassified validation images (as a reference model, we choose the one using Hyperbolic tangent activation):"
      ]
    },
    {
      "cell_type": "code",
      "execution_count": null,
      "metadata": {
        "id": "jGTQWaY1RPpG",
        "colab": {
          "base_uri": "https://localhost:8080/",
          "height": 850
        },
        "outputId": "e03ffa8c-69e8-4387-8732-6eff5c2cd8f8"
      },
      "outputs": [
        {
          "output_type": "display_data",
          "data": {
            "text/plain": [
              "<Figure size 1000x1000 with 9 Axes>"
            ],
            "image/png": "[encoded data removed]"
          },
          "metadata": {}
        }
      ],
      "source": [
        "ht_model = MNIST_models[1]\n",
        "ims, targets, preds = get_k_missclassified(9, ht_model, MNIST_test_dataloader)\n",
        "show_images(ims, targets, preds)"
      ]
    },
    {
      "cell_type": "markdown",
      "source": [
        "Arguably, the errors that our model makes are very questionable. Majority of mistakes it makes, would result in a mistake also from a human being. It is up to discussion whether these are mistakes in the dataset, errors of our models, or just a noise."
      ],
      "metadata": {
        "id": "tOMBQUcj1x2r"
      }
    },
    {
      "cell_type": "markdown",
      "source": [
        "Finally, let us obsere a per-class accuracy (multiclass recall) for each model:"
      ],
      "metadata": {
        "id": "KGE07yHq4y7z"
      }
    },
    {
      "cell_type": "code",
      "source": [
        "data = {}\n",
        "for name, model in zip(activation_labels, MNIST_models):\n",
        "    data[name] = per_class_accuracy(model, MNIST_test_dataloader, 10)\n",
        "\n",
        "pd.DataFrame(data)"
      ],
      "metadata": {
        "colab": {
          "base_uri": "https://localhost:8080/",
          "height": 363
        },
        "id": "ZeSrlpCv43w0",
        "outputId": "3b8d6200-e1f9-4eb6-d672-803118782c33"
      },
      "execution_count": null,
      "outputs": [
        {
          "output_type": "execute_result",
          "data": {
            "text/plain": [
              "    Sigmoid  Hyperbolic tangent      ReLU       ELU      SELU\n",
              "0  0.995918            0.996939  0.996939  0.994898  0.994898\n",
              "1  0.998238            0.995595  0.997357  0.998238  0.951542\n",
              "2  0.990310            0.992248  0.985465  0.980620  0.975775\n",
              "3  0.993069            0.994059  0.980198  0.988119  0.996040\n",
              "4  0.993890            0.991853  0.992872  0.987780  0.988798\n",
              "5  0.984305            0.994395  0.993274  0.995516  0.983184\n",
              "6  0.975992            0.983299  0.984342  0.985386  0.978079\n",
              "7  0.991245            0.986381  0.986381  0.980545  0.993191\n",
              "8  0.971253            0.986653  0.975359  0.984600  0.971253\n",
              "9  0.966303            0.983152  0.984143  0.974232  0.973241"
            ],
            "text/html": [
              "\n",
              "  <div id=\"df-4ddf56cb-a512-4839-8abf-b6d5a1ae2621\" class=\"colab-df-container\">\n",
              "    <div>\n",
              "<style scoped>\n",
              "    .dataframe tbody tr th:only-of-type {\n",
              "        vertical-align: middle;\n",
              "    }\n",
              "\n",
              "    .dataframe tbody tr th {\n",
              "        vertical-align: top;\n",
              "    }\n",
              "\n",
              "    .dataframe thead th {\n",
              "        text-align: right;\n",
              "    }\n",
              "</style>\n",
              "<table border=\"1\" class=\"dataframe\">\n",
              "  <thead>\n",
              "    <tr style=\"text-align: right;\">\n",
              "      <th></th>\n",
              "      <th>Sigmoid</th>\n",
              "      <th>Hyperbolic tangent</th>\n",
              "      <th>ReLU</th>\n",
              "      <th>ELU</th>\n",
              "      <th>SELU</th>\n",
              "    </tr>\n",
              "  </thead>\n",
              "  <tbody>\n",
              "    <tr>\n",
              "      <th>0</th>\n",
              "      <td>0.995918</td>\n",
              "      <td>0.996939</td>\n",
              "      <td>0.996939</td>\n",
              "      <td>0.994898</td>\n",
              "      <td>0.994898</td>\n",
              "    </tr>\n",
              "    <tr>\n",
              "      <th>1</th>\n",
              "      <td>0.998238</td>\n",
              "      <td>0.995595</td>\n",
              "      <td>0.997357</td>\n",
              "      <td>0.998238</td>\n",
              "      <td>0.951542</td>\n",
              "    </tr>\n",
              "    <tr>\n",
              "      <th>2</th>\n",
              "      <td>0.990310</td>\n",
              "      <td>0.992248</td>\n",
              "      <td>0.985465</td>\n",
              "      <td>0.980620</td>\n",
              "      <td>0.975775</td>\n",
              "    </tr>\n",
              "    <tr>\n",
              "      <th>3</th>\n",
              "      <td>0.993069</td>\n",
              "      <td>0.994059</td>\n",
              "      <td>0.980198</td>\n",
              "      <td>0.988119</td>\n",
              "      <td>0.996040</td>\n",
              "    </tr>\n",
              "    <tr>\n",
              "      <th>4</th>\n",
              "      <td>0.993890</td>\n",
              "      <td>0.991853</td>\n",
              "      <td>0.992872</td>\n",
              "      <td>0.987780</td>\n",
              "      <td>0.988798</td>\n",
              "    </tr>\n",
              "    <tr>\n",
              "      <th>5</th>\n",
              "      <td>0.984305</td>\n",
              "      <td>0.994395</td>\n",
              "      <td>0.993274</td>\n",
              "      <td>0.995516</td>\n",
              "      <td>0.983184</td>\n",
              "    </tr>\n",
              "    <tr>\n",
              "      <th>6</th>\n",
              "      <td>0.975992</td>\n",
              "      <td>0.983299</td>\n",
              "      <td>0.984342</td>\n",
              "      <td>0.985386</td>\n",
              "      <td>0.978079</td>\n",
              "    </tr>\n",
              "    <tr>\n",
              "      <th>7</th>\n",
              "      <td>0.991245</td>\n",
              "      <td>0.986381</td>\n",
              "      <td>0.986381</td>\n",
              "      <td>0.980545</td>\n",
              "      <td>0.993191</td>\n",
              "    </tr>\n",
              "    <tr>\n",
              "      <th>8</th>\n",
              "      <td>0.971253</td>\n",
              "      <td>0.986653</td>\n",
              "      <td>0.975359</td>\n",
              "      <td>0.984600</td>\n",
              "      <td>0.971253</td>\n",
              "    </tr>\n",
              "    <tr>\n",
              "      <th>9</th>\n",
              "      <td>0.966303</td>\n",
              "      <td>0.983152</td>\n",
              "      <td>0.984143</td>\n",
              "      <td>0.974232</td>\n",
              "      <td>0.973241</td>\n",
              "    </tr>\n",
              "  </tbody>\n",
              "</table>\n",
              "</div>\n",
              "    <div class=\"colab-df-buttons\">\n",
              "\n",
              "  <div class=\"colab-df-container\">\n",
              "    <button class=\"colab-df-convert\" onclick=\"convertToInteractive('df-4ddf56cb-a512-4839-8abf-b6d5a1ae2621')\"\n",
              "            title=\"Convert this dataframe to an interactive table.\"\n",
              "            style=\"display:none;\">\n",
              "\n",
              "  <svg xmlns=\"http://www.w3.org/2000/svg\" height=\"24px\" viewBox=\"0 -960 960 960\">\n",
              "    <path d=\"M120-120v-720h720v720H120Zm60-500h600v-160H180v160Zm220 220h160v-160H400v160Zm0 220h160v-160H400v160ZM180-400h160v-160H180v160Zm440 0h160v-160H620v160ZM180-180h160v-160H180v160Zm440 0h160v-160H620v160Z\"/>\n",
              "  </svg>\n",
              "    </button>\n",
              "\n",
              "  <style>\n",
              "    .colab-df-container {\n",
              "      display:flex;\n",
              "      gap: 12px;\n",
              "    }\n",
              "\n",
              "    .colab-df-convert {\n",
              "      background-color: #E8F0FE;\n",
              "      border: none;\n",
              "      border-radius: 50%;\n",
              "      cursor: pointer;\n",
              "      display: none;\n",
              "      fill: #1967D2;\n",
              "      height: 32px;\n",
              "      padding: 0 0 0 0;\n",
              "      width: 32px;\n",
              "    }\n",
              "\n",
              "    .colab-df-convert:hover {\n",
              "      background-color: #E2EBFA;\n",
              "      box-shadow: 0px 1px 2px rgba(60, 64, 67, 0.3), 0px 1px 3px 1px rgba(60, 64, 67, 0.15);\n",
              "      fill: #174EA6;\n",
              "    }\n",
              "\n",
              "    .colab-df-buttons div {\n",
              "      margin-bottom: 4px;\n",
              "    }\n",
              "\n",
              "    [theme=dark] .colab-df-convert {\n",
              "      background-color: #3B4455;\n",
              "      fill: #D2E3FC;\n",
              "    }\n",
              "\n",
              "    [theme=dark] .colab-df-convert:hover {\n",
              "      background-color: #434B5C;\n",
              "      box-shadow: 0px 1px 3px 1px rgba(0, 0, 0, 0.15);\n",
              "      filter: drop-shadow(0px 1px 2px rgba(0, 0, 0, 0.3));\n",
              "      fill: #FFFFFF;\n",
              "    }\n",
              "  </style>\n",
              "\n",
              "    <script>\n",
              "      const buttonEl =\n",
              "        document.querySelector('#df-4ddf56cb-a512-4839-8abf-b6d5a1ae2621 button.colab-df-convert');\n",
              "      buttonEl.style.display =\n",
              "        google.colab.kernel.accessAllowed ? 'block' : 'none';\n",
              "\n",
              "      async function convertToInteractive(key) {\n",
              "        const element = document.querySelector('#df-4ddf56cb-a512-4839-8abf-b6d5a1ae2621');\n",
              "        const dataTable =\n",
              "          await google.colab.kernel.invokeFunction('convertToInteractive',\n",
              "                                                    [key], {});\n",
              "        if (!dataTable) return;\n",
              "\n",
              "        const docLinkHtml = 'Like what you see? Visit the ' +\n",
              "          '<a target=\"_blank\" href=https://colab.research.google.com/notebooks/data_table.ipynb>data table notebook</a>'\n",
              "          + ' to learn more about interactive tables.';\n",
              "        element.innerHTML = '';\n",
              "        dataTable['output_type'] = 'display_data';\n",
              "        await google.colab.output.renderOutput(dataTable, element);\n",
              "        const docLink = document.createElement('div');\n",
              "        docLink.innerHTML = docLinkHtml;\n",
              "        element.appendChild(docLink);\n",
              "      }\n",
              "    </script>\n",
              "  </div>\n",
              "\n",
              "\n",
              "<div id=\"df-2b0faa12-7e72-48cb-b66e-3278fff68f4b\">\n",
              "  <button class=\"colab-df-quickchart\" onclick=\"quickchart('df-2b0faa12-7e72-48cb-b66e-3278fff68f4b')\"\n",
              "            title=\"Suggest charts\"\n",
              "            style=\"display:none;\">\n",
              "\n",
              "<svg xmlns=\"http://www.w3.org/2000/svg\" height=\"24px\"viewBox=\"0 0 24 24\"\n",
              "     width=\"24px\">\n",
              "    <g>\n",
              "        <path d=\"M19 3H5c-1.1 0-2 .9-2 2v14c0 1.1.9 2 2 2h14c1.1 0 2-.9 2-2V5c0-1.1-.9-2-2-2zM9 17H7v-7h2v7zm4 0h-2V7h2v10zm4 0h-2v-4h2v4z\"/>\n",
              "    </g>\n",
              "</svg>\n",
              "  </button>\n",
              "\n",
              "<style>\n",
              "  .colab-df-quickchart {\n",
              "      --bg-color: #E8F0FE;\n",
              "      --fill-color: #1967D2;\n",
              "      --hover-bg-color: #E2EBFA;\n",
              "      --hover-fill-color: #174EA6;\n",
              "      --disabled-fill-color: #AAA;\n",
              "      --disabled-bg-color: #DDD;\n",
              "  }\n",
              "\n",
              "  [theme=dark] .colab-df-quickchart {\n",
              "      --bg-color: #3B4455;\n",
              "      --fill-color: #D2E3FC;\n",
              "      --hover-bg-color: #434B5C;\n",
              "      --hover-fill-color: #FFFFFF;\n",
              "      --disabled-bg-color: #3B4455;\n",
              "      --disabled-fill-color: #666;\n",
              "  }\n",
              "\n",
              "  .colab-df-quickchart {\n",
              "    background-color: var(--bg-color);\n",
              "    border: none;\n",
              "    border-radius: 50%;\n",
              "    cursor: pointer;\n",
              "    display: none;\n",
              "    fill: var(--fill-color);\n",
              "    height: 32px;\n",
              "    padding: 0;\n",
              "    width: 32px;\n",
              "  }\n",
              "\n",
              "  .colab-df-quickchart:hover {\n",
              "    background-color: var(--hover-bg-color);\n",
              "    box-shadow: 0 1px 2px rgba(60, 64, 67, 0.3), 0 1px 3px 1px rgba(60, 64, 67, 0.15);\n",
              "    fill: var(--button-hover-fill-color);\n",
              "  }\n",
              "\n",
              "  .colab-df-quickchart-complete:disabled,\n",
              "  .colab-df-quickchart-complete:disabled:hover {\n",
              "    background-color: var(--disabled-bg-color);\n",
              "    fill: var(--disabled-fill-color);\n",
              "    box-shadow: none;\n",
              "  }\n",
              "\n",
              "  .colab-df-spinner {\n",
              "    border: 2px solid var(--fill-color);\n",
              "    border-color: transparent;\n",
              "    border-bottom-color: var(--fill-color);\n",
              "    animation:\n",
              "      spin 1s steps(1) infinite;\n",
              "  }\n",
              "\n",
              "  @keyframes spin {\n",
              "    0% {\n",
              "      border-color: transparent;\n",
              "      border-bottom-color: var(--fill-color);\n",
              "      border-left-color: var(--fill-color);\n",
              "    }\n",
              "    20% {\n",
              "      border-color: transparent;\n",
              "      border-left-color: var(--fill-color);\n",
              "      border-top-color: var(--fill-color);\n",
              "    }\n",
              "    30% {\n",
              "      border-color: transparent;\n",
              "      border-left-color: var(--fill-color);\n",
              "      border-top-color: var(--fill-color);\n",
              "      border-right-color: var(--fill-color);\n",
              "    }\n",
              "    40% {\n",
              "      border-color: transparent;\n",
              "      border-right-color: var(--fill-color);\n",
              "      border-top-color: var(--fill-color);\n",
              "    }\n",
              "    60% {\n",
              "      border-color: transparent;\n",
              "      border-right-color: var(--fill-color);\n",
              "    }\n",
              "    80% {\n",
              "      border-color: transparent;\n",
              "      border-right-color: var(--fill-color);\n",
              "      border-bottom-color: var(--fill-color);\n",
              "    }\n",
              "    90% {\n",
              "      border-color: transparent;\n",
              "      border-bottom-color: var(--fill-color);\n",
              "    }\n",
              "  }\n",
              "</style>\n",
              "\n",
              "  <script>\n",
              "    async function quickchart(key) {\n",
              "      const quickchartButtonEl =\n",
              "        document.querySelector('#' + key + ' button');\n",
              "      quickchartButtonEl.disabled = true;  // To prevent multiple clicks.\n",
              "      quickchartButtonEl.classList.add('colab-df-spinner');\n",
              "      try {\n",
              "        const charts = await google.colab.kernel.invokeFunction(\n",
              "            'suggestCharts', [key], {});\n",
              "      } catch (error) {\n",
              "        console.error('Error during call to suggestCharts:', error);\n",
              "      }\n",
              "      quickchartButtonEl.classList.remove('colab-df-spinner');\n",
              "      quickchartButtonEl.classList.add('colab-df-quickchart-complete');\n",
              "    }\n",
              "    (() => {\n",
              "      let quickchartButtonEl =\n",
              "        document.querySelector('#df-2b0faa12-7e72-48cb-b66e-3278fff68f4b button');\n",
              "      quickchartButtonEl.style.display =\n",
              "        google.colab.kernel.accessAllowed ? 'block' : 'none';\n",
              "    })();\n",
              "  </script>\n",
              "</div>\n",
              "\n",
              "    </div>\n",
              "  </div>\n"
            ],
            "application/vnd.google.colaboratory.intrinsic+json": {
              "type": "dataframe",
              "summary": "{\n  \"name\": \"pd\",\n  \"rows\": 10,\n  \"fields\": [\n    {\n      \"column\": \"Sigmoid\",\n      \"properties\": {\n        \"dtype\": \"number\",\n        \"std\": 0.01113012177059488,\n        \"min\": 0.9663032705649157,\n        \"max\": 0.9982378854625551,\n        \"num_unique_values\": 10,\n        \"samples\": [\n          0.971252566735113,\n          0.9982378854625551,\n          0.984304932735426\n        ],\n        \"semantic_type\": \"\",\n        \"description\": \"\"\n      }\n    },\n    {\n      \"column\": \"Hyperbolic tangent\",\n      \"properties\": {\n        \"dtype\": \"number\",\n        \"std\": 0.005139639684455298,\n        \"min\": 0.9831516352824579,\n        \"max\": 0.996938775510204,\n        \"num_unique_values\": 10,\n        \"samples\": [\n          0.9866529774127311,\n          0.9955947136563876,\n          0.9943946188340808\n        ],\n        \"semantic_type\": \"\",\n        \"description\": \"\"\n      }\n    },\n    {\n      \"column\": \"ReLU\",\n      \"properties\": {\n        \"dtype\": \"number\",\n        \"std\": 0.007269480804905069,\n        \"min\": 0.9753593429158111,\n        \"max\": 0.9973568281938326,\n        \"num_unique_values\": 10,\n        \"samples\": [\n          0.9753593429158111,\n          0.9973568281938326,\n          0.9932735426008968\n        ],\n        \"semantic_type\": \"\",\n        \"description\": \"\"\n      }\n    },\n    {\n      \"column\": \"ELU\",\n      \"properties\": {\n        \"dtype\": \"number\",\n        \"std\": 0.0075778013709432,\n        \"min\": 0.9742319127849356,\n        \"max\": 0.9982378854625551,\n        \"num_unique_values\": 10,\n        \"samples\": [\n          0.9845995893223819,\n          0.9982378854625551,\n          0.9955156950672646\n        ],\n        \"semantic_type\": \"\",\n        \"description\": \"\"\n      }\n    },\n    {\n      \"column\": \"SELU\",\n      \"properties\": {\n        \"dtype\": \"number\",\n        \"std\": 0.013706315679791374,\n        \"min\": 0.9515418502202643,\n        \"max\": 0.996039603960396,\n        \"num_unique_values\": 10,\n        \"samples\": [\n          0.971252566735113,\n          0.9515418502202643,\n          0.9831838565022422\n        ],\n        \"semantic_type\": \"\",\n        \"description\": \"\"\n      }\n    }\n  ]\n}"
            }
          },
          "metadata": {},
          "execution_count": 55
        }
      ]
    },
    {
      "cell_type": "markdown",
      "source": [
        "We can observe, that on average, the worst accuracy is achieved on digits that are similar with some other digits (like '6' and '9' for instance)."
      ],
      "metadata": {
        "id": "BIQZLggf6UfZ"
      }
    },
    {
      "cell_type": "markdown",
      "metadata": {
        "id": "Pzl5pF99-mBz"
      },
      "source": [
        "### CIFAR10 evaluation"
      ]
    },
    {
      "cell_type": "markdown",
      "source": [
        "Similar to the MNIST evaluation, we first show the achievied metrics per node function used:"
      ],
      "metadata": {
        "id": "0hQ0bAnFCNFm"
      }
    },
    {
      "cell_type": "code",
      "execution_count": null,
      "metadata": {
        "id": "fpgGwvuPSMVO",
        "colab": {
          "base_uri": "https://localhost:8080/",
          "height": 206
        },
        "outputId": "d807d463-72b1-4af7-dd09-2314cff7f9d7"
      },
      "outputs": [
        {
          "output_type": "execute_result",
          "data": {
            "text/plain": [
              "                    Train loss  Validation loss  Train accuracy  \\\n",
              "Sigmoid               1.821217         1.892659        0.657089   \n",
              "Hyperbolic tangent    1.672035         1.766291        0.794337   \n",
              "ReLU                  1.668610         1.747619        0.792579   \n",
              "ELU                   1.686017         1.772194        0.774057   \n",
              "SELU                  1.786734         1.790995        0.673713   \n",
              "\n",
              "                    Validation accuracy  \n",
              "Sigmoid                        0.567576  \n",
              "Hyperbolic tangent             0.693372  \n",
              "ReLU                           0.711883  \n",
              "ELU                            0.687201  \n",
              "SELU                           0.668989  "
            ],
            "text/html": [
              "\n",
              "  <div id=\"df-d6c1151e-9db4-4012-892d-8b539bb22666\" class=\"colab-df-container\">\n",
              "    <div>\n",
              "<style scoped>\n",
              "    .dataframe tbody tr th:only-of-type {\n",
              "        vertical-align: middle;\n",
              "    }\n",
              "\n",
              "    .dataframe tbody tr th {\n",
              "        vertical-align: top;\n",
              "    }\n",
              "\n",
              "    .dataframe thead th {\n",
              "        text-align: right;\n",
              "    }\n",
              "</style>\n",
              "<table border=\"1\" class=\"dataframe\">\n",
              "  <thead>\n",
              "    <tr style=\"text-align: right;\">\n",
              "      <th></th>\n",
              "      <th>Train loss</th>\n",
              "      <th>Validation loss</th>\n",
              "      <th>Train accuracy</th>\n",
              "      <th>Validation accuracy</th>\n",
              "    </tr>\n",
              "  </thead>\n",
              "  <tbody>\n",
              "    <tr>\n",
              "      <th>Sigmoid</th>\n",
              "      <td>1.821217</td>\n",
              "      <td>1.892659</td>\n",
              "      <td>0.657089</td>\n",
              "      <td>0.567576</td>\n",
              "    </tr>\n",
              "    <tr>\n",
              "      <th>Hyperbolic tangent</th>\n",
              "      <td>1.672035</td>\n",
              "      <td>1.766291</td>\n",
              "      <td>0.794337</td>\n",
              "      <td>0.693372</td>\n",
              "    </tr>\n",
              "    <tr>\n",
              "      <th>ReLU</th>\n",
              "      <td>1.668610</td>\n",
              "      <td>1.747619</td>\n",
              "      <td>0.792579</td>\n",
              "      <td>0.711883</td>\n",
              "    </tr>\n",
              "    <tr>\n",
              "      <th>ELU</th>\n",
              "      <td>1.686017</td>\n",
              "      <td>1.772194</td>\n",
              "      <td>0.774057</td>\n",
              "      <td>0.687201</td>\n",
              "    </tr>\n",
              "    <tr>\n",
              "      <th>SELU</th>\n",
              "      <td>1.786734</td>\n",
              "      <td>1.790995</td>\n",
              "      <td>0.673713</td>\n",
              "      <td>0.668989</td>\n",
              "    </tr>\n",
              "  </tbody>\n",
              "</table>\n",
              "</div>\n",
              "    <div class=\"colab-df-buttons\">\n",
              "\n",
              "  <div class=\"colab-df-container\">\n",
              "    <button class=\"colab-df-convert\" onclick=\"convertToInteractive('df-d6c1151e-9db4-4012-892d-8b539bb22666')\"\n",
              "            title=\"Convert this dataframe to an interactive table.\"\n",
              "            style=\"display:none;\">\n",
              "\n",
              "  <svg xmlns=\"http://www.w3.org/2000/svg\" height=\"24px\" viewBox=\"0 -960 960 960\">\n",
              "    <path d=\"M120-120v-720h720v720H120Zm60-500h600v-160H180v160Zm220 220h160v-160H400v160Zm0 220h160v-160H400v160ZM180-400h160v-160H180v160Zm440 0h160v-160H620v160ZM180-180h160v-160H180v160Zm440 0h160v-160H620v160Z\"/>\n",
              "  </svg>\n",
              "    </button>\n",
              "\n",
              "  <style>\n",
              "    .colab-df-container {\n",
              "      display:flex;\n",
              "      gap: 12px;\n",
              "    }\n",
              "\n",
              "    .colab-df-convert {\n",
              "      background-color: #E8F0FE;\n",
              "      border: none;\n",
              "      border-radius: 50%;\n",
              "      cursor: pointer;\n",
              "      display: none;\n",
              "      fill: #1967D2;\n",
              "      height: 32px;\n",
              "      padding: 0 0 0 0;\n",
              "      width: 32px;\n",
              "    }\n",
              "\n",
              "    .colab-df-convert:hover {\n",
              "      background-color: #E2EBFA;\n",
              "      box-shadow: 0px 1px 2px rgba(60, 64, 67, 0.3), 0px 1px 3px 1px rgba(60, 64, 67, 0.15);\n",
              "      fill: #174EA6;\n",
              "    }\n",
              "\n",
              "    .colab-df-buttons div {\n",
              "      margin-bottom: 4px;\n",
              "    }\n",
              "\n",
              "    [theme=dark] .colab-df-convert {\n",
              "      background-color: #3B4455;\n",
              "      fill: #D2E3FC;\n",
              "    }\n",
              "\n",
              "    [theme=dark] .colab-df-convert:hover {\n",
              "      background-color: #434B5C;\n",
              "      box-shadow: 0px 1px 3px 1px rgba(0, 0, 0, 0.15);\n",
              "      filter: drop-shadow(0px 1px 2px rgba(0, 0, 0, 0.3));\n",
              "      fill: #FFFFFF;\n",
              "    }\n",
              "  </style>\n",
              "\n",
              "    <script>\n",
              "      const buttonEl =\n",
              "        document.querySelector('#df-d6c1151e-9db4-4012-892d-8b539bb22666 button.colab-df-convert');\n",
              "      buttonEl.style.display =\n",
              "        google.colab.kernel.accessAllowed ? 'block' : 'none';\n",
              "\n",
              "      async function convertToInteractive(key) {\n",
              "        const element = document.querySelector('#df-d6c1151e-9db4-4012-892d-8b539bb22666');\n",
              "        const dataTable =\n",
              "          await google.colab.kernel.invokeFunction('convertToInteractive',\n",
              "                                                    [key], {});\n",
              "        if (!dataTable) return;\n",
              "\n",
              "        const docLinkHtml = 'Like what you see? Visit the ' +\n",
              "          '<a target=\"_blank\" href=https://colab.research.google.com/notebooks/data_table.ipynb>data table notebook</a>'\n",
              "          + ' to learn more about interactive tables.';\n",
              "        element.innerHTML = '';\n",
              "        dataTable['output_type'] = 'display_data';\n",
              "        await google.colab.output.renderOutput(dataTable, element);\n",
              "        const docLink = document.createElement('div');\n",
              "        docLink.innerHTML = docLinkHtml;\n",
              "        element.appendChild(docLink);\n",
              "      }\n",
              "    </script>\n",
              "  </div>\n",
              "\n",
              "\n",
              "<div id=\"df-b202b579-8da8-45bd-a996-53b3811a46b5\">\n",
              "  <button class=\"colab-df-quickchart\" onclick=\"quickchart('df-b202b579-8da8-45bd-a996-53b3811a46b5')\"\n",
              "            title=\"Suggest charts\"\n",
              "            style=\"display:none;\">\n",
              "\n",
              "<svg xmlns=\"http://www.w3.org/2000/svg\" height=\"24px\"viewBox=\"0 0 24 24\"\n",
              "     width=\"24px\">\n",
              "    <g>\n",
              "        <path d=\"M19 3H5c-1.1 0-2 .9-2 2v14c0 1.1.9 2 2 2h14c1.1 0 2-.9 2-2V5c0-1.1-.9-2-2-2zM9 17H7v-7h2v7zm4 0h-2V7h2v10zm4 0h-2v-4h2v4z\"/>\n",
              "    </g>\n",
              "</svg>\n",
              "  </button>\n",
              "\n",
              "<style>\n",
              "  .colab-df-quickchart {\n",
              "      --bg-color: #E8F0FE;\n",
              "      --fill-color: #1967D2;\n",
              "      --hover-bg-color: #E2EBFA;\n",
              "      --hover-fill-color: #174EA6;\n",
              "      --disabled-fill-color: #AAA;\n",
              "      --disabled-bg-color: #DDD;\n",
              "  }\n",
              "\n",
              "  [theme=dark] .colab-df-quickchart {\n",
              "      --bg-color: #3B4455;\n",
              "      --fill-color: #D2E3FC;\n",
              "      --hover-bg-color: #434B5C;\n",
              "      --hover-fill-color: #FFFFFF;\n",
              "      --disabled-bg-color: #3B4455;\n",
              "      --disabled-fill-color: #666;\n",
              "  }\n",
              "\n",
              "  .colab-df-quickchart {\n",
              "    background-color: var(--bg-color);\n",
              "    border: none;\n",
              "    border-radius: 50%;\n",
              "    cursor: pointer;\n",
              "    display: none;\n",
              "    fill: var(--fill-color);\n",
              "    height: 32px;\n",
              "    padding: 0;\n",
              "    width: 32px;\n",
              "  }\n",
              "\n",
              "  .colab-df-quickchart:hover {\n",
              "    background-color: var(--hover-bg-color);\n",
              "    box-shadow: 0 1px 2px rgba(60, 64, 67, 0.3), 0 1px 3px 1px rgba(60, 64, 67, 0.15);\n",
              "    fill: var(--button-hover-fill-color);\n",
              "  }\n",
              "\n",
              "  .colab-df-quickchart-complete:disabled,\n",
              "  .colab-df-quickchart-complete:disabled:hover {\n",
              "    background-color: var(--disabled-bg-color);\n",
              "    fill: var(--disabled-fill-color);\n",
              "    box-shadow: none;\n",
              "  }\n",
              "\n",
              "  .colab-df-spinner {\n",
              "    border: 2px solid var(--fill-color);\n",
              "    border-color: transparent;\n",
              "    border-bottom-color: var(--fill-color);\n",
              "    animation:\n",
              "      spin 1s steps(1) infinite;\n",
              "  }\n",
              "\n",
              "  @keyframes spin {\n",
              "    0% {\n",
              "      border-color: transparent;\n",
              "      border-bottom-color: var(--fill-color);\n",
              "      border-left-color: var(--fill-color);\n",
              "    }\n",
              "    20% {\n",
              "      border-color: transparent;\n",
              "      border-left-color: var(--fill-color);\n",
              "      border-top-color: var(--fill-color);\n",
              "    }\n",
              "    30% {\n",
              "      border-color: transparent;\n",
              "      border-left-color: var(--fill-color);\n",
              "      border-top-color: var(--fill-color);\n",
              "      border-right-color: var(--fill-color);\n",
              "    }\n",
              "    40% {\n",
              "      border-color: transparent;\n",
              "      border-right-color: var(--fill-color);\n",
              "      border-top-color: var(--fill-color);\n",
              "    }\n",
              "    60% {\n",
              "      border-color: transparent;\n",
              "      border-right-color: var(--fill-color);\n",
              "    }\n",
              "    80% {\n",
              "      border-color: transparent;\n",
              "      border-right-color: var(--fill-color);\n",
              "      border-bottom-color: var(--fill-color);\n",
              "    }\n",
              "    90% {\n",
              "      border-color: transparent;\n",
              "      border-bottom-color: var(--fill-color);\n",
              "    }\n",
              "  }\n",
              "</style>\n",
              "\n",
              "  <script>\n",
              "    async function quickchart(key) {\n",
              "      const quickchartButtonEl =\n",
              "        document.querySelector('#' + key + ' button');\n",
              "      quickchartButtonEl.disabled = true;  // To prevent multiple clicks.\n",
              "      quickchartButtonEl.classList.add('colab-df-spinner');\n",
              "      try {\n",
              "        const charts = await google.colab.kernel.invokeFunction(\n",
              "            'suggestCharts', [key], {});\n",
              "      } catch (error) {\n",
              "        console.error('Error during call to suggestCharts:', error);\n",
              "      }\n",
              "      quickchartButtonEl.classList.remove('colab-df-spinner');\n",
              "      quickchartButtonEl.classList.add('colab-df-quickchart-complete');\n",
              "    }\n",
              "    (() => {\n",
              "      let quickchartButtonEl =\n",
              "        document.querySelector('#df-b202b579-8da8-45bd-a996-53b3811a46b5 button');\n",
              "      quickchartButtonEl.style.display =\n",
              "        google.colab.kernel.accessAllowed ? 'block' : 'none';\n",
              "    })();\n",
              "  </script>\n",
              "</div>\n",
              "\n",
              "    </div>\n",
              "  </div>\n"
            ],
            "application/vnd.google.colaboratory.intrinsic+json": {
              "type": "dataframe",
              "summary": "{\n  \"name\": \"metrics_by_activation(CIFAR10_train_losses, CIFAR10_val_losses, CIFAR10_train_accs, CIFAR10_val_accs)\",\n  \"rows\": 5,\n  \"fields\": [\n    {\n      \"column\": \"Train loss\",\n      \"properties\": {\n        \"dtype\": \"number\",\n        \"std\": 0.07168526865614279,\n        \"min\": 1.6686104467457823,\n        \"max\": 1.8212171885973352,\n        \"num_unique_values\": 5,\n        \"samples\": [\n          1.6720351893883532,\n          1.7867341527853475,\n          1.6686104467457823\n        ],\n        \"semantic_type\": \"\",\n        \"description\": \"\"\n      }\n    },\n    {\n      \"column\": \"Validation loss\",\n      \"properties\": {\n        \"dtype\": \"number\",\n        \"std\": 0.0573084372555574,\n        \"min\": 1.7476194914738843,\n        \"max\": 1.8926589967338903,\n        \"num_unique_values\": 5,\n        \"samples\": [\n          1.7662913525939747,\n          1.7909951323916198,\n          1.7476194914738843\n        ],\n        \"semantic_type\": \"\",\n        \"description\": \"\"\n      }\n    },\n    {\n      \"column\": \"Train accuracy\",\n      \"properties\": {\n        \"dtype\": \"number\",\n        \"std\": 0.06732682179256452,\n        \"min\": 0.6570891943734015,\n        \"max\": 0.7943374360613811,\n        \"num_unique_values\": 5,\n        \"samples\": [\n          0.7943374360613811,\n          0.6737132352941176,\n          0.7925791240409207\n        ],\n        \"semantic_type\": \"\",\n        \"description\": \"\"\n      }\n    },\n    {\n      \"column\": \"Validation accuracy\",\n      \"properties\": {\n        \"dtype\": \"number\",\n        \"std\": 0.057008902602018595,\n        \"min\": 0.5675756369426752,\n        \"max\": 0.7118829617834395,\n        \"num_unique_values\": 5,\n        \"samples\": [\n          0.6933718152866242,\n          0.6689888535031847,\n          0.7118829617834395\n        ],\n        \"semantic_type\": \"\",\n        \"description\": \"\"\n      }\n    }\n  ]\n}"
            }
          },
          "metadata": {},
          "execution_count": 26
        }
      ],
      "source": [
        "metrics_by_activation(CIFAR10_train_losses, CIFAR10_val_losses, CIFAR10_train_accs, CIFAR10_val_accs)"
      ]
    },
    {
      "cell_type": "markdown",
      "source": [
        "We observe that regarding the train accuracy, again, **Hyperbolic tangent** and **ReLU** seem to perform the best. On the validation set, the **ReLU** is significantly the best option. Also, notice that the accuracies on validation dataset and considerably smaller than on training one, which might indicate overfitting."
      ],
      "metadata": {
        "id": "RPb9O6wuGoHE"
      }
    },
    {
      "cell_type": "markdown",
      "source": [
        "Next, we show the evolution of loss and accuracy for both train and validation datasets by epoch:"
      ],
      "metadata": {
        "id": "qFlxFrtkHjD9"
      }
    },
    {
      "cell_type": "code",
      "source": [
        "plot_by_activation(CIFAR10_train_losses, CIFAR10_val_losses, \"Loss\")"
      ],
      "metadata": {
        "colab": {
          "base_uri": "https://localhost:8080/",
          "height": 507
        },
        "id": "C96lX8XAHpk7",
        "outputId": "863d18c9-f01c-478f-9344-3bf005c1016e"
      },
      "execution_count": null,
      "outputs": [
        {
          "output_type": "display_data",
          "data": {
            "text/plain": [
              "<Figure size 1200x500 with 2 Axes>"
            ],
            "image/png": "[encoded data removed]"
          },
          "metadata": {}
        }
      ]
    },
    {
      "cell_type": "markdown",
      "source": [
        "We see that sigmoid node function tends to lag behind in this case. CIFAR10 is more difficult dataset, thus, it indicates troubles with training deep CNN with sigmoid activations in hidden layers. Also, notice that the loss on train dataset is smoother than on validation one."
      ],
      "metadata": {
        "id": "I4qm2wF6IySj"
      }
    },
    {
      "cell_type": "code",
      "source": [
        "plot_by_activation(CIFAR10_train_accs, CIFAR10_val_accs, \"Accuracy\")"
      ],
      "metadata": {
        "colab": {
          "base_uri": "https://localhost:8080/",
          "height": 507
        },
        "id": "nqRhRtrOIjYN",
        "outputId": "e0c15d3f-5954-43a3-d5e4-b8b250f6f123"
      },
      "execution_count": null,
      "outputs": [
        {
          "output_type": "display_data",
          "data": {
            "text/plain": [
              "<Figure size 1200x500 with 2 Axes>"
            ],
            "image/png": "[encoded data removed]"
          },
          "metadata": {}
        }
      ]
    },
    {
      "cell_type": "markdown",
      "source": [
        "Regarding the accuracies, they similar observations hold as for the losses. Namely, CNN using sigmoid is performing significantly worse than other ones. Also, the accuracy evolution is smoother on train dataset. As we demonstrated earlier, ReLU and Hyperbolic tangent seem to be the best options."
      ],
      "metadata": {
        "id": "M7Hhc2igJd68"
      }
    },
    {
      "cell_type": "markdown",
      "source": [
        "Next, we fix the model using ReLU activation (since it is the best one) and see what mistakes it makes:"
      ],
      "metadata": {
        "id": "Xh4KCu2pKcpa"
      }
    },
    {
      "cell_type": "code",
      "source": [
        "r_model = CIFAR10_models[2]\n",
        "ims, targets, preds = get_k_missclassified(9, r_model, CIFAR10_test_dataloader)\n",
        "show_images(ims, [CIFAR10_translate[i] for i in targets], [CIFAR10_translate[i] for i in preds], mnist=False)"
      ],
      "metadata": {
        "colab": {
          "base_uri": "https://localhost:8080/",
          "height": 850
        },
        "id": "w4wFbL9EK49I",
        "outputId": "5fd6d899-b05c-4ca4-d826-ec6f02631b97"
      },
      "execution_count": null,
      "outputs": [
        {
          "output_type": "display_data",
          "data": {
            "text/plain": [
              "<Figure size 1000x1000 with 9 Axes>"
            ],
            "image/png": "[encoded data removed]"
          },
          "metadata": {}
        }
      ]
    },
    {
      "cell_type": "markdown",
      "source": [
        "We observe that some mistakes are really mistakes, however, some of them are very tough to decide even for human observer. Thus, we conclude that our models really learnt something."
      ],
      "metadata": {
        "id": "nPkHPcGZLmDo"
      }
    },
    {
      "cell_type": "markdown",
      "source": [
        "Finally, let us demonstrate the per-class accuracy of each model:"
      ],
      "metadata": {
        "id": "k9sRe_paL8Tx"
      }
    },
    {
      "cell_type": "code",
      "source": [
        "data = {}\n",
        "for name, model in zip(activation_labels, CIFAR10_models):\n",
        "    data[name] = per_class_accuracy(model, CIFAR10_test_dataloader, 10)\n",
        "\n",
        "df = pd.DataFrame(data)\n",
        "df.index = CIFAR10_translate\n",
        "df"
      ],
      "metadata": {
        "colab": {
          "base_uri": "https://localhost:8080/",
          "height": 363
        },
        "id": "rUhYEMMhMAxE",
        "outputId": "03eaad50-e2f6-4996-e608-2a69cbf827d4"
      },
      "execution_count": null,
      "outputs": [
        {
          "output_type": "execute_result",
          "data": {
            "text/plain": [
              "            Sigmoid  Hyperbolic tangent   ReLU    ELU   SELU\n",
              "airplane      0.617               0.773  0.733  0.768  0.757\n",
              "automobile    0.700               0.812  0.836  0.794  0.796\n",
              "bird          0.402               0.492  0.599  0.440  0.495\n",
              "cat           0.547               0.583  0.570  0.569  0.421\n",
              "deer          0.370               0.602  0.580  0.561  0.665\n",
              "dog           0.507               0.609  0.599  0.595  0.544\n",
              "frog          0.587               0.780  0.810  0.785  0.776\n",
              "horse         0.602               0.721  0.757  0.649  0.681\n",
              "ship          0.696               0.774  0.831  0.839  0.779\n",
              "truck         0.645               0.791  0.802  0.869  0.778"
            ],
            "text/html": [
              "\n",
              "  <div id=\"df-598e0a4e-fbb7-4fcd-a8f5-e37a01034cd8\" class=\"colab-df-container\">\n",
              "    <div>\n",
              "<style scoped>\n",
              "    .dataframe tbody tr th:only-of-type {\n",
              "        vertical-align: middle;\n",
              "    }\n",
              "\n",
              "    .dataframe tbody tr th {\n",
              "        vertical-align: top;\n",
              "    }\n",
              "\n",
              "    .dataframe thead th {\n",
              "        text-align: right;\n",
              "    }\n",
              "</style>\n",
              "<table border=\"1\" class=\"dataframe\">\n",
              "  <thead>\n",
              "    <tr style=\"text-align: right;\">\n",
              "      <th></th>\n",
              "      <th>Sigmoid</th>\n",
              "      <th>Hyperbolic tangent</th>\n",
              "      <th>ReLU</th>\n",
              "      <th>ELU</th>\n",
              "      <th>SELU</th>\n",
              "    </tr>\n",
              "  </thead>\n",
              "  <tbody>\n",
              "    <tr>\n",
              "      <th>airplane</th>\n",
              "      <td>0.617</td>\n",
              "      <td>0.773</td>\n",
              "      <td>0.733</td>\n",
              "      <td>0.768</td>\n",
              "      <td>0.757</td>\n",
              "    </tr>\n",
              "    <tr>\n",
              "      <th>automobile</th>\n",
              "      <td>0.700</td>\n",
              "      <td>0.812</td>\n",
              "      <td>0.836</td>\n",
              "      <td>0.794</td>\n",
              "      <td>0.796</td>\n",
              "    </tr>\n",
              "    <tr>\n",
              "      <th>bird</th>\n",
              "      <td>0.402</td>\n",
              "      <td>0.492</td>\n",
              "      <td>0.599</td>\n",
              "      <td>0.440</td>\n",
              "      <td>0.495</td>\n",
              "    </tr>\n",
              "    <tr>\n",
              "      <th>cat</th>\n",
              "      <td>0.547</td>\n",
              "      <td>0.583</td>\n",
              "      <td>0.570</td>\n",
              "      <td>0.569</td>\n",
              "      <td>0.421</td>\n",
              "    </tr>\n",
              "    <tr>\n",
              "      <th>deer</th>\n",
              "      <td>0.370</td>\n",
              "      <td>0.602</td>\n",
              "      <td>0.580</td>\n",
              "      <td>0.561</td>\n",
              "      <td>0.665</td>\n",
              "    </tr>\n",
              "    <tr>\n",
              "      <th>dog</th>\n",
              "      <td>0.507</td>\n",
              "      <td>0.609</td>\n",
              "      <td>0.599</td>\n",
              "      <td>0.595</td>\n",
              "      <td>0.544</td>\n",
              "    </tr>\n",
              "    <tr>\n",
              "      <th>frog</th>\n",
              "      <td>0.587</td>\n",
              "      <td>0.780</td>\n",
              "      <td>0.810</td>\n",
              "      <td>0.785</td>\n",
              "      <td>0.776</td>\n",
              "    </tr>\n",
              "    <tr>\n",
              "      <th>horse</th>\n",
              "      <td>0.602</td>\n",
              "      <td>0.721</td>\n",
              "      <td>0.757</td>\n",
              "      <td>0.649</td>\n",
              "      <td>0.681</td>\n",
              "    </tr>\n",
              "    <tr>\n",
              "      <th>ship</th>\n",
              "      <td>0.696</td>\n",
              "      <td>0.774</td>\n",
              "      <td>0.831</td>\n",
              "      <td>0.839</td>\n",
              "      <td>0.779</td>\n",
              "    </tr>\n",
              "    <tr>\n",
              "      <th>truck</th>\n",
              "      <td>0.645</td>\n",
              "      <td>0.791</td>\n",
              "      <td>0.802</td>\n",
              "      <td>0.869</td>\n",
              "      <td>0.778</td>\n",
              "    </tr>\n",
              "  </tbody>\n",
              "</table>\n",
              "</div>\n",
              "    <div class=\"colab-df-buttons\">\n",
              "\n",
              "  <div class=\"colab-df-container\">\n",
              "    <button class=\"colab-df-convert\" onclick=\"convertToInteractive('df-598e0a4e-fbb7-4fcd-a8f5-e37a01034cd8')\"\n",
              "            title=\"Convert this dataframe to an interactive table.\"\n",
              "            style=\"display:none;\">\n",
              "\n",
              "  <svg xmlns=\"http://www.w3.org/2000/svg\" height=\"24px\" viewBox=\"0 -960 960 960\">\n",
              "    <path d=\"M120-120v-720h720v720H120Zm60-500h600v-160H180v160Zm220 220h160v-160H400v160Zm0 220h160v-160H400v160ZM180-400h160v-160H180v160Zm440 0h160v-160H620v160ZM180-180h160v-160H180v160Zm440 0h160v-160H620v160Z\"/>\n",
              "  </svg>\n",
              "    </button>\n",
              "\n",
              "  <style>\n",
              "    .colab-df-container {\n",
              "      display:flex;\n",
              "      gap: 12px;\n",
              "    }\n",
              "\n",
              "    .colab-df-convert {\n",
              "      background-color: #E8F0FE;\n",
              "      border: none;\n",
              "      border-radius: 50%;\n",
              "      cursor: pointer;\n",
              "      display: none;\n",
              "      fill: #1967D2;\n",
              "      height: 32px;\n",
              "      padding: 0 0 0 0;\n",
              "      width: 32px;\n",
              "    }\n",
              "\n",
              "    .colab-df-convert:hover {\n",
              "      background-color: #E2EBFA;\n",
              "      box-shadow: 0px 1px 2px rgba(60, 64, 67, 0.3), 0px 1px 3px 1px rgba(60, 64, 67, 0.15);\n",
              "      fill: #174EA6;\n",
              "    }\n",
              "\n",
              "    .colab-df-buttons div {\n",
              "      margin-bottom: 4px;\n",
              "    }\n",
              "\n",
              "    [theme=dark] .colab-df-convert {\n",
              "      background-color: #3B4455;\n",
              "      fill: #D2E3FC;\n",
              "    }\n",
              "\n",
              "    [theme=dark] .colab-df-convert:hover {\n",
              "      background-color: #434B5C;\n",
              "      box-shadow: 0px 1px 3px 1px rgba(0, 0, 0, 0.15);\n",
              "      filter: drop-shadow(0px 1px 2px rgba(0, 0, 0, 0.3));\n",
              "      fill: #FFFFFF;\n",
              "    }\n",
              "  </style>\n",
              "\n",
              "    <script>\n",
              "      const buttonEl =\n",
              "        document.querySelector('#df-598e0a4e-fbb7-4fcd-a8f5-e37a01034cd8 button.colab-df-convert');\n",
              "      buttonEl.style.display =\n",
              "        google.colab.kernel.accessAllowed ? 'block' : 'none';\n",
              "\n",
              "      async function convertToInteractive(key) {\n",
              "        const element = document.querySelector('#df-598e0a4e-fbb7-4fcd-a8f5-e37a01034cd8');\n",
              "        const dataTable =\n",
              "          await google.colab.kernel.invokeFunction('convertToInteractive',\n",
              "                                                    [key], {});\n",
              "        if (!dataTable) return;\n",
              "\n",
              "        const docLinkHtml = 'Like what you see? Visit the ' +\n",
              "          '<a target=\"_blank\" href=https://colab.research.google.com/notebooks/data_table.ipynb>data table notebook</a>'\n",
              "          + ' to learn more about interactive tables.';\n",
              "        element.innerHTML = '';\n",
              "        dataTable['output_type'] = 'display_data';\n",
              "        await google.colab.output.renderOutput(dataTable, element);\n",
              "        const docLink = document.createElement('div');\n",
              "        docLink.innerHTML = docLinkHtml;\n",
              "        element.appendChild(docLink);\n",
              "      }\n",
              "    </script>\n",
              "  </div>\n",
              "\n",
              "\n",
              "<div id=\"df-5038a82a-5ed7-4d1c-bbeb-cf6b376ce25f\">\n",
              "  <button class=\"colab-df-quickchart\" onclick=\"quickchart('df-5038a82a-5ed7-4d1c-bbeb-cf6b376ce25f')\"\n",
              "            title=\"Suggest charts\"\n",
              "            style=\"display:none;\">\n",
              "\n",
              "<svg xmlns=\"http://www.w3.org/2000/svg\" height=\"24px\"viewBox=\"0 0 24 24\"\n",
              "     width=\"24px\">\n",
              "    <g>\n",
              "        <path d=\"M19 3H5c-1.1 0-2 .9-2 2v14c0 1.1.9 2 2 2h14c1.1 0 2-.9 2-2V5c0-1.1-.9-2-2-2zM9 17H7v-7h2v7zm4 0h-2V7h2v10zm4 0h-2v-4h2v4z\"/>\n",
              "    </g>\n",
              "</svg>\n",
              "  </button>\n",
              "\n",
              "<style>\n",
              "  .colab-df-quickchart {\n",
              "      --bg-color: #E8F0FE;\n",
              "      --fill-color: #1967D2;\n",
              "      --hover-bg-color: #E2EBFA;\n",
              "      --hover-fill-color: #174EA6;\n",
              "      --disabled-fill-color: #AAA;\n",
              "      --disabled-bg-color: #DDD;\n",
              "  }\n",
              "\n",
              "  [theme=dark] .colab-df-quickchart {\n",
              "      --bg-color: #3B4455;\n",
              "      --fill-color: #D2E3FC;\n",
              "      --hover-bg-color: #434B5C;\n",
              "      --hover-fill-color: #FFFFFF;\n",
              "      --disabled-bg-color: #3B4455;\n",
              "      --disabled-fill-color: #666;\n",
              "  }\n",
              "\n",
              "  .colab-df-quickchart {\n",
              "    background-color: var(--bg-color);\n",
              "    border: none;\n",
              "    border-radius: 50%;\n",
              "    cursor: pointer;\n",
              "    display: none;\n",
              "    fill: var(--fill-color);\n",
              "    height: 32px;\n",
              "    padding: 0;\n",
              "    width: 32px;\n",
              "  }\n",
              "\n",
              "  .colab-df-quickchart:hover {\n",
              "    background-color: var(--hover-bg-color);\n",
              "    box-shadow: 0 1px 2px rgba(60, 64, 67, 0.3), 0 1px 3px 1px rgba(60, 64, 67, 0.15);\n",
              "    fill: var(--button-hover-fill-color);\n",
              "  }\n",
              "\n",
              "  .colab-df-quickchart-complete:disabled,\n",
              "  .colab-df-quickchart-complete:disabled:hover {\n",
              "    background-color: var(--disabled-bg-color);\n",
              "    fill: var(--disabled-fill-color);\n",
              "    box-shadow: none;\n",
              "  }\n",
              "\n",
              "  .colab-df-spinner {\n",
              "    border: 2px solid var(--fill-color);\n",
              "    border-color: transparent;\n",
              "    border-bottom-color: var(--fill-color);\n",
              "    animation:\n",
              "      spin 1s steps(1) infinite;\n",
              "  }\n",
              "\n",
              "  @keyframes spin {\n",
              "    0% {\n",
              "      border-color: transparent;\n",
              "      border-bottom-color: var(--fill-color);\n",
              "      border-left-color: var(--fill-color);\n",
              "    }\n",
              "    20% {\n",
              "      border-color: transparent;\n",
              "      border-left-color: var(--fill-color);\n",
              "      border-top-color: var(--fill-color);\n",
              "    }\n",
              "    30% {\n",
              "      border-color: transparent;\n",
              "      border-left-color: var(--fill-color);\n",
              "      border-top-color: var(--fill-color);\n",
              "      border-right-color: var(--fill-color);\n",
              "    }\n",
              "    40% {\n",
              "      border-color: transparent;\n",
              "      border-right-color: var(--fill-color);\n",
              "      border-top-color: var(--fill-color);\n",
              "    }\n",
              "    60% {\n",
              "      border-color: transparent;\n",
              "      border-right-color: var(--fill-color);\n",
              "    }\n",
              "    80% {\n",
              "      border-color: transparent;\n",
              "      border-right-color: var(--fill-color);\n",
              "      border-bottom-color: var(--fill-color);\n",
              "    }\n",
              "    90% {\n",
              "      border-color: transparent;\n",
              "      border-bottom-color: var(--fill-color);\n",
              "    }\n",
              "  }\n",
              "</style>\n",
              "\n",
              "  <script>\n",
              "    async function quickchart(key) {\n",
              "      const quickchartButtonEl =\n",
              "        document.querySelector('#' + key + ' button');\n",
              "      quickchartButtonEl.disabled = true;  // To prevent multiple clicks.\n",
              "      quickchartButtonEl.classList.add('colab-df-spinner');\n",
              "      try {\n",
              "        const charts = await google.colab.kernel.invokeFunction(\n",
              "            'suggestCharts', [key], {});\n",
              "      } catch (error) {\n",
              "        console.error('Error during call to suggestCharts:', error);\n",
              "      }\n",
              "      quickchartButtonEl.classList.remove('colab-df-spinner');\n",
              "      quickchartButtonEl.classList.add('colab-df-quickchart-complete');\n",
              "    }\n",
              "    (() => {\n",
              "      let quickchartButtonEl =\n",
              "        document.querySelector('#df-5038a82a-5ed7-4d1c-bbeb-cf6b376ce25f button');\n",
              "      quickchartButtonEl.style.display =\n",
              "        google.colab.kernel.accessAllowed ? 'block' : 'none';\n",
              "    })();\n",
              "  </script>\n",
              "</div>\n",
              "\n",
              "  <div id=\"id_7ecf9dc7-10f6-43df-885c-1353beebe6dc\">\n",
              "    <style>\n",
              "      .colab-df-generate {\n",
              "        background-color: #E8F0FE;\n",
              "        border: none;\n",
              "        border-radius: 50%;\n",
              "        cursor: pointer;\n",
              "        display: none;\n",
              "        fill: #1967D2;\n",
              "        height: 32px;\n",
              "        padding: 0 0 0 0;\n",
              "        width: 32px;\n",
              "      }\n",
              "\n",
              "      .colab-df-generate:hover {\n",
              "        background-color: #E2EBFA;\n",
              "        box-shadow: 0px 1px 2px rgba(60, 64, 67, 0.3), 0px 1px 3px 1px rgba(60, 64, 67, 0.15);\n",
              "        fill: #174EA6;\n",
              "      }\n",
              "\n",
              "      [theme=dark] .colab-df-generate {\n",
              "        background-color: #3B4455;\n",
              "        fill: #D2E3FC;\n",
              "      }\n",
              "\n",
              "      [theme=dark] .colab-df-generate:hover {\n",
              "        background-color: #434B5C;\n",
              "        box-shadow: 0px 1px 3px 1px rgba(0, 0, 0, 0.15);\n",
              "        filter: drop-shadow(0px 1px 2px rgba(0, 0, 0, 0.3));\n",
              "        fill: #FFFFFF;\n",
              "      }\n",
              "    </style>\n",
              "    <button class=\"colab-df-generate\" onclick=\"generateWithVariable('df')\"\n",
              "            title=\"Generate code using this dataframe.\"\n",
              "            style=\"display:none;\">\n",
              "\n",
              "  <svg xmlns=\"http://www.w3.org/2000/svg\" height=\"24px\"viewBox=\"0 0 24 24\"\n",
              "       width=\"24px\">\n",
              "    <path d=\"M7,19H8.4L18.45,9,17,7.55,7,17.6ZM5,21V16.75L18.45,3.32a2,2,0,0,1,2.83,0l1.4,1.43a1.91,1.91,0,0,1,.58,1.4,1.91,1.91,0,0,1-.58,1.4L9.25,21ZM18.45,9,17,7.55Zm-12,3A5.31,5.31,0,0,0,4.9,8.1,5.31,5.31,0,0,0,1,6.5,5.31,5.31,0,0,0,4.9,4.9,5.31,5.31,0,0,0,6.5,1,5.31,5.31,0,0,0,8.1,4.9,5.31,5.31,0,0,0,12,6.5,5.46,5.46,0,0,0,6.5,12Z\"/>\n",
              "  </svg>\n",
              "    </button>\n",
              "    <script>\n",
              "      (() => {\n",
              "      const buttonEl =\n",
              "        document.querySelector('#id_7ecf9dc7-10f6-43df-885c-1353beebe6dc button.colab-df-generate');\n",
              "      buttonEl.style.display =\n",
              "        google.colab.kernel.accessAllowed ? 'block' : 'none';\n",
              "\n",
              "      buttonEl.onclick = () => {\n",
              "        google.colab.notebook.generateWithVariable('df');\n",
              "      }\n",
              "      })();\n",
              "    </script>\n",
              "  </div>\n",
              "\n",
              "    </div>\n",
              "  </div>\n"
            ],
            "application/vnd.google.colaboratory.intrinsic+json": {
              "type": "dataframe",
              "variable_name": "df",
              "summary": "{\n  \"name\": \"df\",\n  \"rows\": 10,\n  \"fields\": [\n    {\n      \"column\": \"Sigmoid\",\n      \"properties\": {\n        \"dtype\": \"number\",\n        \"std\": 0.11282833568449607,\n        \"min\": 0.37,\n        \"max\": 0.7,\n        \"num_unique_values\": 10,\n        \"samples\": [\n          0.696,\n          0.7,\n          0.507\n        ],\n        \"semantic_type\": \"\",\n        \"description\": \"\"\n      }\n    },\n    {\n      \"column\": \"Hyperbolic tangent\",\n      \"properties\": {\n        \"dtype\": \"number\",\n        \"std\": 0.11200798582640835,\n        \"min\": 0.492,\n        \"max\": 0.812,\n        \"num_unique_values\": 10,\n        \"samples\": [\n          0.774,\n          0.812,\n          0.609\n        ],\n        \"semantic_type\": \"\",\n        \"description\": \"\"\n      }\n    },\n    {\n      \"column\": \"ReLU\",\n      \"properties\": {\n        \"dtype\": \"number\",\n        \"std\": 0.11196829908505355,\n        \"min\": 0.57,\n        \"max\": 0.836,\n        \"num_unique_values\": 9,\n        \"samples\": [\n          0.831,\n          0.836,\n          0.81\n        ],\n        \"semantic_type\": \"\",\n        \"description\": \"\"\n      }\n    },\n    {\n      \"column\": \"ELU\",\n      \"properties\": {\n        \"dtype\": \"number\",\n        \"std\": 0.1432010630003997,\n        \"min\": 0.44,\n        \"max\": 0.869,\n        \"num_unique_values\": 10,\n        \"samples\": [\n          0.839,\n          0.794,\n          0.595\n        ],\n        \"semantic_type\": \"\",\n        \"description\": \"\"\n      }\n    },\n    {\n      \"column\": \"SELU\",\n      \"properties\": {\n        \"dtype\": \"number\",\n        \"std\": 0.1361647694686274,\n        \"min\": 0.421,\n        \"max\": 0.796,\n        \"num_unique_values\": 10,\n        \"samples\": [\n          0.779,\n          0.796,\n          0.544\n        ],\n        \"semantic_type\": \"\",\n        \"description\": \"\"\n      }\n    }\n  ]\n}"
            }
          },
          "metadata": {},
          "execution_count": 45
        }
      ]
    },
    {
      "cell_type": "markdown",
      "source": [
        "Notice that each model is struggling with classifing birds, while it is relatively easy to distinguish car from the rest. This might be caused by the fact that bird is both animal and is flying, which is common for more classes in our dataset."
      ],
      "metadata": {
        "id": "PsIZmMtgMbTQ"
      }
    }
  ],
  "metadata": {
    "accelerator": "TPU",
    "colab": {
      "collapsed_sections": [
        "XG9VoBsR9auy",
        "ZmGK0zDMdM5l",
        "yIgKg7yd-PXv",
        "43KA_yJlJIeE",
        "khmCdzS3KXgg",
        "hwyF6e5HPBPR",
        "cKI91gRjRmRq",
        "k09ZOcxQ9UdF",
        "5ePMqwaJ9dKQ",
        "76UAhusV-jvr",
        "Pzl5pF99-mBz"
      ],
      "gpuType": "V28",
      "provenance": []
    },
    "kernelspec": {
      "display_name": "Python 3",
      "name": "python3"
    },
    "language_info": {
      "name": "python"
    }
  },
  "nbformat": 4,
  "nbformat_minor": 0
}